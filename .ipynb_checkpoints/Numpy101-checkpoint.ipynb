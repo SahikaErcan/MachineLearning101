{
 "cells": [
  {
   "cell_type": "markdown",
   "id": "20a002cd",
   "metadata": {},
   "source": [
    "# NUMPY KÜTÜPHANESİ"
   ]
  },
  {
   "cell_type": "markdown",
   "id": "db6f6d8e",
   "metadata": {},
   "source": [
    "NumPy yani Numerical Python, çok boyutlu dizilerle ve matrislerle çalışmamızı sağlayan ve matematiksel işlemler yapabildiğimiz bir kütüphanedir. Numpy ile Python'un mevcut dizilerine oranla daha verimli ve daha az kodla matematiksel işlemler yapabiliriz.\n",
    "\n",
    "Python’da dizilerin amacına hizmet eden listelerimiz var, ancak işlenmesi yavaştır. NumPy, geleneksel Python listelerinden 50 kata kadar daha hızlı bir dizi nesnesi sağlamayı amaçlamaktadır. \n",
    "\n",
    "NumPy bir Python kütüphanesidir ve kısmen Python’da yazılmıştır, ancak hızlı hesaplama gerektiren parçaların çoğu C veya C ++ ile yazılmıştır.\n",
    "\n",
    "Numpy, Python’daki dizilerden (list, tuple) farklı olarak her bir elemanının aynı türde olduğu sayısal dizileri içermektedir.\n",
    "\n",
    "NumPy’deki dizi nesnesi (array) ndarray olarak adlandırılır ve ndarray, çalışmayı çok kolaylaştıran birçok destekleyici işlev sağlar. NumPy dizileri ile standart Python dizileri arasında bazı farklar vardır. \n",
    "\n",
    "Standart Python listeleri dinamik olarak büyüyebilen diziler iken, NumPy dizileri oluşturulurken sabit bir boyuta sahiptir. Bir ndarray boyutunu değiştirdiğinizde yeni bir dizi oluşturulur ve orjinali silinir.\n",
    "\n",
    "Numpy ile çok boyutlu dizi işlemleri döngü kullanmadan hızlı bir şekilde yapılabilir. Daha az bellek gerektirir, hızlı ve kullanışlıdır.\n",
    "\n",
    "NumPy, çok çeşitli donanım ve bilgi işlem platformlarını destekler ve dağıtılmış, GPU ve seyrek dizi kitaplıklarıyla iyi çalışır."
   ]
  },
  {
   "cell_type": "code",
   "execution_count": 1,
   "id": "4df66f84",
   "metadata": {},
   "outputs": [],
   "source": [
    "import numpy as np"
   ]
  },
  {
   "cell_type": "code",
   "execution_count": 3,
   "id": "cb9827b7",
   "metadata": {},
   "outputs": [
    {
     "data": {
      "text/plain": [
       "'1.21.5'"
      ]
     },
     "execution_count": 3,
     "metadata": {},
     "output_type": "execute_result"
    }
   ],
   "source": [
    "np.__version__   # numpy'ın yüklü olan versiyonunu elde ederiz."
   ]
  },
  {
   "cell_type": "code",
   "execution_count": 37,
   "id": "fff133dc",
   "metadata": {},
   "outputs": [
    {
     "data": {
      "text/plain": [
       "array([[ 0.4150363 ,  2.18458807],\n",
       "       [-0.74433735,  0.73148001],\n",
       "       [-0.23858096,  1.22440711]])"
      ]
     },
     "execution_count": 37,
     "metadata": {},
     "output_type": "execute_result"
    }
   ],
   "source": [
    "data = np.random.randn(3,2)  # 3 satır 2 kolon\n",
    "data"
   ]
  },
  {
   "cell_type": "code",
   "execution_count": 38,
   "id": "c7970631",
   "metadata": {},
   "outputs": [
    {
     "data": {
      "text/plain": [
       "array([[ 4.15036303, 21.84588065],\n",
       "       [-7.44337355,  7.31480007],\n",
       "       [-2.38580956, 12.24407111]])"
      ]
     },
     "execution_count": 38,
     "metadata": {},
     "output_type": "execute_result"
    }
   ],
   "source": [
    "data*10"
   ]
  },
  {
   "cell_type": "code",
   "execution_count": 39,
   "id": "44d8317d",
   "metadata": {},
   "outputs": [
    {
     "data": {
      "text/plain": [
       "array([[ 0.83007261,  4.36917613],\n",
       "       [-1.48867471,  1.46296001],\n",
       "       [-0.47716191,  2.44881422]])"
      ]
     },
     "execution_count": 39,
     "metadata": {},
     "output_type": "execute_result"
    }
   ],
   "source": [
    "data + data"
   ]
  },
  {
   "cell_type": "code",
   "execution_count": 40,
   "id": "8c433364",
   "metadata": {},
   "outputs": [
    {
     "data": {
      "text/plain": [
       "array([[ 2.40942778,  0.4577522 ],\n",
       "       [-1.34347684,  1.36709136],\n",
       "       [-4.19144939,  0.81672182]])"
      ]
     },
     "execution_count": 40,
     "metadata": {},
     "output_type": "execute_result"
    }
   ],
   "source": [
    "1 / data"
   ]
  },
  {
   "cell_type": "code",
   "execution_count": 7,
   "id": "8cf5a827",
   "metadata": {},
   "outputs": [
    {
     "data": {
      "text/plain": [
       "(3, 2)"
      ]
     },
     "execution_count": 7,
     "metadata": {},
     "output_type": "execute_result"
    }
   ],
   "source": [
    "data.shape"
   ]
  },
  {
   "cell_type": "code",
   "execution_count": 8,
   "id": "eb4f98ae",
   "metadata": {},
   "outputs": [
    {
     "data": {
      "text/plain": [
       "dtype('float64')"
      ]
     },
     "execution_count": 8,
     "metadata": {},
     "output_type": "execute_result"
    }
   ],
   "source": [
    "data.dtype"
   ]
  },
  {
   "cell_type": "markdown",
   "id": "2b856280",
   "metadata": {},
   "source": [
    "NumPy, dizilerle çalışmak için kullanılır. NumPy’deki dizi nesnesine ndarray denir. array() işlevini kullanarak bir NumPy ndarray nesnesi oluşturabiliriz."
   ]
  },
  {
   "cell_type": "code",
   "execution_count": 17,
   "id": "71c27895",
   "metadata": {},
   "outputs": [
    {
     "data": {
      "text/plain": [
       "array(23)"
      ]
     },
     "execution_count": 17,
     "metadata": {},
     "output_type": "execute_result"
    }
   ],
   "source": [
    "a = np.array(23)\n",
    "a"
   ]
  },
  {
   "cell_type": "code",
   "execution_count": 18,
   "id": "941cbbfa",
   "metadata": {},
   "outputs": [
    {
     "data": {
      "text/plain": [
       "array([3, 6, 5, 0, 1, 9])"
      ]
     },
     "execution_count": 18,
     "metadata": {},
     "output_type": "execute_result"
    }
   ],
   "source": [
    "b = np.array([3,6,5,0,1,9])\n",
    "b"
   ]
  },
  {
   "cell_type": "code",
   "execution_count": 19,
   "id": "ce98fc9a",
   "metadata": {},
   "outputs": [
    {
     "data": {
      "text/plain": [
       "array([[1, 2, 3],\n",
       "       [4, 5, 6]])"
      ]
     },
     "execution_count": 19,
     "metadata": {},
     "output_type": "execute_result"
    }
   ],
   "source": [
    "c = np.array([[1,2,3],[4,5,6]])\n",
    "c"
   ]
  },
  {
   "cell_type": "code",
   "execution_count": 20,
   "id": "8ffd6fea",
   "metadata": {},
   "outputs": [
    {
     "data": {
      "text/plain": [
       "array([[1, 2, 3],\n",
       "       [4, 5, 6],\n",
       "       [7, 8, 9]])"
      ]
     },
     "execution_count": 20,
     "metadata": {},
     "output_type": "execute_result"
    }
   ],
   "source": [
    "d = np.array([[1,2,3],[4,5,6],[7,8,9]])\n",
    "d"
   ]
  },
  {
   "cell_type": "code",
   "execution_count": 27,
   "id": "8efab6b1",
   "metadata": {},
   "outputs": [
    {
     "name": "stdout",
     "output_type": "stream",
     "text": [
      " 0 \n",
      " 1 \n",
      " 2 \n",
      " 2\n"
     ]
    }
   ],
   "source": [
    "print(\"\",a.ndim, \"\\n\", b.ndim, \"\\n\", c.ndim, \"\\n\", d.ndim)\n",
    "\n",
    "# oluşturduğumuz dizi boyutlarını gözlemleyelim."
   ]
  },
  {
   "cell_type": "code",
   "execution_count": 13,
   "id": "5e2d2e7e",
   "metadata": {},
   "outputs": [
    {
     "data": {
      "text/plain": [
       "array([0., 0., 0., 0., 0.])"
      ]
     },
     "execution_count": 13,
     "metadata": {},
     "output_type": "execute_result"
    }
   ],
   "source": [
    "np.zeros(5)"
   ]
  },
  {
   "cell_type": "code",
   "execution_count": 15,
   "id": "a7fc3917",
   "metadata": {},
   "outputs": [
    {
     "data": {
      "text/plain": [
       "array([1., 1., 1., 1., 1., 1., 1.])"
      ]
     },
     "execution_count": 15,
     "metadata": {},
     "output_type": "execute_result"
    }
   ],
   "source": [
    "np.ones(7)"
   ]
  },
  {
   "cell_type": "code",
   "execution_count": 29,
   "id": "40b04d20",
   "metadata": {},
   "outputs": [
    {
     "data": {
      "text/plain": [
       "array([0, 1, 2, 3, 4, 5, 6, 7, 8, 9])"
      ]
     },
     "execution_count": 29,
     "metadata": {},
     "output_type": "execute_result"
    }
   ],
   "source": [
    "np.arange(10)  # Bir dizi üretir."
   ]
  },
  {
   "cell_type": "markdown",
   "id": "5f7051aa",
   "metadata": {},
   "source": [
    "* Numpy sayısal hesaplamalar için kullanıldığı için özel olarak bir tip belirtilmediği sürece varsayılan olarak **float64** tipinde veriler üretir. Veri tipini belirtmek için **dtype** özelliğini kullanıyoruz."
   ]
  },
  {
   "cell_type": "code",
   "execution_count": 31,
   "id": "2723d369",
   "metadata": {},
   "outputs": [
    {
     "data": {
      "text/plain": [
       "array([1, 2, 3])"
      ]
     },
     "execution_count": 31,
     "metadata": {},
     "output_type": "execute_result"
    }
   ],
   "source": [
    "dizi = np.array([1,2,3], dtype=int)\n",
    "dizi"
   ]
  },
  {
   "cell_type": "code",
   "execution_count": 32,
   "id": "fb1eb1a6",
   "metadata": {},
   "outputs": [
    {
     "data": {
      "text/plain": [
       "dtype('int32')"
      ]
     },
     "execution_count": 32,
     "metadata": {},
     "output_type": "execute_result"
    }
   ],
   "source": [
    "dizi.dtype"
   ]
  },
  {
   "cell_type": "markdown",
   "id": "7cd11683",
   "metadata": {},
   "source": [
    "* Dizinin veri tipini değiştirmek için **astype()** fonksiyonu kullanılır."
   ]
  },
  {
   "cell_type": "code",
   "execution_count": 34,
   "id": "8ad74668",
   "metadata": {},
   "outputs": [
    {
     "data": {
      "text/plain": [
       "array([1., 2., 3.])"
      ]
     },
     "execution_count": 34,
     "metadata": {},
     "output_type": "execute_result"
    }
   ],
   "source": [
    "dizi = dizi.astype(np.float64)\n",
    "dizi"
   ]
  },
  {
   "cell_type": "code",
   "execution_count": 35,
   "id": "a57c2c39",
   "metadata": {},
   "outputs": [
    {
     "data": {
      "text/plain": [
       "dtype('float64')"
      ]
     },
     "execution_count": 35,
     "metadata": {},
     "output_type": "execute_result"
    }
   ],
   "source": [
    "dizi.dtype"
   ]
  },
  {
   "cell_type": "code",
   "execution_count": 41,
   "id": "1a2ae34f",
   "metadata": {},
   "outputs": [
    {
     "data": {
      "text/plain": [
       "array([2, 1, 4, 3, 5, 6, 8, 9, 7])"
      ]
     },
     "execution_count": 41,
     "metadata": {},
     "output_type": "execute_result"
    }
   ],
   "source": [
    "arr = np.array([2,1,4,3,5,6,8,9,7])\n",
    "arr"
   ]
  },
  {
   "cell_type": "code",
   "execution_count": 42,
   "id": "ac7cd5d8",
   "metadata": {},
   "outputs": [
    {
     "data": {
      "text/plain": [
       "5"
      ]
     },
     "execution_count": 42,
     "metadata": {},
     "output_type": "execute_result"
    }
   ],
   "source": [
    "arr[4]"
   ]
  },
  {
   "cell_type": "code",
   "execution_count": 43,
   "id": "bd997b42",
   "metadata": {},
   "outputs": [
    {
     "data": {
      "text/plain": [
       "array([4, 3, 5])"
      ]
     },
     "execution_count": 43,
     "metadata": {},
     "output_type": "execute_result"
    }
   ],
   "source": [
    "arr[2:5]"
   ]
  },
  {
   "cell_type": "code",
   "execution_count": 45,
   "id": "00fbf072",
   "metadata": {},
   "outputs": [
    {
     "data": {
      "text/plain": [
       "array([0, 0, 0, 0, 5, 6, 8, 9, 7])"
      ]
     },
     "execution_count": 45,
     "metadata": {},
     "output_type": "execute_result"
    }
   ],
   "source": [
    "arr[:4] = 0\n",
    "arr"
   ]
  },
  {
   "cell_type": "code",
   "execution_count": 47,
   "id": "b77842a5",
   "metadata": {},
   "outputs": [
    {
     "data": {
      "text/plain": [
       "array([[2, 3, 4],\n",
       "       [1, 2, 3],\n",
       "       [4, 3, 5]])"
      ]
     },
     "execution_count": 47,
     "metadata": {},
     "output_type": "execute_result"
    }
   ],
   "source": [
    "arr2 = np.array([[2,3,4],[1,2,3],[4,3,5]])\n",
    "arr2"
   ]
  },
  {
   "cell_type": "code",
   "execution_count": 48,
   "id": "64d3824c",
   "metadata": {},
   "outputs": [
    {
     "data": {
      "text/plain": [
       "array([2, 3, 4])"
      ]
     },
     "execution_count": 48,
     "metadata": {},
     "output_type": "execute_result"
    }
   ],
   "source": [
    "arr2[0]"
   ]
  },
  {
   "cell_type": "code",
   "execution_count": 50,
   "id": "f797145c",
   "metadata": {},
   "outputs": [
    {
     "data": {
      "text/plain": [
       "4"
      ]
     },
     "execution_count": 50,
     "metadata": {},
     "output_type": "execute_result"
    }
   ],
   "source": [
    "arr2[0][2]"
   ]
  },
  {
   "cell_type": "code",
   "execution_count": 51,
   "id": "dd0cb812",
   "metadata": {},
   "outputs": [
    {
     "data": {
      "text/plain": [
       "array([[2, 3, 4],\n",
       "       [1, 2, 3]])"
      ]
     },
     "execution_count": 51,
     "metadata": {},
     "output_type": "execute_result"
    }
   ],
   "source": [
    "arr2[0:2]"
   ]
  },
  {
   "cell_type": "code",
   "execution_count": 56,
   "id": "a906d2b6",
   "metadata": {},
   "outputs": [
    {
     "data": {
      "text/plain": [
       "array([2, 3])"
      ]
     },
     "execution_count": 56,
     "metadata": {},
     "output_type": "execute_result"
    }
   ],
   "source": [
    "arr2[0,:2]  # 1.bileşenin (1. satır) 2. index e kadar ki değerlerini çek"
   ]
  },
  {
   "cell_type": "code",
   "execution_count": 57,
   "id": "609acf9c",
   "metadata": {},
   "outputs": [
    {
     "data": {
      "text/plain": [
       "array([[2],\n",
       "       [1]])"
      ]
     },
     "execution_count": 57,
     "metadata": {},
     "output_type": "execute_result"
    }
   ],
   "source": [
    "arr2[:2,:1] # yatayda 0. ve 1. satır, dikeyde 0. kolon"
   ]
  },
  {
   "cell_type": "code",
   "execution_count": 58,
   "id": "5bf1efef",
   "metadata": {},
   "outputs": [
    {
     "data": {
      "text/plain": [
       "array(['Ali', 'Veli', 'Ayşe', 'Ali'], dtype='<U4')"
      ]
     },
     "execution_count": 58,
     "metadata": {},
     "output_type": "execute_result"
    }
   ],
   "source": [
    "isimler = np.array([\"Ali\",\"Veli\",\"Ayşe\",\"Ali\"])\n",
    "isimler"
   ]
  },
  {
   "cell_type": "code",
   "execution_count": 59,
   "id": "ca48c03f",
   "metadata": {},
   "outputs": [
    {
     "data": {
      "text/plain": [
       "array([[ 0.06445832, -2.9707153 , -0.82911706],\n",
       "       [-0.16107443, -0.50543677, -0.72229288],\n",
       "       [-1.09322602,  1.05285038, -1.56668385],\n",
       "       [-0.55025872, -1.39465633,  0.10293488]])"
      ]
     },
     "execution_count": 59,
     "metadata": {},
     "output_type": "execute_result"
    }
   ],
   "source": [
    "veri = np.random.randn(4,3)\n",
    "veri"
   ]
  },
  {
   "cell_type": "code",
   "execution_count": 60,
   "id": "8097d5ab",
   "metadata": {},
   "outputs": [
    {
     "data": {
      "text/plain": [
       "array([[ 0.06445832, -2.9707153 , -0.82911706],\n",
       "       [-0.55025872, -1.39465633,  0.10293488]])"
      ]
     },
     "execution_count": 60,
     "metadata": {},
     "output_type": "execute_result"
    }
   ],
   "source": [
    "# isimlerin verideki satırlara karşılık geldiğini farzedelim. Yani isimleri index gibi kullanalım.\n",
    "veri[isimler==\"Ali\"]  #Ali isimler dizisinde 0. ve 3. indexe karşılık geliyor. Verinin 0. ve 3. indexi"
   ]
  },
  {
   "cell_type": "code",
   "execution_count": 61,
   "id": "a4ba187a",
   "metadata": {},
   "outputs": [
    {
     "data": {
      "text/plain": [
       "array([[-2.9707153 , -0.82911706],\n",
       "       [-1.39465633,  0.10293488]])"
      ]
     },
     "execution_count": 61,
     "metadata": {},
     "output_type": "execute_result"
    }
   ],
   "source": [
    "veri[isimler==\"Ali\", 1:]  # kolon bazında 1. indexden sonrakileri alır"
   ]
  },
  {
   "cell_type": "code",
   "execution_count": 62,
   "id": "601ffa8b",
   "metadata": {},
   "outputs": [
    {
     "data": {
      "text/plain": [
       "array([[-0.16107443, -0.50543677, -0.72229288],\n",
       "       [-1.09322602,  1.05285038, -1.56668385]])"
      ]
     },
     "execution_count": 62,
     "metadata": {},
     "output_type": "execute_result"
    }
   ],
   "source": [
    "veri[~(isimler==\"Ali\")]  # \"~\" işareti ile Ali ismine karşılık gelmeyen elemanları verir.\n",
    "\n",
    "# ~ ters işlemler için kullanılır."
   ]
  },
  {
   "cell_type": "code",
   "execution_count": 63,
   "id": "123d5f74",
   "metadata": {},
   "outputs": [
    {
     "data": {
      "text/plain": [
       "array([[ 0.06445832, -2.9707153 , -0.82911706],\n",
       "       [-0.16107443, -0.50543677, -0.72229288],\n",
       "       [-0.55025872, -1.39465633,  0.10293488]])"
      ]
     },
     "execution_count": 63,
     "metadata": {},
     "output_type": "execute_result"
    }
   ],
   "source": [
    "sec = (isimler == \"Ali\") | (isimler == \"Veli\")\n",
    "veri[sec]"
   ]
  },
  {
   "cell_type": "code",
   "execution_count": 65,
   "id": "7e3eb3ef",
   "metadata": {},
   "outputs": [
    {
     "data": {
      "text/plain": [
       "array([[0.06445832, 0.        , 0.        ],\n",
       "       [0.        , 0.        , 0.        ],\n",
       "       [0.        , 1.05285038, 0.        ],\n",
       "       [0.        , 0.        , 0.10293488]])"
      ]
     },
     "execution_count": 65,
     "metadata": {},
     "output_type": "execute_result"
    }
   ],
   "source": [
    "veri[veri<0] = 0  # veri içerisinde 0 dan küçük elemanlar yerine 0 değerini atar.\n",
    "veri"
   ]
  },
  {
   "cell_type": "code",
   "execution_count": 66,
   "id": "3cca83f7",
   "metadata": {},
   "outputs": [
    {
     "data": {
      "text/plain": [
       "array([[ 0,  1,  2,  3],\n",
       "       [ 4,  5,  6,  7],\n",
       "       [ 8,  9, 10, 11]])"
      ]
     },
     "execution_count": 66,
     "metadata": {},
     "output_type": "execute_result"
    }
   ],
   "source": [
    "dizi = np.arange(12).reshape(3,4) \n",
    "dizi\n",
    "\n",
    "# Önce 12 elemanlı bir dizi oluşturuyor sonra da bu diziyi 3 satır 4 sütundan oluşan\n",
    "# çok boyutlu bir diziye dönüştüüryoruz."
   ]
  },
  {
   "cell_type": "code",
   "execution_count": 67,
   "id": "f3b5d263",
   "metadata": {},
   "outputs": [
    {
     "data": {
      "text/plain": [
       "array([[ 0,  4,  8],\n",
       "       [ 1,  5,  9],\n",
       "       [ 2,  6, 10],\n",
       "       [ 3,  7, 11]])"
      ]
     },
     "execution_count": 67,
     "metadata": {},
     "output_type": "execute_result"
    }
   ],
   "source": [
    "dizi.T  # dizinin transpozunu verir. Transpoz: Satırlar ve sütunların yer değiştirme halidir."
   ]
  },
  {
   "cell_type": "code",
   "execution_count": 69,
   "id": "dbe1ea1e",
   "metadata": {},
   "outputs": [
    {
     "data": {
      "text/plain": [
       "array([[ 80,  92, 104, 116],\n",
       "       [ 92, 107, 122, 137],\n",
       "       [104, 122, 140, 158],\n",
       "       [116, 137, 158, 179]])"
      ]
     },
     "execution_count": 69,
     "metadata": {},
     "output_type": "execute_result"
    }
   ],
   "source": [
    "# dizilerin matris çarpımı için dot() metodu kullanılır.\n",
    "\n",
    "np.dot(dizi.T, dizi)  # diziyi dizinin transpozu ile çarpar"
   ]
  },
  {
   "cell_type": "code",
   "execution_count": 70,
   "id": "bafe2890",
   "metadata": {},
   "outputs": [
    {
     "data": {
      "text/plain": [
       "5.5"
      ]
     },
     "execution_count": 70,
     "metadata": {},
     "output_type": "execute_result"
    }
   ],
   "source": [
    "dizi.mean()"
   ]
  },
  {
   "cell_type": "code",
   "execution_count": 71,
   "id": "a4ec0b4a",
   "metadata": {},
   "outputs": [
    {
     "data": {
      "text/plain": [
       "66"
      ]
     },
     "execution_count": 71,
     "metadata": {},
     "output_type": "execute_result"
    }
   ],
   "source": [
    "dizi.sum()"
   ]
  },
  {
   "cell_type": "code",
   "execution_count": 74,
   "id": "1dfed4dd",
   "metadata": {},
   "outputs": [
    {
     "data": {
      "text/plain": [
       "array([1.5, 5.5, 9.5])"
      ]
     },
     "execution_count": 74,
     "metadata": {},
     "output_type": "execute_result"
    }
   ],
   "source": [
    "dizi.mean(axis = 1)  # satırların ortalamasını verir."
   ]
  },
  {
   "cell_type": "code",
   "execution_count": 75,
   "id": "f7e93c79",
   "metadata": {},
   "outputs": [
    {
     "data": {
      "text/plain": [
       "array([4., 5., 6., 7.])"
      ]
     },
     "execution_count": 75,
     "metadata": {},
     "output_type": "execute_result"
    }
   ],
   "source": [
    "dizi.mean(axis = 0) # sütunların ortalamasını verir."
   ]
  },
  {
   "cell_type": "code",
   "execution_count": 76,
   "id": "ab025d50",
   "metadata": {},
   "outputs": [
    {
     "data": {
      "text/plain": [
       "array([[ 0,  1,  2,  3],\n",
       "       [ 4,  5,  6,  7],\n",
       "       [ 8,  9, 10, 11]])"
      ]
     },
     "execution_count": 76,
     "metadata": {},
     "output_type": "execute_result"
    }
   ],
   "source": [
    "dizi.sort()  # dizi elemanları sıralanır.\n",
    "dizi"
   ]
  },
  {
   "cell_type": "code",
   "execution_count": 77,
   "id": "27504314",
   "metadata": {},
   "outputs": [
    {
     "data": {
      "text/plain": [
       "array([1, 2, 3])"
      ]
     },
     "execution_count": 77,
     "metadata": {},
     "output_type": "execute_result"
    }
   ],
   "source": [
    "say = np.array([1,1,1,2,3])\n",
    "np.unique(say)  # tekrar eden elemanlardan sadece 1 ini alır."
   ]
  },
  {
   "cell_type": "code",
   "execution_count": null,
   "id": "453a857f",
   "metadata": {},
   "outputs": [],
   "source": [
    "dizi = np.array(10)\n",
    "np.save(\"bir_dizi\", dizi)  # bir_dizi isminde çalışma dizinine kaydedilir."
   ]
  }
 ],
 "metadata": {
  "kernelspec": {
   "display_name": "Python 3 (ipykernel)",
   "language": "python",
   "name": "python3"
  },
  "language_info": {
   "codemirror_mode": {
    "name": "ipython",
    "version": 3
   },
   "file_extension": ".py",
   "mimetype": "text/x-python",
   "name": "python",
   "nbconvert_exporter": "python",
   "pygments_lexer": "ipython3",
   "version": "3.9.12"
  }
 },
 "nbformat": 4,
 "nbformat_minor": 5
}
