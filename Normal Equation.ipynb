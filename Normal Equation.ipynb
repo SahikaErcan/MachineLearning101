{
 "cells": [
  {
   "cell_type": "markdown",
   "id": "be8fb672",
   "metadata": {},
   "source": [
    "Normal Denklem , En Küçük Kare Maliyet Fonksiyonlu Doğrusal Regresyona analitik bir yaklaşımdır. θ değerini Gradient Descent kullanmadan doğrudan bulabiliriz . Bu yaklaşımı izlemek, küçük özelliklere sahip bir veri kümesiyle çalışırken etkili ve zaman kazandıran bir seçenektir. Normal Denklem yöntemi, herhangi bir fonksiyonun türevinin ve kısmi türevinin minimum ve maksimum noktasında sıfır olacağı matematiksel maksimum ve minimum kavramına dayanır. Yani Normal Denklem yönteminde, Maliyet fonksiyonunun minimum değerini, her ağırlığa göre kısmi türevini wrt bulup sıfıra eşitleyerek elde ederiz."
   ]
  },
  {
   "attachments": {},
   "cell_type": "markdown",
   "id": "ed61a6a9",
   "metadata": {},
   "source": [
    "Normal denklem, genel minimumu veya maliyetin minimum olduğu ağırlıkları (W) bulmak için başka bir yaklaşımdır.\n",
    "\n",
    "* Bazı doğrusal regresyon problemleri için Normal denklem daha iyi çözüm sağlar.\n",
    "* Normal denklem W'yi analitik olarak çözerken, gradyan iniş yinelemeli bir süreçtir.\n",
    "\n",
    "### Gradyan iniş ve Normal Denklem Arasındaki Karşılaştırma\n",
    "\n",
    "#### Gradient Descent\n",
    "* Öğrenme oranını çok verimli bir şekilde seçmemiz gerekiyor, böylece maliyet küresel minimuma dönüşüyor.\n",
    "* Yinelemeli bir süreçtir, onu yavaşlatan birçok yinelemeye ihtiyaç duyar.\n",
    "* Özellikler büyük olduğunda (milyonların üzerinde) iyi çalışır.\n",
    "\n",
    "#### Normal Equation\n",
    "* Öğrenme oranını seçmeye gerek yoktur.\n",
    "* Normal denklem için iterasyon gerekmez.\n",
    "* Normal denklemin tersini hesaplaması gerektiğinden, az miktarda vadeli işlem için iyi çalışır."
   ]
  },
  {
   "cell_type": "code",
   "execution_count": null,
   "id": "100c1090",
   "metadata": {},
   "outputs": [],
   "source": []
  },
  {
   "cell_type": "code",
   "execution_count": null,
   "id": "d74ff08b",
   "metadata": {},
   "outputs": [],
   "source": []
  },
  {
   "cell_type": "markdown",
   "id": "3147d2c5",
   "metadata": {},
   "source": [
    "**Kaynaklar:**\n",
    "* https://towardsdatascience.com/performing-linear-regression-using-the-normal-equation-6372ed3c57\n",
    "* https://www.geeksforgeeks.org/ml-normal-equation-in-linear-regression/\n",
    "* https://medium.com/@mail2princeyadav/gradient-descent-and-normal-equation-132f7a4ddf7b"
   ]
  },
  {
   "cell_type": "code",
   "execution_count": null,
   "id": "76b526b7",
   "metadata": {},
   "outputs": [],
   "source": []
  }
 ],
 "metadata": {
  "kernelspec": {
   "display_name": "Python 3 (ipykernel)",
   "language": "python",
   "name": "python3"
  },
  "language_info": {
   "codemirror_mode": {
    "name": "ipython",
    "version": 3
   },
   "file_extension": ".py",
   "mimetype": "text/x-python",
   "name": "python",
   "nbconvert_exporter": "python",
   "pygments_lexer": "ipython3",
   "version": "3.9.12"
  }
 },
 "nbformat": 4,
 "nbformat_minor": 5
}
