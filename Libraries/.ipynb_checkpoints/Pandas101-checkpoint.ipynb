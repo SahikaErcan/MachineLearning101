{
 "cells": [
  {
   "cell_type": "markdown",
   "id": "fcc1271a",
   "metadata": {},
   "source": [
    "# PANDAS\n",
    "\n",
    "Günümüzde veri miktarı gelişen teknoloji ile her geçen gün artmaktadır. Veriler üzerinde işlem yapmak istenildiğinde verinin kaliteli olması beklenir. Pandas kütüphanesi de bu amaca hizmet etmektedir. Python programlama dilinin en önemli kütüphanelerinden biri olan Pandas kütüphanesi ile veri okuma, veri ön işleme, veri temizleme gibi işlemler gerçekleştirilir.\n",
    "> Pandas kütüphanesini kullanabilmek için import etmemiz gerekir. Kütüphaneyi şu şekilde import ederiz;\n",
    "> * **import pandas**\n",
    "> \n",
    ">Kütüphaneyi import ettikten sonra kullanacağımız her metot için “pandas.” ifadesini kullanmamız gerekir. Bunun yerine  genellikle \"pd\" kısaltması kullanılır. Bu kısaltmayı kullanabilmek için kütüphaneyi import ederken kısaltmadan önce \"as\" ifadesi kullanılır.\n",
    "> * **import pandas as pd** \n",
    "\n",
    "> Pandas kütüphanesinde kullanılan temel veri yapıları **Series** ve **DataFrame**‘dir. \n",
    "> * Series etiketli (index) verilerden oluşan tek boyutlu yapılardır ve farklı veri türlerinden oluşabilir. Serileri oluşturabilmek için liste, sözlük, tuple gibi yapılar kullanılabilir.\n",
    "> * DataFrame satır ve sütunlardan oluşan iki boyutlu bir yapıya sahiptir. Her sütunun aynı türden verileri içerdiği Sql, Excel gibi tablolara benzetilebilir.\n",
    "\n",
    "Kısa bir ön bilgilendirme ile giriş yaptıktan sonra uygulama adımına geçerek Pandas kütüphanesini incelemeye başlayalım.\n",
    "\n",
    "* Öncelikle pandas kütüphanesini import edip daha sonra tuple, sözlük ve liste tipinde veriler oluşturuyoruz."
   ]
  },
  {
   "cell_type": "code",
   "execution_count": 1,
   "id": "cbe47163",
   "metadata": {},
   "outputs": [],
   "source": [
    "import pandas as pd"
   ]
  },
  {
   "cell_type": "code",
   "execution_count": 2,
   "id": "66360ae0",
   "metadata": {},
   "outputs": [],
   "source": [
    "tuple_sr = (1,True,3,15,\"Ali\", 8,\"Kiraz\")\n",
    "dict_sr = {\"İzmir\":35, \"Ankara\":6, \"Adana\":1, \"Elazığ\":23, \"Konya\":42}\n",
    "list_sr = [1,\"Üzüm\",9,\"Elma\",7,85,\"Kayısı\"]"
   ]
  },
  {
   "cell_type": "markdown",
   "id": "3d33a964",
   "metadata": {},
   "source": [
    "* **\"pd.Series()\"** ifadesi ile liste, tuple, sözlük gibi yapılar Series veri yapısına dönüştürülür."
   ]
  },
  {
   "cell_type": "code",
   "execution_count": 3,
   "id": "73800182",
   "metadata": {
    "scrolled": true
   },
   "outputs": [
    {
     "data": {
      "text/plain": [
       "0        1\n",
       "1     True\n",
       "2        3\n",
       "3       15\n",
       "4      Ali\n",
       "5        8\n",
       "6    Kiraz\n",
       "dtype: object"
      ]
     },
     "execution_count": 3,
     "metadata": {},
     "output_type": "execute_result"
    }
   ],
   "source": [
    "pd.Series(tuple_sr)"
   ]
  },
  {
   "cell_type": "markdown",
   "id": "3c6013b0",
   "metadata": {},
   "source": [
    "* Seriler indexli bir yapıya sahiptir ve varsayılan olarak 0 dan başlarlar. Index değerlerini istediğimiz gibi değiştirebiliriz."
   ]
  },
  {
   "cell_type": "code",
   "execution_count": 4,
   "id": "5551d0e1",
   "metadata": {},
   "outputs": [
    {
     "data": {
      "text/plain": [
       "a        1\n",
       "b     True\n",
       "c        3\n",
       "d       15\n",
       "e      Ali\n",
       "f        8\n",
       "g    Kiraz\n",
       "dtype: object"
      ]
     },
     "execution_count": 4,
     "metadata": {},
     "output_type": "execute_result"
    }
   ],
   "source": [
    "pd.Series(tuple_sr, index=[\"a\",\"b\",\"c\",\"d\",\"e\",\"f\",\"g\"])"
   ]
  },
  {
   "cell_type": "code",
   "execution_count": 5,
   "id": "8f7c64ea",
   "metadata": {},
   "outputs": [
    {
     "data": {
      "text/plain": [
       "İzmir     35\n",
       "Ankara     6\n",
       "Adana      1\n",
       "Elazığ    23\n",
       "Konya     42\n",
       "dtype: int64"
      ]
     },
     "execution_count": 5,
     "metadata": {},
     "output_type": "execute_result"
    }
   ],
   "source": [
    "pd.Series(dict_sr)"
   ]
  },
  {
   "cell_type": "code",
   "execution_count": 6,
   "id": "39b49182",
   "metadata": {},
   "outputs": [
    {
     "data": {
      "text/plain": [
       "0         1\n",
       "1      Üzüm\n",
       "2         9\n",
       "3      Elma\n",
       "4         7\n",
       "5        85\n",
       "6    Kayısı\n",
       "dtype: object"
      ]
     },
     "execution_count": 6,
     "metadata": {},
     "output_type": "execute_result"
    }
   ],
   "source": [
    "sr = pd.Series(list_sr)\n",
    "sr"
   ]
  },
  {
   "cell_type": "code",
   "execution_count": 7,
   "id": "1cbf5d9d",
   "metadata": {
    "scrolled": false
   },
   "outputs": [
    {
     "data": {
      "text/plain": [
       "pandas.core.series.Series"
      ]
     },
     "execution_count": 7,
     "metadata": {},
     "output_type": "execute_result"
    }
   ],
   "source": [
    "type(sr)  "
   ]
  },
  {
   "cell_type": "code",
   "execution_count": 8,
   "id": "bae479c4",
   "metadata": {},
   "outputs": [
    {
     "data": {
      "text/plain": [
       "dtype('O')"
      ]
     },
     "execution_count": 8,
     "metadata": {},
     "output_type": "execute_result"
    }
   ],
   "source": [
    "sr.dtype  # \"O\" çıktısı bize verinin \"object\" tipinde olduğunu ifade ediyor."
   ]
  },
  {
   "cell_type": "code",
   "execution_count": 9,
   "id": "b2c51628",
   "metadata": {},
   "outputs": [
    {
     "data": {
      "text/plain": [
       "RangeIndex(start=0, stop=7, step=1)"
      ]
     },
     "execution_count": 9,
     "metadata": {},
     "output_type": "execute_result"
    }
   ],
   "source": [
    "sr.index # Verinin hangi aralıkta indexlendiği bilgisini bize verir."
   ]
  },
  {
   "cell_type": "code",
   "execution_count": 10,
   "id": "74848668",
   "metadata": {},
   "outputs": [
    {
     "data": {
      "text/plain": [
       "array([1, 'Üzüm', 9, 'Elma', 7, 85, 'Kayısı'], dtype=object)"
      ]
     },
     "execution_count": 10,
     "metadata": {},
     "output_type": "execute_result"
    }
   ],
   "source": [
    "sr.values  # sr serisindeki verileri dizi formunda çağırmak istersek \"values\" ifadesini kullanmamız gerekir."
   ]
  },
  {
   "cell_type": "code",
   "execution_count": 11,
   "id": "74149d7f",
   "metadata": {},
   "outputs": [
    {
     "data": {
      "text/plain": [
       "'Üzüm'"
      ]
     },
     "execution_count": 11,
     "metadata": {},
     "output_type": "execute_result"
    }
   ],
   "source": [
    "sr[1]  # Bu şekilde yazdığımızda 1. indexdeki elemanın gelmesini bekleriz."
   ]
  },
  {
   "cell_type": "code",
   "execution_count": 12,
   "id": "fd4971d1",
   "metadata": {},
   "outputs": [
    {
     "data": {
      "text/plain": [
       "0       1\n",
       "1    Üzüm\n",
       "2       9\n",
       "3    Elma\n",
       "4       7\n",
       "dtype: object"
      ]
     },
     "execution_count": 12,
     "metadata": {},
     "output_type": "execute_result"
    }
   ],
   "source": [
    "sr[:5] # 0. indexden başlayıp 5. indexe kadar olan verileri bastırır. 5. index dahil değildir."
   ]
  },
  {
   "cell_type": "markdown",
   "id": "b57a25a1",
   "metadata": {},
   "source": [
    "* Ankara'nın aylara göre **\"ortalama sıcaklık, ortalama en yüksek ve en düşük sıcaklık, ortalama yağışlı gün sayısı\"** bilgilerini içeren veri setimiz aşağıdaki gibidir."
   ]
  },
  {
   "cell_type": "code",
   "execution_count": 13,
   "id": "21274d0d",
   "metadata": {},
   "outputs": [],
   "source": [
    "average_weather_data = {\n",
    "    'months': ['January', 'February','March','April','May','June','July','August','September','October','November','December'],\n",
    "    'average_temperature': [0.9, 2.7, 6.7, 11.5, 16.5, 20.6, 24.2, 24.3, 19.6, 13.9, 7.3, 2.8],\n",
    "    'average_maximum_temperature': [4.7, 7.4, 12.2, 17.5, 22.8, 27.3, 31.0, 31.0, 26.5, 20.3, 13.0, 6.7],\n",
    "    'average_lowest_temperature': [-2.2, -1.2, 1.9, 6.0, 10.5, 14.1, 17.2, 17.4, 13.1, 8.4, 2.7, -0.3],\n",
    "    'average_number_of_rainy_days': [13.6, 12.6, 13.8, 13.4, 14.5, 11.4, 4.6, 5.1, 5.5, 9.2, 8.9, 14.0]\n",
    "}"
   ]
  },
  {
   "cell_type": "markdown",
   "id": "9bf9141c",
   "metadata": {},
   "source": [
    "* Sözlük tipindeki verimizi DataFrame yapısına çevirelim."
   ]
  },
  {
   "cell_type": "code",
   "execution_count": 14,
   "id": "1a33d1e0",
   "metadata": {},
   "outputs": [
    {
     "data": {
      "text/html": [
       "<div>\n",
       "<style scoped>\n",
       "    .dataframe tbody tr th:only-of-type {\n",
       "        vertical-align: middle;\n",
       "    }\n",
       "\n",
       "    .dataframe tbody tr th {\n",
       "        vertical-align: top;\n",
       "    }\n",
       "\n",
       "    .dataframe thead th {\n",
       "        text-align: right;\n",
       "    }\n",
       "</style>\n",
       "<table border=\"1\" class=\"dataframe\">\n",
       "  <thead>\n",
       "    <tr style=\"text-align: right;\">\n",
       "      <th></th>\n",
       "      <th>months</th>\n",
       "      <th>average_temperature</th>\n",
       "      <th>average_maximum_temperature</th>\n",
       "      <th>average_lowest_temperature</th>\n",
       "      <th>average_number_of_rainy_days</th>\n",
       "    </tr>\n",
       "  </thead>\n",
       "  <tbody>\n",
       "    <tr>\n",
       "      <th>0</th>\n",
       "      <td>January</td>\n",
       "      <td>0.9</td>\n",
       "      <td>4.7</td>\n",
       "      <td>-2.2</td>\n",
       "      <td>13.6</td>\n",
       "    </tr>\n",
       "    <tr>\n",
       "      <th>1</th>\n",
       "      <td>February</td>\n",
       "      <td>2.7</td>\n",
       "      <td>7.4</td>\n",
       "      <td>-1.2</td>\n",
       "      <td>12.6</td>\n",
       "    </tr>\n",
       "    <tr>\n",
       "      <th>2</th>\n",
       "      <td>March</td>\n",
       "      <td>6.7</td>\n",
       "      <td>12.2</td>\n",
       "      <td>1.9</td>\n",
       "      <td>13.8</td>\n",
       "    </tr>\n",
       "    <tr>\n",
       "      <th>3</th>\n",
       "      <td>April</td>\n",
       "      <td>11.5</td>\n",
       "      <td>17.5</td>\n",
       "      <td>6.0</td>\n",
       "      <td>13.4</td>\n",
       "    </tr>\n",
       "    <tr>\n",
       "      <th>4</th>\n",
       "      <td>May</td>\n",
       "      <td>16.5</td>\n",
       "      <td>22.8</td>\n",
       "      <td>10.5</td>\n",
       "      <td>14.5</td>\n",
       "    </tr>\n",
       "    <tr>\n",
       "      <th>5</th>\n",
       "      <td>June</td>\n",
       "      <td>20.6</td>\n",
       "      <td>27.3</td>\n",
       "      <td>14.1</td>\n",
       "      <td>11.4</td>\n",
       "    </tr>\n",
       "    <tr>\n",
       "      <th>6</th>\n",
       "      <td>July</td>\n",
       "      <td>24.2</td>\n",
       "      <td>31.0</td>\n",
       "      <td>17.2</td>\n",
       "      <td>4.6</td>\n",
       "    </tr>\n",
       "    <tr>\n",
       "      <th>7</th>\n",
       "      <td>August</td>\n",
       "      <td>24.3</td>\n",
       "      <td>31.0</td>\n",
       "      <td>17.4</td>\n",
       "      <td>5.1</td>\n",
       "    </tr>\n",
       "    <tr>\n",
       "      <th>8</th>\n",
       "      <td>September</td>\n",
       "      <td>19.6</td>\n",
       "      <td>26.5</td>\n",
       "      <td>13.1</td>\n",
       "      <td>5.5</td>\n",
       "    </tr>\n",
       "    <tr>\n",
       "      <th>9</th>\n",
       "      <td>October</td>\n",
       "      <td>13.9</td>\n",
       "      <td>20.3</td>\n",
       "      <td>8.4</td>\n",
       "      <td>9.2</td>\n",
       "    </tr>\n",
       "    <tr>\n",
       "      <th>10</th>\n",
       "      <td>November</td>\n",
       "      <td>7.3</td>\n",
       "      <td>13.0</td>\n",
       "      <td>2.7</td>\n",
       "      <td>8.9</td>\n",
       "    </tr>\n",
       "    <tr>\n",
       "      <th>11</th>\n",
       "      <td>December</td>\n",
       "      <td>2.8</td>\n",
       "      <td>6.7</td>\n",
       "      <td>-0.3</td>\n",
       "      <td>14.0</td>\n",
       "    </tr>\n",
       "  </tbody>\n",
       "</table>\n",
       "</div>"
      ],
      "text/plain": [
       "       months  average_temperature  average_maximum_temperature  \\\n",
       "0     January                  0.9                          4.7   \n",
       "1    February                  2.7                          7.4   \n",
       "2       March                  6.7                         12.2   \n",
       "3       April                 11.5                         17.5   \n",
       "4         May                 16.5                         22.8   \n",
       "5        June                 20.6                         27.3   \n",
       "6        July                 24.2                         31.0   \n",
       "7      August                 24.3                         31.0   \n",
       "8   September                 19.6                         26.5   \n",
       "9     October                 13.9                         20.3   \n",
       "10   November                  7.3                         13.0   \n",
       "11   December                  2.8                          6.7   \n",
       "\n",
       "    average_lowest_temperature  average_number_of_rainy_days  \n",
       "0                         -2.2                          13.6  \n",
       "1                         -1.2                          12.6  \n",
       "2                          1.9                          13.8  \n",
       "3                          6.0                          13.4  \n",
       "4                         10.5                          14.5  \n",
       "5                         14.1                          11.4  \n",
       "6                         17.2                           4.6  \n",
       "7                         17.4                           5.1  \n",
       "8                         13.1                           5.5  \n",
       "9                          8.4                           9.2  \n",
       "10                         2.7                           8.9  \n",
       "11                        -0.3                          14.0  "
      ]
     },
     "execution_count": 14,
     "metadata": {},
     "output_type": "execute_result"
    }
   ],
   "source": [
    "pd.DataFrame(average_weather_data)"
   ]
  },
  {
   "cell_type": "markdown",
   "id": "5ffee34e",
   "metadata": {},
   "source": [
    "* Bu veri setini .csv dosyası üzerinden okuyalım.\n",
    "\n",
    "csv dosyasını direk okuyabilmek için proje ile csv dosyasının konumları aynı olmalıdır."
   ]
  },
  {
   "cell_type": "code",
   "execution_count": 15,
   "id": "8d0191b3",
   "metadata": {
    "scrolled": false
   },
   "outputs": [
    {
     "data": {
      "text/html": [
       "<div>\n",
       "<style scoped>\n",
       "    .dataframe tbody tr th:only-of-type {\n",
       "        vertical-align: middle;\n",
       "    }\n",
       "\n",
       "    .dataframe tbody tr th {\n",
       "        vertical-align: top;\n",
       "    }\n",
       "\n",
       "    .dataframe thead th {\n",
       "        text-align: right;\n",
       "    }\n",
       "</style>\n",
       "<table border=\"1\" class=\"dataframe\">\n",
       "  <thead>\n",
       "    <tr style=\"text-align: right;\">\n",
       "      <th></th>\n",
       "      <th>months</th>\n",
       "      <th>average_temperature</th>\n",
       "      <th>average_maximum_temperature</th>\n",
       "      <th>average_lowest_temperature</th>\n",
       "      <th>average_number_of_rainy_days</th>\n",
       "    </tr>\n",
       "  </thead>\n",
       "  <tbody>\n",
       "    <tr>\n",
       "      <th>0</th>\n",
       "      <td>January</td>\n",
       "      <td>0.9</td>\n",
       "      <td>4.7</td>\n",
       "      <td>-2.2</td>\n",
       "      <td>13.6</td>\n",
       "    </tr>\n",
       "    <tr>\n",
       "      <th>1</th>\n",
       "      <td>February</td>\n",
       "      <td>2.7</td>\n",
       "      <td>7.4</td>\n",
       "      <td>-1.2</td>\n",
       "      <td>12.6</td>\n",
       "    </tr>\n",
       "    <tr>\n",
       "      <th>2</th>\n",
       "      <td>March</td>\n",
       "      <td>6.7</td>\n",
       "      <td>12.2</td>\n",
       "      <td>1.9</td>\n",
       "      <td>13.8</td>\n",
       "    </tr>\n",
       "    <tr>\n",
       "      <th>3</th>\n",
       "      <td>April</td>\n",
       "      <td>11.5</td>\n",
       "      <td>17.5</td>\n",
       "      <td>6.0</td>\n",
       "      <td>13.4</td>\n",
       "    </tr>\n",
       "    <tr>\n",
       "      <th>4</th>\n",
       "      <td>May</td>\n",
       "      <td>16.5</td>\n",
       "      <td>22.8</td>\n",
       "      <td>10.5</td>\n",
       "      <td>14.5</td>\n",
       "    </tr>\n",
       "    <tr>\n",
       "      <th>5</th>\n",
       "      <td>June</td>\n",
       "      <td>20.6</td>\n",
       "      <td>27.3</td>\n",
       "      <td>14.1</td>\n",
       "      <td>11.4</td>\n",
       "    </tr>\n",
       "    <tr>\n",
       "      <th>6</th>\n",
       "      <td>July</td>\n",
       "      <td>24.2</td>\n",
       "      <td>31.0</td>\n",
       "      <td>17.2</td>\n",
       "      <td>4.6</td>\n",
       "    </tr>\n",
       "    <tr>\n",
       "      <th>7</th>\n",
       "      <td>August</td>\n",
       "      <td>24.3</td>\n",
       "      <td>31.0</td>\n",
       "      <td>17.4</td>\n",
       "      <td>5.1</td>\n",
       "    </tr>\n",
       "    <tr>\n",
       "      <th>8</th>\n",
       "      <td>September</td>\n",
       "      <td>19.6</td>\n",
       "      <td>26.5</td>\n",
       "      <td>13.1</td>\n",
       "      <td>5.5</td>\n",
       "    </tr>\n",
       "    <tr>\n",
       "      <th>9</th>\n",
       "      <td>October</td>\n",
       "      <td>13.9</td>\n",
       "      <td>20.3</td>\n",
       "      <td>8.4</td>\n",
       "      <td>9.2</td>\n",
       "    </tr>\n",
       "    <tr>\n",
       "      <th>10</th>\n",
       "      <td>November</td>\n",
       "      <td>7.3</td>\n",
       "      <td>13.0</td>\n",
       "      <td>2.7</td>\n",
       "      <td>8.9</td>\n",
       "    </tr>\n",
       "    <tr>\n",
       "      <th>11</th>\n",
       "      <td>December</td>\n",
       "      <td>2.8</td>\n",
       "      <td>6.7</td>\n",
       "      <td>-0.3</td>\n",
       "      <td>14.0</td>\n",
       "    </tr>\n",
       "  </tbody>\n",
       "</table>\n",
       "</div>"
      ],
      "text/plain": [
       "       months  average_temperature  average_maximum_temperature  \\\n",
       "0     January                  0.9                          4.7   \n",
       "1    February                  2.7                          7.4   \n",
       "2       March                  6.7                         12.2   \n",
       "3       April                 11.5                         17.5   \n",
       "4         May                 16.5                         22.8   \n",
       "5        June                 20.6                         27.3   \n",
       "6        July                 24.2                         31.0   \n",
       "7      August                 24.3                         31.0   \n",
       "8   September                 19.6                         26.5   \n",
       "9     October                 13.9                         20.3   \n",
       "10   November                  7.3                         13.0   \n",
       "11   December                  2.8                          6.7   \n",
       "\n",
       "    average_lowest_temperature  average_number_of_rainy_days  \n",
       "0                         -2.2                          13.6  \n",
       "1                         -1.2                          12.6  \n",
       "2                          1.9                          13.8  \n",
       "3                          6.0                          13.4  \n",
       "4                         10.5                          14.5  \n",
       "5                         14.1                          11.4  \n",
       "6                         17.2                           4.6  \n",
       "7                         17.4                           5.1  \n",
       "8                         13.1                           5.5  \n",
       "9                          8.4                           9.2  \n",
       "10                         2.7                           8.9  \n",
       "11                        -0.3                          14.0  "
      ]
     },
     "execution_count": 15,
     "metadata": {},
     "output_type": "execute_result"
    }
   ],
   "source": [
    "df = pd.read_csv(\"average_weather.csv\", sep=' ') # konum aynı olduğu için direk kullanabildik.\n",
    "df \n",
    "# Bazı durumlarda \"sep\" ifadesini kullanmak durumunda kalabiliyoruz. Csv dosyamda her bir veri arasında bir boşluk vardı."
   ]
  },
  {
   "cell_type": "markdown",
   "id": "d4c0c485",
   "metadata": {},
   "source": [
    "* Eğer dosyalar farklı konumlarda ise direk kullanımda hata verecektir. Bu sorunu veri dosyasının yolunu girerek çözebiliriz.\n",
    "Öncelikle dosya işlemleri için kullandığımız **os** kütüphanesini import edip gerekli fonksiyonları kullanarak ilgili dosyanın konumuna gitmemiz gerekir."
   ]
  },
  {
   "cell_type": "code",
   "execution_count": 16,
   "id": "a204933a",
   "metadata": {},
   "outputs": [
    {
     "name": "stdout",
     "output_type": "stream",
     "text": [
      "Mevcut dosya yolum:  C:\\Users\\sahik\\Documents\\GitHub\\MachineLearning101\\Libraries\n",
      "Güncel dosya yolum:  C:\\Users\\sahik\\Documents\\GitHub\\MachineLearning101\\data\n"
     ]
    }
   ],
   "source": [
    "import os\n",
    "print(\"Mevcut dosya yolum: \", os.getcwd())\n",
    "os.chdir(r'C:\\Users\\sahik\\Documents\\GitHub\\MachineLearning101\\data') # Belirttiğim yola yani verilerin olduğu dosyanın bulunduğu adrese gider.\n",
    "print(\"Güncel dosya yolum: \", os.getcwd())"
   ]
  },
  {
   "cell_type": "markdown",
   "id": "241360e8",
   "metadata": {},
   "source": [
    "* Burada .csv dosyasını okumak yerine excel dosyasının nasıl okunduğunu gözlemleyelim. Şuan da excel (.xlsx) dosyamın olduğu konumdayım. Artık okuma işlemini gerçekleştirebiliriz."
   ]
  },
  {
   "cell_type": "code",
   "execution_count": 17,
   "id": "3e4289d5",
   "metadata": {},
   "outputs": [
    {
     "data": {
      "text/html": [
       "<div>\n",
       "<style scoped>\n",
       "    .dataframe tbody tr th:only-of-type {\n",
       "        vertical-align: middle;\n",
       "    }\n",
       "\n",
       "    .dataframe tbody tr th {\n",
       "        vertical-align: top;\n",
       "    }\n",
       "\n",
       "    .dataframe thead th {\n",
       "        text-align: right;\n",
       "    }\n",
       "</style>\n",
       "<table border=\"1\" class=\"dataframe\">\n",
       "  <thead>\n",
       "    <tr style=\"text-align: right;\">\n",
       "      <th></th>\n",
       "      <th>months</th>\n",
       "      <th>average_temperature</th>\n",
       "      <th>average_maximum_temperature</th>\n",
       "      <th>average_lowest_temperature</th>\n",
       "      <th>average_number_of_rainy_days</th>\n",
       "    </tr>\n",
       "  </thead>\n",
       "  <tbody>\n",
       "    <tr>\n",
       "      <th>0</th>\n",
       "      <td>May</td>\n",
       "      <td>16.5</td>\n",
       "      <td>22.8</td>\n",
       "      <td>10.5</td>\n",
       "      <td>14.5</td>\n",
       "    </tr>\n",
       "    <tr>\n",
       "      <th>1</th>\n",
       "      <td>June</td>\n",
       "      <td>20.6</td>\n",
       "      <td>27.3</td>\n",
       "      <td>14.1</td>\n",
       "      <td>11.4</td>\n",
       "    </tr>\n",
       "    <tr>\n",
       "      <th>2</th>\n",
       "      <td>July</td>\n",
       "      <td>24.2</td>\n",
       "      <td>31.0</td>\n",
       "      <td>17.2</td>\n",
       "      <td>4.6</td>\n",
       "    </tr>\n",
       "    <tr>\n",
       "      <th>3</th>\n",
       "      <td>August</td>\n",
       "      <td>24.3</td>\n",
       "      <td>31.0</td>\n",
       "      <td>17.4</td>\n",
       "      <td>5.1</td>\n",
       "    </tr>\n",
       "  </tbody>\n",
       "</table>\n",
       "</div>"
      ],
      "text/plain": [
       "   months  average_temperature  average_maximum_temperature  \\\n",
       "0     May                 16.5                         22.8   \n",
       "1    June                 20.6                         27.3   \n",
       "2    July                 24.2                         31.0   \n",
       "3  August                 24.3                         31.0   \n",
       "\n",
       "   average_lowest_temperature  average_number_of_rainy_days  \n",
       "0                        10.5                          14.5  \n",
       "1                        14.1                          11.4  \n",
       "2                        17.2                           4.6  \n",
       "3                        17.4                           5.1  "
      ]
     },
     "execution_count": 17,
     "metadata": {},
     "output_type": "execute_result"
    }
   ],
   "source": [
    "new_df = pd.read_excel(\"average_weather.xlsx\", skiprows=5, nrows=4, header=None, names=[\"months\",\n",
    "                                                                          \"average_temperature\",\n",
    "                                                                          \"average_maximum_temperature\",\n",
    "                                                                          \"average_lowest_temperature\",\n",
    "                                                                          \"average_number_of_rainy_days\"])\n",
    "new_df "
   ]
  },
  {
   "cell_type": "markdown",
   "id": "10e9f932",
   "metadata": {},
   "source": [
    "* **\"skiprows\"** özelliği ile başlangıçtan ne kadar satır atlamasını istediğimiz belirtiyoruz.\n",
    "* **\"header\"** özelliği ile kolon adları olarak kullanılacak satırı belirtiyoruz. \n",
    "    * Örneğin elimizde şöyle bir senaryo olsun. Veri setimizde bir şekilde bir kayma olmuş olsun ve kolon isimlerimiz karşımıza bir veri olarak ilk satırda yer alıyor olsun. Bu durum da *header=1* özelliğini kullandığımızda ilk satırdaki verilerimiz kolon isimleri konumuna gelecektir.\n",
    "    * Bir başka senaryo da ise kolon isimlerimizin olmadığını varsayalım bu durumda yapmamız gereken şey ***header*** özelliğini ***none*** olarak belirtip ***names=[\"kolon1\",\"kolon2\",\"kolon3\"]*** şeklinde kolon isimlerini verebiliriz.\n",
    "\n",
    "* **\"nrows\"** özelliği ile okumak istediğimiz satır sayısını belirtiyoruz.\n",
    "* **\"na_values\"** özelliği ile \"not available\", \"n.a.\" gibi ifadeler yerine *NaN* yazacaktır. Bu özellik dağınık verilerin toparlanması için oldukça faydalıdır. Burada değinmek istediğim bir diğer husus ise verileri sözlük ile özelleştirebilme imkanımızın olmasıdır. Örneğin isim ve yaş kolonlarımızın olduğunu düşünelim. İsim kolonun da \"not available\", \"n.a.\" gibi verilerimiz varken yaş kolonumuzda bunların dışında mantığa uymayacak şekilde negatif yaş verilerinin de olduğunu düşünelim. Bu durumda sözlük yapısını kullanarak bu verileri **NaN** yapabiliriz.\n",
    "    > na_values = { \" ad \" : [ \" not available \", \" n.a. \" ] ,\n",
    "             \" yas \" : [ \" n.a. \", -5, -21]} \n",
    "             \n",
    "Daha detaylı bilgi edinmek için https://pandas.pydata.org/docs/reference/api/pandas.read_csv.html adresine göz atmanızı tavsiye ederim. "
   ]
  },
  {
   "cell_type": "markdown",
   "id": "765958ba",
   "metadata": {},
   "source": [
    "**\"to_csv\"** - **\"to_exel\" :** Üzerinde düzenlemeler yaptığımız .csv, .xlsx gibi dosyalardaki verileri farklı bir dosyaya kaydetmemizi sağlar. \n",
    "Yeni dosya oluşturulurken otomatik index kolonu eklenir. Bunun önüne geçmek için index=False özelliğini kullanıyoruz.\n",
    "Tüm tabloyu değil de belirli kolonları yeni dosyaya taşımak istersek *colums* özelliğini kullanarak ilgili kolonları belirtebiliriz."
   ]
  },
  {
   "cell_type": "code",
   "execution_count": 18,
   "id": "acd284b7",
   "metadata": {},
   "outputs": [],
   "source": [
    "new_df.to_csv(\"new_df.csv\", index=False, columns=[\"months\",\"average_temperature\"])"
   ]
  },
  {
   "attachments": {
    "new_df.PNG": {
     "image/png": "[encoded data removed]"
    }
   },
   "cell_type": "markdown",
   "id": "98d4a339",
   "metadata": {},
   "source": [
    "![new_df.PNG](attachment:new_df.PNG)"
   ]
  },
  {
   "cell_type": "code",
   "execution_count": 19,
   "id": "63156087",
   "metadata": {},
   "outputs": [
    {
     "data": {
      "text/html": [
       "<div>\n",
       "<style scoped>\n",
       "    .dataframe tbody tr th:only-of-type {\n",
       "        vertical-align: middle;\n",
       "    }\n",
       "\n",
       "    .dataframe tbody tr th {\n",
       "        vertical-align: top;\n",
       "    }\n",
       "\n",
       "    .dataframe thead th {\n",
       "        text-align: right;\n",
       "    }\n",
       "</style>\n",
       "<table border=\"1\" class=\"dataframe\">\n",
       "  <thead>\n",
       "    <tr style=\"text-align: right;\">\n",
       "      <th></th>\n",
       "      <th>months</th>\n",
       "      <th>average_temperature</th>\n",
       "    </tr>\n",
       "  </thead>\n",
       "  <tbody>\n",
       "    <tr>\n",
       "      <th>0</th>\n",
       "      <td>May</td>\n",
       "      <td>16.5</td>\n",
       "    </tr>\n",
       "    <tr>\n",
       "      <th>1</th>\n",
       "      <td>June</td>\n",
       "      <td>20.6</td>\n",
       "    </tr>\n",
       "    <tr>\n",
       "      <th>2</th>\n",
       "      <td>July</td>\n",
       "      <td>24.2</td>\n",
       "    </tr>\n",
       "    <tr>\n",
       "      <th>3</th>\n",
       "      <td>August</td>\n",
       "      <td>24.3</td>\n",
       "    </tr>\n",
       "  </tbody>\n",
       "</table>\n",
       "</div>"
      ],
      "text/plain": [
       "   months  average_temperature\n",
       "0     May                 16.5\n",
       "1    June                 20.6\n",
       "2    July                 24.2\n",
       "3  August                 24.3"
      ]
     },
     "execution_count": 19,
     "metadata": {},
     "output_type": "execute_result"
    }
   ],
   "source": [
    "pd.read_csv(\"new_df.csv\")"
   ]
  },
  {
   "cell_type": "markdown",
   "id": "d3613887",
   "metadata": {},
   "source": [
    "Yukarıda **\" df \"** olarak ifade ettiğimiz veri setimizden devam edelim."
   ]
  },
  {
   "cell_type": "code",
   "execution_count": 20,
   "id": "755dfebb",
   "metadata": {},
   "outputs": [
    {
     "data": {
      "text/plain": [
       "(12, 5)"
      ]
     },
     "execution_count": 20,
     "metadata": {},
     "output_type": "execute_result"
    }
   ],
   "source": [
    "df.shape # satır ve sütun sayısını verir."
   ]
  },
  {
   "cell_type": "code",
   "execution_count": 21,
   "id": "ada1d5de",
   "metadata": {},
   "outputs": [
    {
     "data": {
      "text/html": [
       "<div>\n",
       "<style scoped>\n",
       "    .dataframe tbody tr th:only-of-type {\n",
       "        vertical-align: middle;\n",
       "    }\n",
       "\n",
       "    .dataframe tbody tr th {\n",
       "        vertical-align: top;\n",
       "    }\n",
       "\n",
       "    .dataframe thead th {\n",
       "        text-align: right;\n",
       "    }\n",
       "</style>\n",
       "<table border=\"1\" class=\"dataframe\">\n",
       "  <thead>\n",
       "    <tr style=\"text-align: right;\">\n",
       "      <th></th>\n",
       "      <th>months</th>\n",
       "      <th>average_temperature</th>\n",
       "      <th>average_maximum_temperature</th>\n",
       "      <th>average_lowest_temperature</th>\n",
       "      <th>average_number_of_rainy_days</th>\n",
       "    </tr>\n",
       "  </thead>\n",
       "  <tbody>\n",
       "    <tr>\n",
       "      <th>0</th>\n",
       "      <td>January</td>\n",
       "      <td>0.9</td>\n",
       "      <td>4.7</td>\n",
       "      <td>-2.2</td>\n",
       "      <td>13.6</td>\n",
       "    </tr>\n",
       "    <tr>\n",
       "      <th>1</th>\n",
       "      <td>February</td>\n",
       "      <td>2.7</td>\n",
       "      <td>7.4</td>\n",
       "      <td>-1.2</td>\n",
       "      <td>12.6</td>\n",
       "    </tr>\n",
       "    <tr>\n",
       "      <th>2</th>\n",
       "      <td>March</td>\n",
       "      <td>6.7</td>\n",
       "      <td>12.2</td>\n",
       "      <td>1.9</td>\n",
       "      <td>13.8</td>\n",
       "    </tr>\n",
       "  </tbody>\n",
       "</table>\n",
       "</div>"
      ],
      "text/plain": [
       "     months  average_temperature  average_maximum_temperature  \\\n",
       "0   January                  0.9                          4.7   \n",
       "1  February                  2.7                          7.4   \n",
       "2     March                  6.7                         12.2   \n",
       "\n",
       "   average_lowest_temperature  average_number_of_rainy_days  \n",
       "0                        -2.2                          13.6  \n",
       "1                        -1.2                          12.6  \n",
       "2                         1.9                          13.8  "
      ]
     },
     "execution_count": 21,
     "metadata": {},
     "output_type": "execute_result"
    }
   ],
   "source": [
    "df.head(3)  # Varsayılan olarak ilk 5 satır okur.Burada 3 satır gelmesini istediğimizi belirtiyoruz."
   ]
  },
  {
   "cell_type": "code",
   "execution_count": 22,
   "id": "107451cf",
   "metadata": {},
   "outputs": [
    {
     "data": {
      "text/html": [
       "<div>\n",
       "<style scoped>\n",
       "    .dataframe tbody tr th:only-of-type {\n",
       "        vertical-align: middle;\n",
       "    }\n",
       "\n",
       "    .dataframe tbody tr th {\n",
       "        vertical-align: top;\n",
       "    }\n",
       "\n",
       "    .dataframe thead th {\n",
       "        text-align: right;\n",
       "    }\n",
       "</style>\n",
       "<table border=\"1\" class=\"dataframe\">\n",
       "  <thead>\n",
       "    <tr style=\"text-align: right;\">\n",
       "      <th></th>\n",
       "      <th>months</th>\n",
       "      <th>average_temperature</th>\n",
       "      <th>average_maximum_temperature</th>\n",
       "      <th>average_lowest_temperature</th>\n",
       "      <th>average_number_of_rainy_days</th>\n",
       "    </tr>\n",
       "  </thead>\n",
       "  <tbody>\n",
       "    <tr>\n",
       "      <th>7</th>\n",
       "      <td>August</td>\n",
       "      <td>24.3</td>\n",
       "      <td>31.0</td>\n",
       "      <td>17.4</td>\n",
       "      <td>5.1</td>\n",
       "    </tr>\n",
       "    <tr>\n",
       "      <th>8</th>\n",
       "      <td>September</td>\n",
       "      <td>19.6</td>\n",
       "      <td>26.5</td>\n",
       "      <td>13.1</td>\n",
       "      <td>5.5</td>\n",
       "    </tr>\n",
       "    <tr>\n",
       "      <th>9</th>\n",
       "      <td>October</td>\n",
       "      <td>13.9</td>\n",
       "      <td>20.3</td>\n",
       "      <td>8.4</td>\n",
       "      <td>9.2</td>\n",
       "    </tr>\n",
       "    <tr>\n",
       "      <th>10</th>\n",
       "      <td>November</td>\n",
       "      <td>7.3</td>\n",
       "      <td>13.0</td>\n",
       "      <td>2.7</td>\n",
       "      <td>8.9</td>\n",
       "    </tr>\n",
       "    <tr>\n",
       "      <th>11</th>\n",
       "      <td>December</td>\n",
       "      <td>2.8</td>\n",
       "      <td>6.7</td>\n",
       "      <td>-0.3</td>\n",
       "      <td>14.0</td>\n",
       "    </tr>\n",
       "  </tbody>\n",
       "</table>\n",
       "</div>"
      ],
      "text/plain": [
       "       months  average_temperature  average_maximum_temperature  \\\n",
       "7      August                 24.3                         31.0   \n",
       "8   September                 19.6                         26.5   \n",
       "9     October                 13.9                         20.3   \n",
       "10   November                  7.3                         13.0   \n",
       "11   December                  2.8                          6.7   \n",
       "\n",
       "    average_lowest_temperature  average_number_of_rainy_days  \n",
       "7                         17.4                           5.1  \n",
       "8                         13.1                           5.5  \n",
       "9                          8.4                           9.2  \n",
       "10                         2.7                           8.9  \n",
       "11                        -0.3                          14.0  "
      ]
     },
     "execution_count": 22,
     "metadata": {},
     "output_type": "execute_result"
    }
   ],
   "source": [
    "df.tail() # Varsayılan olarak son 5 satırı okur."
   ]
  },
  {
   "cell_type": "code",
   "execution_count": 23,
   "id": "48c0d5d1",
   "metadata": {},
   "outputs": [
    {
     "data": {
      "text/html": [
       "<div>\n",
       "<style scoped>\n",
       "    .dataframe tbody tr th:only-of-type {\n",
       "        vertical-align: middle;\n",
       "    }\n",
       "\n",
       "    .dataframe tbody tr th {\n",
       "        vertical-align: top;\n",
       "    }\n",
       "\n",
       "    .dataframe thead th {\n",
       "        text-align: right;\n",
       "    }\n",
       "</style>\n",
       "<table border=\"1\" class=\"dataframe\">\n",
       "  <thead>\n",
       "    <tr style=\"text-align: right;\">\n",
       "      <th></th>\n",
       "      <th>months</th>\n",
       "      <th>average_temperature</th>\n",
       "      <th>average_maximum_temperature</th>\n",
       "      <th>average_lowest_temperature</th>\n",
       "      <th>average_number_of_rainy_days</th>\n",
       "    </tr>\n",
       "  </thead>\n",
       "  <tbody>\n",
       "    <tr>\n",
       "      <th>2</th>\n",
       "      <td>March</td>\n",
       "      <td>6.7</td>\n",
       "      <td>12.2</td>\n",
       "      <td>1.9</td>\n",
       "      <td>13.8</td>\n",
       "    </tr>\n",
       "    <tr>\n",
       "      <th>3</th>\n",
       "      <td>April</td>\n",
       "      <td>11.5</td>\n",
       "      <td>17.5</td>\n",
       "      <td>6.0</td>\n",
       "      <td>13.4</td>\n",
       "    </tr>\n",
       "    <tr>\n",
       "      <th>4</th>\n",
       "      <td>May</td>\n",
       "      <td>16.5</td>\n",
       "      <td>22.8</td>\n",
       "      <td>10.5</td>\n",
       "      <td>14.5</td>\n",
       "    </tr>\n",
       "    <tr>\n",
       "      <th>5</th>\n",
       "      <td>June</td>\n",
       "      <td>20.6</td>\n",
       "      <td>27.3</td>\n",
       "      <td>14.1</td>\n",
       "      <td>11.4</td>\n",
       "    </tr>\n",
       "    <tr>\n",
       "      <th>6</th>\n",
       "      <td>July</td>\n",
       "      <td>24.2</td>\n",
       "      <td>31.0</td>\n",
       "      <td>17.2</td>\n",
       "      <td>4.6</td>\n",
       "    </tr>\n",
       "  </tbody>\n",
       "</table>\n",
       "</div>"
      ],
      "text/plain": [
       "  months  average_temperature  average_maximum_temperature  \\\n",
       "2  March                  6.7                         12.2   \n",
       "3  April                 11.5                         17.5   \n",
       "4    May                 16.5                         22.8   \n",
       "5   June                 20.6                         27.3   \n",
       "6   July                 24.2                         31.0   \n",
       "\n",
       "   average_lowest_temperature  average_number_of_rainy_days  \n",
       "2                         1.9                          13.8  \n",
       "3                         6.0                          13.4  \n",
       "4                        10.5                          14.5  \n",
       "5                        14.1                          11.4  \n",
       "6                        17.2                           4.6  "
      ]
     },
     "execution_count": 23,
     "metadata": {},
     "output_type": "execute_result"
    }
   ],
   "source": [
    "df[2:7] # 2 ile 7. indis arasındaki verileri okur. 2. indis dahilken 7. indis dahil değildir."
   ]
  },
  {
   "cell_type": "code",
   "execution_count": 24,
   "id": "ff921b03",
   "metadata": {},
   "outputs": [
    {
     "data": {
      "text/plain": [
       "Index(['months', 'average_temperature', 'average_maximum_temperature',\n",
       "       'average_lowest_temperature', 'average_number_of_rainy_days'],\n",
       "      dtype='object')"
      ]
     },
     "execution_count": 24,
     "metadata": {},
     "output_type": "execute_result"
    }
   ],
   "source": [
    "df.columns"
   ]
  },
  {
   "cell_type": "code",
   "execution_count": 25,
   "id": "1c9bc155",
   "metadata": {},
   "outputs": [
    {
     "data": {
      "text/plain": [
       "RangeIndex(start=0, stop=12, step=1)"
      ]
     },
     "execution_count": 25,
     "metadata": {},
     "output_type": "execute_result"
    }
   ],
   "source": [
    "df.index "
   ]
  },
  {
   "cell_type": "code",
   "execution_count": 26,
   "id": "7cf1a580",
   "metadata": {},
   "outputs": [
    {
     "data": {
      "text/plain": [
       "0       January\n",
       "1      February\n",
       "2         March\n",
       "3         April\n",
       "4           May\n",
       "5          June\n",
       "6          July\n",
       "7        August\n",
       "8     September\n",
       "9       October\n",
       "10     November\n",
       "11     December\n",
       "Name: months, dtype: object"
      ]
     },
     "execution_count": 26,
     "metadata": {},
     "output_type": "execute_result"
    }
   ],
   "source": [
    "df[\"months\"]  # Verisetindeki \"months\" kolonundaki verileri çektik."
   ]
  },
  {
   "cell_type": "code",
   "execution_count": 27,
   "id": "3d7ab03d",
   "metadata": {},
   "outputs": [
    {
     "data": {
      "text/plain": [
       "0       January\n",
       "1      February\n",
       "2         March\n",
       "3         April\n",
       "4           May\n",
       "5          June\n",
       "6          July\n",
       "7        August\n",
       "8     September\n",
       "9       October\n",
       "10     November\n",
       "11     December\n",
       "Name: months, dtype: object"
      ]
     },
     "execution_count": 27,
     "metadata": {},
     "output_type": "execute_result"
    }
   ],
   "source": [
    "df.months"
   ]
  },
  {
   "cell_type": "markdown",
   "id": "11f5d44b",
   "metadata": {},
   "source": [
    "* Bu şekilde de aynı çıktıyı elde ederiz. Ancak bu ifade için kolon adında \" \" (boşluk) bulunmamalıdır. Aksi halde hata verecektir. Örneğin \"months weather\" şeklinde bir isimlendirme olduğunda köşeli parantez ( *['months weather']* ) kullanmak şarttır."
   ]
  },
  {
   "cell_type": "code",
   "execution_count": 28,
   "id": "839f9bb7",
   "metadata": {},
   "outputs": [
    {
     "data": {
      "text/plain": [
       "pandas.core.series.Series"
      ]
     },
     "execution_count": 28,
     "metadata": {},
     "output_type": "execute_result"
    }
   ],
   "source": [
    "type(df[\"months\"])"
   ]
  },
  {
   "cell_type": "markdown",
   "id": "6a2eace3",
   "metadata": {},
   "source": [
    "* type() fonksiyonu ile DataFrame verisetinden çekilen kolonun Series tipinde olduğunu gözlemliyoruz. Okuduğumuz kolonun DataFrame formunda gelmesi için \"[ ]\" kullanırız."
   ]
  },
  {
   "cell_type": "code",
   "execution_count": 29,
   "id": "e56c839c",
   "metadata": {},
   "outputs": [
    {
     "data": {
      "text/html": [
       "<div>\n",
       "<style scoped>\n",
       "    .dataframe tbody tr th:only-of-type {\n",
       "        vertical-align: middle;\n",
       "    }\n",
       "\n",
       "    .dataframe tbody tr th {\n",
       "        vertical-align: top;\n",
       "    }\n",
       "\n",
       "    .dataframe thead th {\n",
       "        text-align: right;\n",
       "    }\n",
       "</style>\n",
       "<table border=\"1\" class=\"dataframe\">\n",
       "  <thead>\n",
       "    <tr style=\"text-align: right;\">\n",
       "      <th></th>\n",
       "      <th>months</th>\n",
       "    </tr>\n",
       "  </thead>\n",
       "  <tbody>\n",
       "    <tr>\n",
       "      <th>0</th>\n",
       "      <td>January</td>\n",
       "    </tr>\n",
       "    <tr>\n",
       "      <th>1</th>\n",
       "      <td>February</td>\n",
       "    </tr>\n",
       "    <tr>\n",
       "      <th>2</th>\n",
       "      <td>March</td>\n",
       "    </tr>\n",
       "    <tr>\n",
       "      <th>3</th>\n",
       "      <td>April</td>\n",
       "    </tr>\n",
       "    <tr>\n",
       "      <th>4</th>\n",
       "      <td>May</td>\n",
       "    </tr>\n",
       "    <tr>\n",
       "      <th>5</th>\n",
       "      <td>June</td>\n",
       "    </tr>\n",
       "    <tr>\n",
       "      <th>6</th>\n",
       "      <td>July</td>\n",
       "    </tr>\n",
       "    <tr>\n",
       "      <th>7</th>\n",
       "      <td>August</td>\n",
       "    </tr>\n",
       "    <tr>\n",
       "      <th>8</th>\n",
       "      <td>September</td>\n",
       "    </tr>\n",
       "    <tr>\n",
       "      <th>9</th>\n",
       "      <td>October</td>\n",
       "    </tr>\n",
       "    <tr>\n",
       "      <th>10</th>\n",
       "      <td>November</td>\n",
       "    </tr>\n",
       "    <tr>\n",
       "      <th>11</th>\n",
       "      <td>December</td>\n",
       "    </tr>\n",
       "  </tbody>\n",
       "</table>\n",
       "</div>"
      ],
      "text/plain": [
       "       months\n",
       "0     January\n",
       "1    February\n",
       "2       March\n",
       "3       April\n",
       "4         May\n",
       "5        June\n",
       "6        July\n",
       "7      August\n",
       "8   September\n",
       "9     October\n",
       "10   November\n",
       "11   December"
      ]
     },
     "execution_count": 29,
     "metadata": {},
     "output_type": "execute_result"
    }
   ],
   "source": [
    "df[[\"months\"]]"
   ]
  },
  {
   "cell_type": "code",
   "execution_count": 30,
   "id": "63727392",
   "metadata": {},
   "outputs": [
    {
     "data": {
      "text/plain": [
       "pandas.core.frame.DataFrame"
      ]
     },
     "execution_count": 30,
     "metadata": {},
     "output_type": "execute_result"
    }
   ],
   "source": [
    "type(df[[\"months\"]])"
   ]
  },
  {
   "cell_type": "code",
   "execution_count": 31,
   "id": "ff32e0d1",
   "metadata": {},
   "outputs": [
    {
     "data": {
      "text/plain": [
       "dtype('O')"
      ]
     },
     "execution_count": 31,
     "metadata": {},
     "output_type": "execute_result"
    }
   ],
   "source": [
    "df.months.dtype  # months kolonunun object tipli verilerden oluştuğunu bize söylüyor."
   ]
  },
  {
   "cell_type": "code",
   "execution_count": 32,
   "id": "49bcc88c",
   "metadata": {},
   "outputs": [
    {
     "data": {
      "text/html": [
       "<div>\n",
       "<style scoped>\n",
       "    .dataframe tbody tr th:only-of-type {\n",
       "        vertical-align: middle;\n",
       "    }\n",
       "\n",
       "    .dataframe tbody tr th {\n",
       "        vertical-align: top;\n",
       "    }\n",
       "\n",
       "    .dataframe thead th {\n",
       "        text-align: right;\n",
       "    }\n",
       "</style>\n",
       "<table border=\"1\" class=\"dataframe\">\n",
       "  <thead>\n",
       "    <tr style=\"text-align: right;\">\n",
       "      <th></th>\n",
       "      <th>months</th>\n",
       "      <th>average_number_of_rainy_days</th>\n",
       "    </tr>\n",
       "  </thead>\n",
       "  <tbody>\n",
       "    <tr>\n",
       "      <th>0</th>\n",
       "      <td>January</td>\n",
       "      <td>13.6</td>\n",
       "    </tr>\n",
       "    <tr>\n",
       "      <th>1</th>\n",
       "      <td>February</td>\n",
       "      <td>12.6</td>\n",
       "    </tr>\n",
       "    <tr>\n",
       "      <th>2</th>\n",
       "      <td>March</td>\n",
       "      <td>13.8</td>\n",
       "    </tr>\n",
       "    <tr>\n",
       "      <th>3</th>\n",
       "      <td>April</td>\n",
       "      <td>13.4</td>\n",
       "    </tr>\n",
       "    <tr>\n",
       "      <th>4</th>\n",
       "      <td>May</td>\n",
       "      <td>14.5</td>\n",
       "    </tr>\n",
       "    <tr>\n",
       "      <th>5</th>\n",
       "      <td>June</td>\n",
       "      <td>11.4</td>\n",
       "    </tr>\n",
       "    <tr>\n",
       "      <th>6</th>\n",
       "      <td>July</td>\n",
       "      <td>4.6</td>\n",
       "    </tr>\n",
       "    <tr>\n",
       "      <th>7</th>\n",
       "      <td>August</td>\n",
       "      <td>5.1</td>\n",
       "    </tr>\n",
       "    <tr>\n",
       "      <th>8</th>\n",
       "      <td>September</td>\n",
       "      <td>5.5</td>\n",
       "    </tr>\n",
       "    <tr>\n",
       "      <th>9</th>\n",
       "      <td>October</td>\n",
       "      <td>9.2</td>\n",
       "    </tr>\n",
       "    <tr>\n",
       "      <th>10</th>\n",
       "      <td>November</td>\n",
       "      <td>8.9</td>\n",
       "    </tr>\n",
       "    <tr>\n",
       "      <th>11</th>\n",
       "      <td>December</td>\n",
       "      <td>14.0</td>\n",
       "    </tr>\n",
       "  </tbody>\n",
       "</table>\n",
       "</div>"
      ],
      "text/plain": [
       "       months  average_number_of_rainy_days\n",
       "0     January                          13.6\n",
       "1    February                          12.6\n",
       "2       March                          13.8\n",
       "3       April                          13.4\n",
       "4         May                          14.5\n",
       "5        June                          11.4\n",
       "6        July                           4.6\n",
       "7      August                           5.1\n",
       "8   September                           5.5\n",
       "9     October                           9.2\n",
       "10   November                           8.9\n",
       "11   December                          14.0"
      ]
     },
     "execution_count": 32,
     "metadata": {},
     "output_type": "execute_result"
    }
   ],
   "source": [
    "df[['months','average_number_of_rainy_days']]"
   ]
  },
  {
   "cell_type": "code",
   "execution_count": 33,
   "id": "4174e63b",
   "metadata": {},
   "outputs": [
    {
     "data": {
      "text/plain": [
       "14.5"
      ]
     },
     "execution_count": 33,
     "metadata": {},
     "output_type": "execute_result"
    }
   ],
   "source": [
    "df.average_number_of_rainy_days.max()  # Kolondaki en büyük değeri verir."
   ]
  },
  {
   "cell_type": "code",
   "execution_count": 34,
   "id": "aa48ea4e",
   "metadata": {},
   "outputs": [
    {
     "data": {
      "text/html": [
       "<div>\n",
       "<style scoped>\n",
       "    .dataframe tbody tr th:only-of-type {\n",
       "        vertical-align: middle;\n",
       "    }\n",
       "\n",
       "    .dataframe tbody tr th {\n",
       "        vertical-align: top;\n",
       "    }\n",
       "\n",
       "    .dataframe thead th {\n",
       "        text-align: right;\n",
       "    }\n",
       "</style>\n",
       "<table border=\"1\" class=\"dataframe\">\n",
       "  <thead>\n",
       "    <tr style=\"text-align: right;\">\n",
       "      <th></th>\n",
       "      <th>months</th>\n",
       "      <th>average_temperature</th>\n",
       "      <th>average_maximum_temperature</th>\n",
       "      <th>average_lowest_temperature</th>\n",
       "      <th>average_number_of_rainy_days</th>\n",
       "    </tr>\n",
       "  </thead>\n",
       "  <tbody>\n",
       "    <tr>\n",
       "      <th>6</th>\n",
       "      <td>July</td>\n",
       "      <td>24.2</td>\n",
       "      <td>31.0</td>\n",
       "      <td>17.2</td>\n",
       "      <td>4.6</td>\n",
       "    </tr>\n",
       "    <tr>\n",
       "      <th>7</th>\n",
       "      <td>August</td>\n",
       "      <td>24.3</td>\n",
       "      <td>31.0</td>\n",
       "      <td>17.4</td>\n",
       "      <td>5.1</td>\n",
       "    </tr>\n",
       "    <tr>\n",
       "      <th>8</th>\n",
       "      <td>September</td>\n",
       "      <td>19.6</td>\n",
       "      <td>26.5</td>\n",
       "      <td>13.1</td>\n",
       "      <td>5.5</td>\n",
       "    </tr>\n",
       "    <tr>\n",
       "      <th>9</th>\n",
       "      <td>October</td>\n",
       "      <td>13.9</td>\n",
       "      <td>20.3</td>\n",
       "      <td>8.4</td>\n",
       "      <td>9.2</td>\n",
       "    </tr>\n",
       "    <tr>\n",
       "      <th>10</th>\n",
       "      <td>November</td>\n",
       "      <td>7.3</td>\n",
       "      <td>13.0</td>\n",
       "      <td>2.7</td>\n",
       "      <td>8.9</td>\n",
       "    </tr>\n",
       "  </tbody>\n",
       "</table>\n",
       "</div>"
      ],
      "text/plain": [
       "       months  average_temperature  average_maximum_temperature  \\\n",
       "6        July                 24.2                         31.0   \n",
       "7      August                 24.3                         31.0   \n",
       "8   September                 19.6                         26.5   \n",
       "9     October                 13.9                         20.3   \n",
       "10   November                  7.3                         13.0   \n",
       "\n",
       "    average_lowest_temperature  average_number_of_rainy_days  \n",
       "6                         17.2                           4.6  \n",
       "7                         17.4                           5.1  \n",
       "8                         13.1                           5.5  \n",
       "9                          8.4                           9.2  \n",
       "10                         2.7                           8.9  "
      ]
     },
     "execution_count": 34,
     "metadata": {},
     "output_type": "execute_result"
    }
   ],
   "source": [
    "df[df['average_number_of_rainy_days'] < 10]"
   ]
  },
  {
   "cell_type": "code",
   "execution_count": 35,
   "id": "be2f3962",
   "metadata": {},
   "outputs": [
    {
     "data": {
      "text/plain": [
       "7    August\n",
       "Name: months, dtype: object"
      ]
     },
     "execution_count": 35,
     "metadata": {},
     "output_type": "execute_result"
    }
   ],
   "source": [
    "df[\"months\"][df[\"average_temperature\"] == df[\"average_temperature\"].max()]"
   ]
  },
  {
   "cell_type": "code",
   "execution_count": 36,
   "id": "f5bf9677",
   "metadata": {},
   "outputs": [
    {
     "data": {
      "text/html": [
       "<div>\n",
       "<style scoped>\n",
       "    .dataframe tbody tr th:only-of-type {\n",
       "        vertical-align: middle;\n",
       "    }\n",
       "\n",
       "    .dataframe tbody tr th {\n",
       "        vertical-align: top;\n",
       "    }\n",
       "\n",
       "    .dataframe thead th {\n",
       "        text-align: right;\n",
       "    }\n",
       "</style>\n",
       "<table border=\"1\" class=\"dataframe\">\n",
       "  <thead>\n",
       "    <tr style=\"text-align: right;\">\n",
       "      <th></th>\n",
       "      <th>months</th>\n",
       "      <th>average_temperature</th>\n",
       "      <th>average_maximum_temperature</th>\n",
       "      <th>average_lowest_temperature</th>\n",
       "      <th>average_number_of_rainy_days</th>\n",
       "    </tr>\n",
       "  </thead>\n",
       "  <tbody>\n",
       "    <tr>\n",
       "      <th>7</th>\n",
       "      <td>August</td>\n",
       "      <td>24.3</td>\n",
       "      <td>31.0</td>\n",
       "      <td>17.4</td>\n",
       "      <td>5.1</td>\n",
       "    </tr>\n",
       "  </tbody>\n",
       "</table>\n",
       "</div>"
      ],
      "text/plain": [
       "   months  average_temperature  average_maximum_temperature  \\\n",
       "7  August                 24.3                         31.0   \n",
       "\n",
       "   average_lowest_temperature  average_number_of_rainy_days  \n",
       "7                        17.4                           5.1  "
      ]
     },
     "execution_count": 36,
     "metadata": {},
     "output_type": "execute_result"
    }
   ],
   "source": [
    "df[df[\"average_temperature\"] == df[\"average_temperature\"].max()]"
   ]
  },
  {
   "cell_type": "code",
   "execution_count": 37,
   "id": "b040a8b1",
   "metadata": {},
   "outputs": [
    {
     "data": {
      "text/plain": [
       "9.531224602549372"
      ]
     },
     "execution_count": 37,
     "metadata": {},
     "output_type": "execute_result"
    }
   ],
   "source": [
    "df.average_maximum_temperature.std() # Standart sapmayı döndürür."
   ]
  },
  {
   "cell_type": "code",
   "execution_count": 38,
   "id": "5b7f1f80",
   "metadata": {},
   "outputs": [
    {
     "data": {
      "text/plain": [
       "18.366666666666664"
      ]
     },
     "execution_count": 38,
     "metadata": {},
     "output_type": "execute_result"
    }
   ],
   "source": [
    "df['average_maximum_temperature'].mean() # Ortalamayı döndürür."
   ]
  },
  {
   "cell_type": "code",
   "execution_count": 39,
   "id": "c110a02e",
   "metadata": {},
   "outputs": [
    {
     "data": {
      "text/html": [
       "<div>\n",
       "<style scoped>\n",
       "    .dataframe tbody tr th:only-of-type {\n",
       "        vertical-align: middle;\n",
       "    }\n",
       "\n",
       "    .dataframe tbody tr th {\n",
       "        vertical-align: top;\n",
       "    }\n",
       "\n",
       "    .dataframe thead th {\n",
       "        text-align: right;\n",
       "    }\n",
       "</style>\n",
       "<table border=\"1\" class=\"dataframe\">\n",
       "  <thead>\n",
       "    <tr style=\"text-align: right;\">\n",
       "      <th></th>\n",
       "      <th>average_temperature</th>\n",
       "      <th>average_maximum_temperature</th>\n",
       "      <th>average_lowest_temperature</th>\n",
       "      <th>average_number_of_rainy_days</th>\n",
       "    </tr>\n",
       "  </thead>\n",
       "  <tbody>\n",
       "    <tr>\n",
       "      <th>count</th>\n",
       "      <td>12.000000</td>\n",
       "      <td>12.000000</td>\n",
       "      <td>12.000000</td>\n",
       "      <td>12.000000</td>\n",
       "    </tr>\n",
       "    <tr>\n",
       "      <th>mean</th>\n",
       "      <td>12.583333</td>\n",
       "      <td>18.366667</td>\n",
       "      <td>7.300000</td>\n",
       "      <td>10.550000</td>\n",
       "    </tr>\n",
       "    <tr>\n",
       "      <th>std</th>\n",
       "      <td>8.508801</td>\n",
       "      <td>9.531225</td>\n",
       "      <td>7.158085</td>\n",
       "      <td>3.760682</td>\n",
       "    </tr>\n",
       "    <tr>\n",
       "      <th>min</th>\n",
       "      <td>0.900000</td>\n",
       "      <td>4.700000</td>\n",
       "      <td>-2.200000</td>\n",
       "      <td>4.600000</td>\n",
       "    </tr>\n",
       "    <tr>\n",
       "      <th>25%</th>\n",
       "      <td>5.725000</td>\n",
       "      <td>11.000000</td>\n",
       "      <td>1.350000</td>\n",
       "      <td>8.050000</td>\n",
       "    </tr>\n",
       "    <tr>\n",
       "      <th>50%</th>\n",
       "      <td>12.700000</td>\n",
       "      <td>18.900000</td>\n",
       "      <td>7.200000</td>\n",
       "      <td>12.000000</td>\n",
       "    </tr>\n",
       "    <tr>\n",
       "      <th>75%</th>\n",
       "      <td>19.850000</td>\n",
       "      <td>26.700000</td>\n",
       "      <td>13.350000</td>\n",
       "      <td>13.650000</td>\n",
       "    </tr>\n",
       "    <tr>\n",
       "      <th>max</th>\n",
       "      <td>24.300000</td>\n",
       "      <td>31.000000</td>\n",
       "      <td>17.400000</td>\n",
       "      <td>14.500000</td>\n",
       "    </tr>\n",
       "  </tbody>\n",
       "</table>\n",
       "</div>"
      ],
      "text/plain": [
       "       average_temperature  average_maximum_temperature  \\\n",
       "count            12.000000                    12.000000   \n",
       "mean             12.583333                    18.366667   \n",
       "std               8.508801                     9.531225   \n",
       "min               0.900000                     4.700000   \n",
       "25%               5.725000                    11.000000   \n",
       "50%              12.700000                    18.900000   \n",
       "75%              19.850000                    26.700000   \n",
       "max              24.300000                    31.000000   \n",
       "\n",
       "       average_lowest_temperature  average_number_of_rainy_days  \n",
       "count                   12.000000                     12.000000  \n",
       "mean                     7.300000                     10.550000  \n",
       "std                      7.158085                      3.760682  \n",
       "min                     -2.200000                      4.600000  \n",
       "25%                      1.350000                      8.050000  \n",
       "50%                      7.200000                     12.000000  \n",
       "75%                     13.350000                     13.650000  \n",
       "max                     17.400000                     14.500000  "
      ]
     },
     "execution_count": 39,
     "metadata": {},
     "output_type": "execute_result"
    }
   ],
   "source": [
    "df.describe() "
   ]
  },
  {
   "cell_type": "markdown",
   "id": "aa5aa431",
   "metadata": {},
   "source": [
    "* **describe():** Yüzdelik oranı, ortalama, min, max, standart sapma gibi bazı istatistiksel verileri hesaplamak için kullanılır."
   ]
  },
  {
   "cell_type": "code",
   "execution_count": 40,
   "id": "2088b732",
   "metadata": {},
   "outputs": [
    {
     "data": {
      "text/html": [
       "<div>\n",
       "<style scoped>\n",
       "    .dataframe tbody tr th:only-of-type {\n",
       "        vertical-align: middle;\n",
       "    }\n",
       "\n",
       "    .dataframe tbody tr th {\n",
       "        vertical-align: top;\n",
       "    }\n",
       "\n",
       "    .dataframe thead th {\n",
       "        text-align: right;\n",
       "    }\n",
       "</style>\n",
       "<table border=\"1\" class=\"dataframe\">\n",
       "  <thead>\n",
       "    <tr style=\"text-align: right;\">\n",
       "      <th></th>\n",
       "      <th>average_temperature</th>\n",
       "      <th>average_maximum_temperature</th>\n",
       "      <th>average_lowest_temperature</th>\n",
       "      <th>average_number_of_rainy_days</th>\n",
       "    </tr>\n",
       "    <tr>\n",
       "      <th>months</th>\n",
       "      <th></th>\n",
       "      <th></th>\n",
       "      <th></th>\n",
       "      <th></th>\n",
       "    </tr>\n",
       "  </thead>\n",
       "  <tbody>\n",
       "    <tr>\n",
       "      <th>January</th>\n",
       "      <td>0.9</td>\n",
       "      <td>4.7</td>\n",
       "      <td>-2.2</td>\n",
       "      <td>13.6</td>\n",
       "    </tr>\n",
       "    <tr>\n",
       "      <th>February</th>\n",
       "      <td>2.7</td>\n",
       "      <td>7.4</td>\n",
       "      <td>-1.2</td>\n",
       "      <td>12.6</td>\n",
       "    </tr>\n",
       "    <tr>\n",
       "      <th>March</th>\n",
       "      <td>6.7</td>\n",
       "      <td>12.2</td>\n",
       "      <td>1.9</td>\n",
       "      <td>13.8</td>\n",
       "    </tr>\n",
       "    <tr>\n",
       "      <th>April</th>\n",
       "      <td>11.5</td>\n",
       "      <td>17.5</td>\n",
       "      <td>6.0</td>\n",
       "      <td>13.4</td>\n",
       "    </tr>\n",
       "    <tr>\n",
       "      <th>May</th>\n",
       "      <td>16.5</td>\n",
       "      <td>22.8</td>\n",
       "      <td>10.5</td>\n",
       "      <td>14.5</td>\n",
       "    </tr>\n",
       "  </tbody>\n",
       "</table>\n",
       "</div>"
      ],
      "text/plain": [
       "          average_temperature  average_maximum_temperature  \\\n",
       "months                                                       \n",
       "January                   0.9                          4.7   \n",
       "February                  2.7                          7.4   \n",
       "March                     6.7                         12.2   \n",
       "April                    11.5                         17.5   \n",
       "May                      16.5                         22.8   \n",
       "\n",
       "          average_lowest_temperature  average_number_of_rainy_days  \n",
       "months                                                              \n",
       "January                         -2.2                          13.6  \n",
       "February                        -1.2                          12.6  \n",
       "March                            1.9                          13.8  \n",
       "April                            6.0                          13.4  \n",
       "May                             10.5                          14.5  "
      ]
     },
     "execution_count": 40,
     "metadata": {},
     "output_type": "execute_result"
    }
   ],
   "source": [
    "df.set_index('months', inplace=True) \n",
    "df.head()"
   ]
  },
  {
   "cell_type": "markdown",
   "id": "6bbb66c0",
   "metadata": {},
   "source": [
    "* Verisetinin index değerini **\"months\"** olarak değiştiriyoruz. Bu değişimin kalıcı olması için **\"inplace=True\"** ifadesini kullanıyoruz. Aksi takdirde verisetini çağırdığımızda hiçbir değişiklik olmayacaktır."
   ]
  },
  {
   "cell_type": "code",
   "execution_count": 41,
   "id": "f721f7ef",
   "metadata": {},
   "outputs": [
    {
     "data": {
      "text/plain": [
       "Index(['January', 'February', 'March', 'April', 'May', 'June', 'July',\n",
       "       'August', 'September', 'October', 'November', 'December'],\n",
       "      dtype='object', name='months')"
      ]
     },
     "execution_count": 41,
     "metadata": {},
     "output_type": "execute_result"
    }
   ],
   "source": [
    "df.index"
   ]
  },
  {
   "cell_type": "code",
   "execution_count": 42,
   "id": "83c938d2",
   "metadata": {},
   "outputs": [
    {
     "data": {
      "text/plain": [
       "average_temperature             13.9\n",
       "average_maximum_temperature     20.3\n",
       "average_lowest_temperature       8.4\n",
       "average_number_of_rainy_days     9.2\n",
       "Name: October, dtype: float64"
      ]
     },
     "execution_count": 42,
     "metadata": {},
     "output_type": "execute_result"
    }
   ],
   "source": [
    "df.loc['October'] # loc[] etiket tabanlı olmasına karşın bool tipindeki verilere de ulaşımı sağlar."
   ]
  },
  {
   "cell_type": "code",
   "execution_count": 43,
   "id": "084e1db3",
   "metadata": {},
   "outputs": [
    {
     "data": {
      "text/html": [
       "<div>\n",
       "<style scoped>\n",
       "    .dataframe tbody tr th:only-of-type {\n",
       "        vertical-align: middle;\n",
       "    }\n",
       "\n",
       "    .dataframe tbody tr th {\n",
       "        vertical-align: top;\n",
       "    }\n",
       "\n",
       "    .dataframe thead th {\n",
       "        text-align: right;\n",
       "    }\n",
       "</style>\n",
       "<table border=\"1\" class=\"dataframe\">\n",
       "  <thead>\n",
       "    <tr style=\"text-align: right;\">\n",
       "      <th></th>\n",
       "      <th>months</th>\n",
       "      <th>average_temperature</th>\n",
       "      <th>average_maximum_temperature</th>\n",
       "      <th>average_lowest_temperature</th>\n",
       "      <th>average_number_of_rainy_days</th>\n",
       "    </tr>\n",
       "  </thead>\n",
       "  <tbody>\n",
       "    <tr>\n",
       "      <th>0</th>\n",
       "      <td>January</td>\n",
       "      <td>0.9</td>\n",
       "      <td>4.7</td>\n",
       "      <td>-2.2</td>\n",
       "      <td>13.6</td>\n",
       "    </tr>\n",
       "    <tr>\n",
       "      <th>1</th>\n",
       "      <td>February</td>\n",
       "      <td>2.7</td>\n",
       "      <td>7.4</td>\n",
       "      <td>-1.2</td>\n",
       "      <td>12.6</td>\n",
       "    </tr>\n",
       "    <tr>\n",
       "      <th>2</th>\n",
       "      <td>March</td>\n",
       "      <td>6.7</td>\n",
       "      <td>12.2</td>\n",
       "      <td>1.9</td>\n",
       "      <td>13.8</td>\n",
       "    </tr>\n",
       "    <tr>\n",
       "      <th>3</th>\n",
       "      <td>April</td>\n",
       "      <td>11.5</td>\n",
       "      <td>17.5</td>\n",
       "      <td>6.0</td>\n",
       "      <td>13.4</td>\n",
       "    </tr>\n",
       "    <tr>\n",
       "      <th>4</th>\n",
       "      <td>May</td>\n",
       "      <td>16.5</td>\n",
       "      <td>22.8</td>\n",
       "      <td>10.5</td>\n",
       "      <td>14.5</td>\n",
       "    </tr>\n",
       "  </tbody>\n",
       "</table>\n",
       "</div>"
      ],
      "text/plain": [
       "     months  average_temperature  average_maximum_temperature  \\\n",
       "0   January                  0.9                          4.7   \n",
       "1  February                  2.7                          7.4   \n",
       "2     March                  6.7                         12.2   \n",
       "3     April                 11.5                         17.5   \n",
       "4       May                 16.5                         22.8   \n",
       "\n",
       "   average_lowest_temperature  average_number_of_rainy_days  \n",
       "0                        -2.2                          13.6  \n",
       "1                        -1.2                          12.6  \n",
       "2                         1.9                          13.8  \n",
       "3                         6.0                          13.4  \n",
       "4                        10.5                          14.5  "
      ]
     },
     "execution_count": 43,
     "metadata": {},
     "output_type": "execute_result"
    }
   ],
   "source": [
    "df.reset_index(inplace=True) # reset_index ile verisetini varsayılan haline döndürüyoruz.\n",
    "df.head()"
   ]
  },
  {
   "cell_type": "code",
   "execution_count": 44,
   "id": "cb93315a",
   "metadata": {},
   "outputs": [
    {
     "data": {
      "text/plain": [
       "months                          April\n",
       "average_temperature              11.5\n",
       "average_maximum_temperature      17.5\n",
       "average_lowest_temperature        6.0\n",
       "average_number_of_rainy_days     13.4\n",
       "Name: 3, dtype: object"
      ]
     },
     "execution_count": 44,
     "metadata": {},
     "output_type": "execute_result"
    }
   ],
   "source": [
    "df.iloc[3] # iloc[] tamsayıya dayalı erişim sağlar."
   ]
  },
  {
   "cell_type": "markdown",
   "id": "0d353e11",
   "metadata": {},
   "source": [
    "Elimizdeki \"average_weather\" veriseti üzerinde bazı değişiklikler yapılarak farklı çalışmalar yapabilmek adına işlevsel hale getirilmiştir. Şimdi elimizdeki güncel veri setini okutup yeni özellikleri incelemeye devam edelim. "
   ]
  },
  {
   "cell_type": "code",
   "execution_count": 45,
   "id": "6b0dc2a3",
   "metadata": {},
   "outputs": [
    {
     "data": {
      "text/html": [
       "<div>\n",
       "<style scoped>\n",
       "    .dataframe tbody tr th:only-of-type {\n",
       "        vertical-align: middle;\n",
       "    }\n",
       "\n",
       "    .dataframe tbody tr th {\n",
       "        vertical-align: top;\n",
       "    }\n",
       "\n",
       "    .dataframe thead th {\n",
       "        text-align: right;\n",
       "    }\n",
       "</style>\n",
       "<table border=\"1\" class=\"dataframe\">\n",
       "  <thead>\n",
       "    <tr style=\"text-align: right;\">\n",
       "      <th></th>\n",
       "      <th>months</th>\n",
       "      <th>average_temperature</th>\n",
       "      <th>average_maximum_temperature</th>\n",
       "      <th>average_lowest_temperature</th>\n",
       "      <th>average_number_of_rainy_days</th>\n",
       "    </tr>\n",
       "  </thead>\n",
       "  <tbody>\n",
       "    <tr>\n",
       "      <th>0</th>\n",
       "      <td>January</td>\n",
       "      <td>0.9</td>\n",
       "      <td>4.7</td>\n",
       "      <td>-2.2</td>\n",
       "      <td>13.6</td>\n",
       "    </tr>\n",
       "    <tr>\n",
       "      <th>1</th>\n",
       "      <td>February</td>\n",
       "      <td>2.7</td>\n",
       "      <td>7.4</td>\n",
       "      <td>NaN</td>\n",
       "      <td>12.6</td>\n",
       "    </tr>\n",
       "    <tr>\n",
       "      <th>2</th>\n",
       "      <td>March</td>\n",
       "      <td>NaN</td>\n",
       "      <td>12.2</td>\n",
       "      <td>1.9</td>\n",
       "      <td>13.8</td>\n",
       "    </tr>\n",
       "    <tr>\n",
       "      <th>3</th>\n",
       "      <td>April</td>\n",
       "      <td>11.5</td>\n",
       "      <td>17.5</td>\n",
       "      <td>6.0</td>\n",
       "      <td>13.4</td>\n",
       "    </tr>\n",
       "    <tr>\n",
       "      <th>4</th>\n",
       "      <td>May</td>\n",
       "      <td>16.5</td>\n",
       "      <td>22.8</td>\n",
       "      <td>10.5</td>\n",
       "      <td>NaN</td>\n",
       "    </tr>\n",
       "    <tr>\n",
       "      <th>5</th>\n",
       "      <td>June</td>\n",
       "      <td>20.6</td>\n",
       "      <td>27.3</td>\n",
       "      <td>14.1</td>\n",
       "      <td>11.4</td>\n",
       "    </tr>\n",
       "    <tr>\n",
       "      <th>6</th>\n",
       "      <td>July</td>\n",
       "      <td>24.2</td>\n",
       "      <td>31.0</td>\n",
       "      <td>NaN</td>\n",
       "      <td>4.6</td>\n",
       "    </tr>\n",
       "    <tr>\n",
       "      <th>7</th>\n",
       "      <td>August</td>\n",
       "      <td>24.3</td>\n",
       "      <td>31.0</td>\n",
       "      <td>17.4</td>\n",
       "      <td>5.1</td>\n",
       "    </tr>\n",
       "    <tr>\n",
       "      <th>8</th>\n",
       "      <td>September</td>\n",
       "      <td>19.6</td>\n",
       "      <td>26.5</td>\n",
       "      <td>13.1</td>\n",
       "      <td>5.5</td>\n",
       "    </tr>\n",
       "    <tr>\n",
       "      <th>9</th>\n",
       "      <td>October</td>\n",
       "      <td>13.9</td>\n",
       "      <td>20.3</td>\n",
       "      <td>8.4</td>\n",
       "      <td>NaN</td>\n",
       "    </tr>\n",
       "    <tr>\n",
       "      <th>10</th>\n",
       "      <td>November</td>\n",
       "      <td>7.3</td>\n",
       "      <td>13.0</td>\n",
       "      <td>2.7</td>\n",
       "      <td>8.9</td>\n",
       "    </tr>\n",
       "    <tr>\n",
       "      <th>11</th>\n",
       "      <td>December</td>\n",
       "      <td>2.8</td>\n",
       "      <td>6.7</td>\n",
       "      <td>-0.3</td>\n",
       "      <td>14.0</td>\n",
       "    </tr>\n",
       "  </tbody>\n",
       "</table>\n",
       "</div>"
      ],
      "text/plain": [
       "       months  average_temperature  average_maximum_temperature  \\\n",
       "0     January                  0.9                          4.7   \n",
       "1    February                  2.7                          7.4   \n",
       "2       March                  NaN                         12.2   \n",
       "3       April                 11.5                         17.5   \n",
       "4         May                 16.5                         22.8   \n",
       "5        June                 20.6                         27.3   \n",
       "6        July                 24.2                         31.0   \n",
       "7      August                 24.3                         31.0   \n",
       "8   September                 19.6                         26.5   \n",
       "9     October                 13.9                         20.3   \n",
       "10   November                  7.3                         13.0   \n",
       "11   December                  2.8                          6.7   \n",
       "\n",
       "    average_lowest_temperature  average_number_of_rainy_days  \n",
       "0                         -2.2                          13.6  \n",
       "1                          NaN                          12.6  \n",
       "2                          1.9                          13.8  \n",
       "3                          6.0                          13.4  \n",
       "4                         10.5                           NaN  \n",
       "5                         14.1                          11.4  \n",
       "6                          NaN                           4.6  \n",
       "7                         17.4                           5.1  \n",
       "8                         13.1                           5.5  \n",
       "9                          8.4                           NaN  \n",
       "10                         2.7                           8.9  \n",
       "11                        -0.3                          14.0  "
      ]
     },
     "execution_count": 45,
     "metadata": {},
     "output_type": "execute_result"
    }
   ],
   "source": [
    "df_ = pd.read_excel(\"new_average_weather.xlsx\")\n",
    "df_"
   ]
  },
  {
   "cell_type": "markdown",
   "id": "e3a63f88",
   "metadata": {},
   "source": [
    "* **fillna** özelliği ile NA-NaN verilerine istediğimiz değeri verebiliriz."
   ]
  },
  {
   "cell_type": "code",
   "execution_count": 46,
   "id": "26eee23e",
   "metadata": {
    "scrolled": true
   },
   "outputs": [
    {
     "data": {
      "text/html": [
       "<div>\n",
       "<style scoped>\n",
       "    .dataframe tbody tr th:only-of-type {\n",
       "        vertical-align: middle;\n",
       "    }\n",
       "\n",
       "    .dataframe tbody tr th {\n",
       "        vertical-align: top;\n",
       "    }\n",
       "\n",
       "    .dataframe thead th {\n",
       "        text-align: right;\n",
       "    }\n",
       "</style>\n",
       "<table border=\"1\" class=\"dataframe\">\n",
       "  <thead>\n",
       "    <tr style=\"text-align: right;\">\n",
       "      <th></th>\n",
       "      <th>months</th>\n",
       "      <th>average_temperature</th>\n",
       "      <th>average_maximum_temperature</th>\n",
       "      <th>average_lowest_temperature</th>\n",
       "      <th>average_number_of_rainy_days</th>\n",
       "    </tr>\n",
       "  </thead>\n",
       "  <tbody>\n",
       "    <tr>\n",
       "      <th>0</th>\n",
       "      <td>January</td>\n",
       "      <td>0.9</td>\n",
       "      <td>4.7</td>\n",
       "      <td>-2.2</td>\n",
       "      <td>13.6</td>\n",
       "    </tr>\n",
       "    <tr>\n",
       "      <th>1</th>\n",
       "      <td>February</td>\n",
       "      <td>2.7</td>\n",
       "      <td>7.4</td>\n",
       "      <td>0.0</td>\n",
       "      <td>12.6</td>\n",
       "    </tr>\n",
       "    <tr>\n",
       "      <th>2</th>\n",
       "      <td>March</td>\n",
       "      <td>0.0</td>\n",
       "      <td>12.2</td>\n",
       "      <td>1.9</td>\n",
       "      <td>13.8</td>\n",
       "    </tr>\n",
       "    <tr>\n",
       "      <th>3</th>\n",
       "      <td>April</td>\n",
       "      <td>11.5</td>\n",
       "      <td>17.5</td>\n",
       "      <td>6.0</td>\n",
       "      <td>13.4</td>\n",
       "    </tr>\n",
       "    <tr>\n",
       "      <th>4</th>\n",
       "      <td>May</td>\n",
       "      <td>16.5</td>\n",
       "      <td>22.8</td>\n",
       "      <td>10.5</td>\n",
       "      <td>0.0</td>\n",
       "    </tr>\n",
       "    <tr>\n",
       "      <th>5</th>\n",
       "      <td>June</td>\n",
       "      <td>20.6</td>\n",
       "      <td>27.3</td>\n",
       "      <td>14.1</td>\n",
       "      <td>11.4</td>\n",
       "    </tr>\n",
       "    <tr>\n",
       "      <th>6</th>\n",
       "      <td>July</td>\n",
       "      <td>24.2</td>\n",
       "      <td>31.0</td>\n",
       "      <td>0.0</td>\n",
       "      <td>4.6</td>\n",
       "    </tr>\n",
       "    <tr>\n",
       "      <th>7</th>\n",
       "      <td>August</td>\n",
       "      <td>24.3</td>\n",
       "      <td>31.0</td>\n",
       "      <td>17.4</td>\n",
       "      <td>5.1</td>\n",
       "    </tr>\n",
       "    <tr>\n",
       "      <th>8</th>\n",
       "      <td>September</td>\n",
       "      <td>19.6</td>\n",
       "      <td>26.5</td>\n",
       "      <td>13.1</td>\n",
       "      <td>5.5</td>\n",
       "    </tr>\n",
       "    <tr>\n",
       "      <th>9</th>\n",
       "      <td>October</td>\n",
       "      <td>13.9</td>\n",
       "      <td>20.3</td>\n",
       "      <td>8.4</td>\n",
       "      <td>0.0</td>\n",
       "    </tr>\n",
       "    <tr>\n",
       "      <th>10</th>\n",
       "      <td>November</td>\n",
       "      <td>7.3</td>\n",
       "      <td>13.0</td>\n",
       "      <td>2.7</td>\n",
       "      <td>8.9</td>\n",
       "    </tr>\n",
       "    <tr>\n",
       "      <th>11</th>\n",
       "      <td>December</td>\n",
       "      <td>2.8</td>\n",
       "      <td>6.7</td>\n",
       "      <td>-0.3</td>\n",
       "      <td>14.0</td>\n",
       "    </tr>\n",
       "  </tbody>\n",
       "</table>\n",
       "</div>"
      ],
      "text/plain": [
       "       months  average_temperature  average_maximum_temperature  \\\n",
       "0     January                  0.9                          4.7   \n",
       "1    February                  2.7                          7.4   \n",
       "2       March                  0.0                         12.2   \n",
       "3       April                 11.5                         17.5   \n",
       "4         May                 16.5                         22.8   \n",
       "5        June                 20.6                         27.3   \n",
       "6        July                 24.2                         31.0   \n",
       "7      August                 24.3                         31.0   \n",
       "8   September                 19.6                         26.5   \n",
       "9     October                 13.9                         20.3   \n",
       "10   November                  7.3                         13.0   \n",
       "11   December                  2.8                          6.7   \n",
       "\n",
       "    average_lowest_temperature  average_number_of_rainy_days  \n",
       "0                         -2.2                          13.6  \n",
       "1                          0.0                          12.6  \n",
       "2                          1.9                          13.8  \n",
       "3                          6.0                          13.4  \n",
       "4                         10.5                           0.0  \n",
       "5                         14.1                          11.4  \n",
       "6                          0.0                           4.6  \n",
       "7                         17.4                           5.1  \n",
       "8                         13.1                           5.5  \n",
       "9                          8.4                           0.0  \n",
       "10                         2.7                           8.9  \n",
       "11                        -0.3                          14.0  "
      ]
     },
     "execution_count": 46,
     "metadata": {},
     "output_type": "execute_result"
    }
   ],
   "source": [
    "df_.fillna(value=0)"
   ]
  },
  {
   "cell_type": "code",
   "execution_count": 47,
   "id": "e97a9f39",
   "metadata": {},
   "outputs": [
    {
     "data": {
      "text/html": [
       "<div>\n",
       "<style scoped>\n",
       "    .dataframe tbody tr th:only-of-type {\n",
       "        vertical-align: middle;\n",
       "    }\n",
       "\n",
       "    .dataframe tbody tr th {\n",
       "        vertical-align: top;\n",
       "    }\n",
       "\n",
       "    .dataframe thead th {\n",
       "        text-align: right;\n",
       "    }\n",
       "</style>\n",
       "<table border=\"1\" class=\"dataframe\">\n",
       "  <thead>\n",
       "    <tr style=\"text-align: right;\">\n",
       "      <th></th>\n",
       "      <th>months</th>\n",
       "      <th>average_temperature</th>\n",
       "      <th>average_maximum_temperature</th>\n",
       "      <th>average_lowest_temperature</th>\n",
       "      <th>average_number_of_rainy_days</th>\n",
       "    </tr>\n",
       "  </thead>\n",
       "  <tbody>\n",
       "    <tr>\n",
       "      <th>0</th>\n",
       "      <td>January</td>\n",
       "      <td>0.9</td>\n",
       "      <td>4.7</td>\n",
       "      <td>-2.2</td>\n",
       "      <td>13.6</td>\n",
       "    </tr>\n",
       "    <tr>\n",
       "      <th>1</th>\n",
       "      <td>February</td>\n",
       "      <td>2.7</td>\n",
       "      <td>7.4</td>\n",
       "      <td>NaN</td>\n",
       "      <td>12.6</td>\n",
       "    </tr>\n",
       "    <tr>\n",
       "      <th>2</th>\n",
       "      <td>March</td>\n",
       "      <td>NaN</td>\n",
       "      <td>12.2</td>\n",
       "      <td>1.9</td>\n",
       "      <td>13.8</td>\n",
       "    </tr>\n",
       "  </tbody>\n",
       "</table>\n",
       "</div>"
      ],
      "text/plain": [
       "     months  average_temperature  average_maximum_temperature  \\\n",
       "0   January                  0.9                          4.7   \n",
       "1  February                  2.7                          7.4   \n",
       "2     March                  NaN                         12.2   \n",
       "\n",
       "   average_lowest_temperature  average_number_of_rainy_days  \n",
       "0                        -2.2                          13.6  \n",
       "1                         NaN                          12.6  \n",
       "2                         1.9                          13.8  "
      ]
     },
     "execution_count": 47,
     "metadata": {},
     "output_type": "execute_result"
    }
   ],
   "source": [
    "df_.head(3)"
   ]
  },
  {
   "cell_type": "markdown",
   "id": "fabc5af0",
   "metadata": {},
   "source": [
    "Yaptığımız değişikliğin kalıcı olmadığını görüyoruz. Burada yaptığımız değişiklikleri **\"inplace=True\"** ifadesini kullanarak kalıcı hale getirebiliriz. Sabitlemeden önce birkaç özellik daha görelim."
   ]
  },
  {
   "cell_type": "code",
   "execution_count": 48,
   "id": "0f0f2c4b",
   "metadata": {},
   "outputs": [
    {
     "data": {
      "text/html": [
       "<div>\n",
       "<style scoped>\n",
       "    .dataframe tbody tr th:only-of-type {\n",
       "        vertical-align: middle;\n",
       "    }\n",
       "\n",
       "    .dataframe tbody tr th {\n",
       "        vertical-align: top;\n",
       "    }\n",
       "\n",
       "    .dataframe thead th {\n",
       "        text-align: right;\n",
       "    }\n",
       "</style>\n",
       "<table border=\"1\" class=\"dataframe\">\n",
       "  <thead>\n",
       "    <tr style=\"text-align: right;\">\n",
       "      <th></th>\n",
       "      <th>months</th>\n",
       "      <th>average_temperature</th>\n",
       "      <th>average_maximum_temperature</th>\n",
       "      <th>average_lowest_temperature</th>\n",
       "      <th>average_number_of_rainy_days</th>\n",
       "    </tr>\n",
       "  </thead>\n",
       "  <tbody>\n",
       "    <tr>\n",
       "      <th>0</th>\n",
       "      <td>January</td>\n",
       "      <td>0.9</td>\n",
       "      <td>4.7</td>\n",
       "      <td>-2.2</td>\n",
       "      <td>13.6</td>\n",
       "    </tr>\n",
       "    <tr>\n",
       "      <th>1</th>\n",
       "      <td>February</td>\n",
       "      <td>2.7</td>\n",
       "      <td>7.4</td>\n",
       "      <td>-2.2</td>\n",
       "      <td>12.6</td>\n",
       "    </tr>\n",
       "    <tr>\n",
       "      <th>2</th>\n",
       "      <td>March</td>\n",
       "      <td>2.7</td>\n",
       "      <td>12.2</td>\n",
       "      <td>1.9</td>\n",
       "      <td>13.8</td>\n",
       "    </tr>\n",
       "    <tr>\n",
       "      <th>3</th>\n",
       "      <td>April</td>\n",
       "      <td>11.5</td>\n",
       "      <td>17.5</td>\n",
       "      <td>6.0</td>\n",
       "      <td>13.4</td>\n",
       "    </tr>\n",
       "    <tr>\n",
       "      <th>4</th>\n",
       "      <td>May</td>\n",
       "      <td>16.5</td>\n",
       "      <td>22.8</td>\n",
       "      <td>10.5</td>\n",
       "      <td>13.4</td>\n",
       "    </tr>\n",
       "    <tr>\n",
       "      <th>5</th>\n",
       "      <td>June</td>\n",
       "      <td>20.6</td>\n",
       "      <td>27.3</td>\n",
       "      <td>14.1</td>\n",
       "      <td>11.4</td>\n",
       "    </tr>\n",
       "    <tr>\n",
       "      <th>6</th>\n",
       "      <td>July</td>\n",
       "      <td>24.2</td>\n",
       "      <td>31.0</td>\n",
       "      <td>14.1</td>\n",
       "      <td>4.6</td>\n",
       "    </tr>\n",
       "    <tr>\n",
       "      <th>7</th>\n",
       "      <td>August</td>\n",
       "      <td>24.3</td>\n",
       "      <td>31.0</td>\n",
       "      <td>17.4</td>\n",
       "      <td>5.1</td>\n",
       "    </tr>\n",
       "    <tr>\n",
       "      <th>8</th>\n",
       "      <td>September</td>\n",
       "      <td>19.6</td>\n",
       "      <td>26.5</td>\n",
       "      <td>13.1</td>\n",
       "      <td>5.5</td>\n",
       "    </tr>\n",
       "    <tr>\n",
       "      <th>9</th>\n",
       "      <td>October</td>\n",
       "      <td>13.9</td>\n",
       "      <td>20.3</td>\n",
       "      <td>8.4</td>\n",
       "      <td>5.5</td>\n",
       "    </tr>\n",
       "    <tr>\n",
       "      <th>10</th>\n",
       "      <td>November</td>\n",
       "      <td>7.3</td>\n",
       "      <td>13.0</td>\n",
       "      <td>2.7</td>\n",
       "      <td>8.9</td>\n",
       "    </tr>\n",
       "    <tr>\n",
       "      <th>11</th>\n",
       "      <td>December</td>\n",
       "      <td>2.8</td>\n",
       "      <td>6.7</td>\n",
       "      <td>-0.3</td>\n",
       "      <td>14.0</td>\n",
       "    </tr>\n",
       "  </tbody>\n",
       "</table>\n",
       "</div>"
      ],
      "text/plain": [
       "       months  average_temperature  average_maximum_temperature  \\\n",
       "0     January                  0.9                          4.7   \n",
       "1    February                  2.7                          7.4   \n",
       "2       March                  2.7                         12.2   \n",
       "3       April                 11.5                         17.5   \n",
       "4         May                 16.5                         22.8   \n",
       "5        June                 20.6                         27.3   \n",
       "6        July                 24.2                         31.0   \n",
       "7      August                 24.3                         31.0   \n",
       "8   September                 19.6                         26.5   \n",
       "9     October                 13.9                         20.3   \n",
       "10   November                  7.3                         13.0   \n",
       "11   December                  2.8                          6.7   \n",
       "\n",
       "    average_lowest_temperature  average_number_of_rainy_days  \n",
       "0                         -2.2                          13.6  \n",
       "1                         -2.2                          12.6  \n",
       "2                          1.9                          13.8  \n",
       "3                          6.0                          13.4  \n",
       "4                         10.5                          13.4  \n",
       "5                         14.1                          11.4  \n",
       "6                         14.1                           4.6  \n",
       "7                         17.4                           5.1  \n",
       "8                         13.1                           5.5  \n",
       "9                          8.4                           5.5  \n",
       "10                         2.7                           8.9  \n",
       "11                        -0.3                          14.0  "
      ]
     },
     "execution_count": 48,
     "metadata": {},
     "output_type": "execute_result"
    }
   ],
   "source": [
    "df_.fillna(method=\"ffill\")"
   ]
  },
  {
   "cell_type": "markdown",
   "id": "a2f90d45",
   "metadata": {},
   "source": [
    "Bu özellik ile NaN değeri kendisinden önceki satırın değerini alır. Mart ayının \"average_temperature\" kolonuna baktığımızda NaN değerinin bir üstdeki 2.7 değerini aldığını gözlemleyebiliriz."
   ]
  },
  {
   "cell_type": "code",
   "execution_count": 49,
   "id": "1e8271e1",
   "metadata": {},
   "outputs": [
    {
     "data": {
      "text/html": [
       "<div>\n",
       "<style scoped>\n",
       "    .dataframe tbody tr th:only-of-type {\n",
       "        vertical-align: middle;\n",
       "    }\n",
       "\n",
       "    .dataframe tbody tr th {\n",
       "        vertical-align: top;\n",
       "    }\n",
       "\n",
       "    .dataframe thead th {\n",
       "        text-align: right;\n",
       "    }\n",
       "</style>\n",
       "<table border=\"1\" class=\"dataframe\">\n",
       "  <thead>\n",
       "    <tr style=\"text-align: right;\">\n",
       "      <th></th>\n",
       "      <th>months</th>\n",
       "      <th>average_temperature</th>\n",
       "      <th>average_maximum_temperature</th>\n",
       "      <th>average_lowest_temperature</th>\n",
       "      <th>average_number_of_rainy_days</th>\n",
       "    </tr>\n",
       "  </thead>\n",
       "  <tbody>\n",
       "    <tr>\n",
       "      <th>0</th>\n",
       "      <td>January</td>\n",
       "      <td>0.9</td>\n",
       "      <td>4.7</td>\n",
       "      <td>-2.2</td>\n",
       "      <td>13.6</td>\n",
       "    </tr>\n",
       "    <tr>\n",
       "      <th>1</th>\n",
       "      <td>February</td>\n",
       "      <td>2.7</td>\n",
       "      <td>7.4</td>\n",
       "      <td>1.9</td>\n",
       "      <td>12.6</td>\n",
       "    </tr>\n",
       "    <tr>\n",
       "      <th>2</th>\n",
       "      <td>March</td>\n",
       "      <td>11.5</td>\n",
       "      <td>12.2</td>\n",
       "      <td>1.9</td>\n",
       "      <td>13.8</td>\n",
       "    </tr>\n",
       "    <tr>\n",
       "      <th>3</th>\n",
       "      <td>April</td>\n",
       "      <td>11.5</td>\n",
       "      <td>17.5</td>\n",
       "      <td>6.0</td>\n",
       "      <td>13.4</td>\n",
       "    </tr>\n",
       "    <tr>\n",
       "      <th>4</th>\n",
       "      <td>May</td>\n",
       "      <td>16.5</td>\n",
       "      <td>22.8</td>\n",
       "      <td>10.5</td>\n",
       "      <td>11.4</td>\n",
       "    </tr>\n",
       "    <tr>\n",
       "      <th>5</th>\n",
       "      <td>June</td>\n",
       "      <td>20.6</td>\n",
       "      <td>27.3</td>\n",
       "      <td>14.1</td>\n",
       "      <td>11.4</td>\n",
       "    </tr>\n",
       "    <tr>\n",
       "      <th>6</th>\n",
       "      <td>July</td>\n",
       "      <td>24.2</td>\n",
       "      <td>31.0</td>\n",
       "      <td>17.4</td>\n",
       "      <td>4.6</td>\n",
       "    </tr>\n",
       "    <tr>\n",
       "      <th>7</th>\n",
       "      <td>August</td>\n",
       "      <td>24.3</td>\n",
       "      <td>31.0</td>\n",
       "      <td>17.4</td>\n",
       "      <td>5.1</td>\n",
       "    </tr>\n",
       "    <tr>\n",
       "      <th>8</th>\n",
       "      <td>September</td>\n",
       "      <td>19.6</td>\n",
       "      <td>26.5</td>\n",
       "      <td>13.1</td>\n",
       "      <td>5.5</td>\n",
       "    </tr>\n",
       "    <tr>\n",
       "      <th>9</th>\n",
       "      <td>October</td>\n",
       "      <td>13.9</td>\n",
       "      <td>20.3</td>\n",
       "      <td>8.4</td>\n",
       "      <td>8.9</td>\n",
       "    </tr>\n",
       "    <tr>\n",
       "      <th>10</th>\n",
       "      <td>November</td>\n",
       "      <td>7.3</td>\n",
       "      <td>13.0</td>\n",
       "      <td>2.7</td>\n",
       "      <td>8.9</td>\n",
       "    </tr>\n",
       "    <tr>\n",
       "      <th>11</th>\n",
       "      <td>December</td>\n",
       "      <td>2.8</td>\n",
       "      <td>6.7</td>\n",
       "      <td>-0.3</td>\n",
       "      <td>14.0</td>\n",
       "    </tr>\n",
       "  </tbody>\n",
       "</table>\n",
       "</div>"
      ],
      "text/plain": [
       "       months  average_temperature  average_maximum_temperature  \\\n",
       "0     January                  0.9                          4.7   \n",
       "1    February                  2.7                          7.4   \n",
       "2       March                 11.5                         12.2   \n",
       "3       April                 11.5                         17.5   \n",
       "4         May                 16.5                         22.8   \n",
       "5        June                 20.6                         27.3   \n",
       "6        July                 24.2                         31.0   \n",
       "7      August                 24.3                         31.0   \n",
       "8   September                 19.6                         26.5   \n",
       "9     October                 13.9                         20.3   \n",
       "10   November                  7.3                         13.0   \n",
       "11   December                  2.8                          6.7   \n",
       "\n",
       "    average_lowest_temperature  average_number_of_rainy_days  \n",
       "0                         -2.2                          13.6  \n",
       "1                          1.9                          12.6  \n",
       "2                          1.9                          13.8  \n",
       "3                          6.0                          13.4  \n",
       "4                         10.5                          11.4  \n",
       "5                         14.1                          11.4  \n",
       "6                         17.4                           4.6  \n",
       "7                         17.4                           5.1  \n",
       "8                         13.1                           5.5  \n",
       "9                          8.4                           8.9  \n",
       "10                         2.7                           8.9  \n",
       "11                        -0.3                          14.0  "
      ]
     },
     "execution_count": 49,
     "metadata": {},
     "output_type": "execute_result"
    }
   ],
   "source": [
    "df_.fillna(method=\"bfill\")"
   ]
  },
  {
   "cell_type": "markdown",
   "id": "b949d551",
   "metadata": {},
   "source": [
    "Bu özellik ile NaN değeri kendisinden sonraki satırın değerini alır. Şubat ayının \"average_lowest_temperature\" kolonuna baktığımızda NaN değerinin bir altındaki 1.9 değerini aldığını gözlemleyebiliriz. "
   ]
  },
  {
   "cell_type": "code",
   "execution_count": 50,
   "id": "1b0e8d22",
   "metadata": {},
   "outputs": [
    {
     "data": {
      "text/html": [
       "<div>\n",
       "<style scoped>\n",
       "    .dataframe tbody tr th:only-of-type {\n",
       "        vertical-align: middle;\n",
       "    }\n",
       "\n",
       "    .dataframe tbody tr th {\n",
       "        vertical-align: top;\n",
       "    }\n",
       "\n",
       "    .dataframe thead th {\n",
       "        text-align: right;\n",
       "    }\n",
       "</style>\n",
       "<table border=\"1\" class=\"dataframe\">\n",
       "  <thead>\n",
       "    <tr style=\"text-align: right;\">\n",
       "      <th></th>\n",
       "      <th>months</th>\n",
       "      <th>average_temperature</th>\n",
       "      <th>average_maximum_temperature</th>\n",
       "      <th>average_lowest_temperature</th>\n",
       "      <th>average_number_of_rainy_days</th>\n",
       "    </tr>\n",
       "  </thead>\n",
       "  <tbody>\n",
       "    <tr>\n",
       "      <th>0</th>\n",
       "      <td>January</td>\n",
       "      <td>0.9</td>\n",
       "      <td>4.7</td>\n",
       "      <td>-2.20</td>\n",
       "      <td>13.6</td>\n",
       "    </tr>\n",
       "    <tr>\n",
       "      <th>1</th>\n",
       "      <td>February</td>\n",
       "      <td>2.7</td>\n",
       "      <td>7.4</td>\n",
       "      <td>-0.15</td>\n",
       "      <td>12.6</td>\n",
       "    </tr>\n",
       "    <tr>\n",
       "      <th>2</th>\n",
       "      <td>March</td>\n",
       "      <td>7.1</td>\n",
       "      <td>12.2</td>\n",
       "      <td>1.90</td>\n",
       "      <td>13.8</td>\n",
       "    </tr>\n",
       "    <tr>\n",
       "      <th>3</th>\n",
       "      <td>April</td>\n",
       "      <td>11.5</td>\n",
       "      <td>17.5</td>\n",
       "      <td>6.00</td>\n",
       "      <td>13.4</td>\n",
       "    </tr>\n",
       "    <tr>\n",
       "      <th>4</th>\n",
       "      <td>May</td>\n",
       "      <td>16.5</td>\n",
       "      <td>22.8</td>\n",
       "      <td>10.50</td>\n",
       "      <td>12.4</td>\n",
       "    </tr>\n",
       "    <tr>\n",
       "      <th>5</th>\n",
       "      <td>June</td>\n",
       "      <td>20.6</td>\n",
       "      <td>27.3</td>\n",
       "      <td>14.10</td>\n",
       "      <td>11.4</td>\n",
       "    </tr>\n",
       "    <tr>\n",
       "      <th>6</th>\n",
       "      <td>July</td>\n",
       "      <td>24.2</td>\n",
       "      <td>31.0</td>\n",
       "      <td>15.75</td>\n",
       "      <td>4.6</td>\n",
       "    </tr>\n",
       "    <tr>\n",
       "      <th>7</th>\n",
       "      <td>August</td>\n",
       "      <td>24.3</td>\n",
       "      <td>31.0</td>\n",
       "      <td>17.40</td>\n",
       "      <td>5.1</td>\n",
       "    </tr>\n",
       "    <tr>\n",
       "      <th>8</th>\n",
       "      <td>September</td>\n",
       "      <td>19.6</td>\n",
       "      <td>26.5</td>\n",
       "      <td>13.10</td>\n",
       "      <td>5.5</td>\n",
       "    </tr>\n",
       "    <tr>\n",
       "      <th>9</th>\n",
       "      <td>October</td>\n",
       "      <td>13.9</td>\n",
       "      <td>20.3</td>\n",
       "      <td>8.40</td>\n",
       "      <td>7.2</td>\n",
       "    </tr>\n",
       "    <tr>\n",
       "      <th>10</th>\n",
       "      <td>November</td>\n",
       "      <td>7.3</td>\n",
       "      <td>13.0</td>\n",
       "      <td>2.70</td>\n",
       "      <td>8.9</td>\n",
       "    </tr>\n",
       "    <tr>\n",
       "      <th>11</th>\n",
       "      <td>December</td>\n",
       "      <td>2.8</td>\n",
       "      <td>6.7</td>\n",
       "      <td>-0.30</td>\n",
       "      <td>14.0</td>\n",
       "    </tr>\n",
       "  </tbody>\n",
       "</table>\n",
       "</div>"
      ],
      "text/plain": [
       "       months  average_temperature  average_maximum_temperature  \\\n",
       "0     January                  0.9                          4.7   \n",
       "1    February                  2.7                          7.4   \n",
       "2       March                  7.1                         12.2   \n",
       "3       April                 11.5                         17.5   \n",
       "4         May                 16.5                         22.8   \n",
       "5        June                 20.6                         27.3   \n",
       "6        July                 24.2                         31.0   \n",
       "7      August                 24.3                         31.0   \n",
       "8   September                 19.6                         26.5   \n",
       "9     October                 13.9                         20.3   \n",
       "10   November                  7.3                         13.0   \n",
       "11   December                  2.8                          6.7   \n",
       "\n",
       "    average_lowest_temperature  average_number_of_rainy_days  \n",
       "0                        -2.20                          13.6  \n",
       "1                        -0.15                          12.6  \n",
       "2                         1.90                          13.8  \n",
       "3                         6.00                          13.4  \n",
       "4                        10.50                          12.4  \n",
       "5                        14.10                          11.4  \n",
       "6                        15.75                           4.6  \n",
       "7                        17.40                           5.1  \n",
       "8                        13.10                           5.5  \n",
       "9                         8.40                           7.2  \n",
       "10                        2.70                           8.9  \n",
       "11                       -0.30                          14.0  "
      ]
     },
     "execution_count": 50,
     "metadata": {},
     "output_type": "execute_result"
    }
   ],
   "source": [
    "df_.interpolate()"
   ]
  },
  {
   "cell_type": "markdown",
   "id": "298b6d7c",
   "metadata": {},
   "source": [
    "**\" interpolate ( method = ' linear ' ) \"** özelliği ile NULL değerinin üstündeki ve altındaki değerlerin arasında bir değeri NULL değerine verir. Varsayılan olarak  \"linear\" formundadır. Bunun dışında \"time\", \"index\" gibi çeşitli metotları vardır. "
   ]
  },
  {
   "cell_type": "code",
   "execution_count": 51,
   "id": "891d83ba",
   "metadata": {
    "scrolled": true
   },
   "outputs": [
    {
     "data": {
      "text/html": [
       "<div>\n",
       "<style scoped>\n",
       "    .dataframe tbody tr th:only-of-type {\n",
       "        vertical-align: middle;\n",
       "    }\n",
       "\n",
       "    .dataframe tbody tr th {\n",
       "        vertical-align: top;\n",
       "    }\n",
       "\n",
       "    .dataframe thead th {\n",
       "        text-align: right;\n",
       "    }\n",
       "</style>\n",
       "<table border=\"1\" class=\"dataframe\">\n",
       "  <thead>\n",
       "    <tr style=\"text-align: right;\">\n",
       "      <th></th>\n",
       "      <th>months</th>\n",
       "      <th>average_temperature</th>\n",
       "      <th>average_maximum_temperature</th>\n",
       "      <th>average_lowest_temperature</th>\n",
       "      <th>average_number_of_rainy_days</th>\n",
       "    </tr>\n",
       "  </thead>\n",
       "  <tbody>\n",
       "    <tr>\n",
       "      <th>0</th>\n",
       "      <td>January</td>\n",
       "      <td>0.9</td>\n",
       "      <td>4.7</td>\n",
       "      <td>-2.2</td>\n",
       "      <td>13.6</td>\n",
       "    </tr>\n",
       "    <tr>\n",
       "      <th>3</th>\n",
       "      <td>April</td>\n",
       "      <td>11.5</td>\n",
       "      <td>17.5</td>\n",
       "      <td>6.0</td>\n",
       "      <td>13.4</td>\n",
       "    </tr>\n",
       "    <tr>\n",
       "      <th>5</th>\n",
       "      <td>June</td>\n",
       "      <td>20.6</td>\n",
       "      <td>27.3</td>\n",
       "      <td>14.1</td>\n",
       "      <td>11.4</td>\n",
       "    </tr>\n",
       "    <tr>\n",
       "      <th>7</th>\n",
       "      <td>August</td>\n",
       "      <td>24.3</td>\n",
       "      <td>31.0</td>\n",
       "      <td>17.4</td>\n",
       "      <td>5.1</td>\n",
       "    </tr>\n",
       "    <tr>\n",
       "      <th>8</th>\n",
       "      <td>September</td>\n",
       "      <td>19.6</td>\n",
       "      <td>26.5</td>\n",
       "      <td>13.1</td>\n",
       "      <td>5.5</td>\n",
       "    </tr>\n",
       "    <tr>\n",
       "      <th>10</th>\n",
       "      <td>November</td>\n",
       "      <td>7.3</td>\n",
       "      <td>13.0</td>\n",
       "      <td>2.7</td>\n",
       "      <td>8.9</td>\n",
       "    </tr>\n",
       "    <tr>\n",
       "      <th>11</th>\n",
       "      <td>December</td>\n",
       "      <td>2.8</td>\n",
       "      <td>6.7</td>\n",
       "      <td>-0.3</td>\n",
       "      <td>14.0</td>\n",
       "    </tr>\n",
       "  </tbody>\n",
       "</table>\n",
       "</div>"
      ],
      "text/plain": [
       "       months  average_temperature  average_maximum_temperature  \\\n",
       "0     January                  0.9                          4.7   \n",
       "3       April                 11.5                         17.5   \n",
       "5        June                 20.6                         27.3   \n",
       "7      August                 24.3                         31.0   \n",
       "8   September                 19.6                         26.5   \n",
       "10   November                  7.3                         13.0   \n",
       "11   December                  2.8                          6.7   \n",
       "\n",
       "    average_lowest_temperature  average_number_of_rainy_days  \n",
       "0                         -2.2                          13.6  \n",
       "3                          6.0                          13.4  \n",
       "5                         14.1                          11.4  \n",
       "7                         17.4                           5.1  \n",
       "8                         13.1                           5.5  \n",
       "10                         2.7                           8.9  \n",
       "11                        -0.3                          14.0  "
      ]
     },
     "execution_count": 51,
     "metadata": {},
     "output_type": "execute_result"
    }
   ],
   "source": [
    "df_.dropna()"
   ]
  },
  {
   "cell_type": "markdown",
   "id": "83b7bb46",
   "metadata": {},
   "source": [
    "Çıktıdan da anlaşılacağı gibi **\" dropna() \"** özelliği eksik değer bulunan satırları siler. Varsayılan olarak satır (axis=0) siliyor ancak **\" axis=1 \"** özelliği ile dilersek sütun silmesini de sağlayabiliriz."
   ]
  },
  {
   "cell_type": "code",
   "execution_count": 52,
   "id": "8358993c",
   "metadata": {},
   "outputs": [
    {
     "data": {
      "text/html": [
       "<div>\n",
       "<style scoped>\n",
       "    .dataframe tbody tr th:only-of-type {\n",
       "        vertical-align: middle;\n",
       "    }\n",
       "\n",
       "    .dataframe tbody tr th {\n",
       "        vertical-align: top;\n",
       "    }\n",
       "\n",
       "    .dataframe thead th {\n",
       "        text-align: right;\n",
       "    }\n",
       "</style>\n",
       "<table border=\"1\" class=\"dataframe\">\n",
       "  <thead>\n",
       "    <tr style=\"text-align: right;\">\n",
       "      <th></th>\n",
       "      <th>months</th>\n",
       "      <th>average_maximum_temperature</th>\n",
       "    </tr>\n",
       "  </thead>\n",
       "  <tbody>\n",
       "    <tr>\n",
       "      <th>0</th>\n",
       "      <td>January</td>\n",
       "      <td>4.7</td>\n",
       "    </tr>\n",
       "    <tr>\n",
       "      <th>1</th>\n",
       "      <td>February</td>\n",
       "      <td>7.4</td>\n",
       "    </tr>\n",
       "    <tr>\n",
       "      <th>2</th>\n",
       "      <td>March</td>\n",
       "      <td>12.2</td>\n",
       "    </tr>\n",
       "    <tr>\n",
       "      <th>3</th>\n",
       "      <td>April</td>\n",
       "      <td>17.5</td>\n",
       "    </tr>\n",
       "    <tr>\n",
       "      <th>4</th>\n",
       "      <td>May</td>\n",
       "      <td>22.8</td>\n",
       "    </tr>\n",
       "    <tr>\n",
       "      <th>5</th>\n",
       "      <td>June</td>\n",
       "      <td>27.3</td>\n",
       "    </tr>\n",
       "    <tr>\n",
       "      <th>6</th>\n",
       "      <td>July</td>\n",
       "      <td>31.0</td>\n",
       "    </tr>\n",
       "    <tr>\n",
       "      <th>7</th>\n",
       "      <td>August</td>\n",
       "      <td>31.0</td>\n",
       "    </tr>\n",
       "    <tr>\n",
       "      <th>8</th>\n",
       "      <td>September</td>\n",
       "      <td>26.5</td>\n",
       "    </tr>\n",
       "    <tr>\n",
       "      <th>9</th>\n",
       "      <td>October</td>\n",
       "      <td>20.3</td>\n",
       "    </tr>\n",
       "    <tr>\n",
       "      <th>10</th>\n",
       "      <td>November</td>\n",
       "      <td>13.0</td>\n",
       "    </tr>\n",
       "    <tr>\n",
       "      <th>11</th>\n",
       "      <td>December</td>\n",
       "      <td>6.7</td>\n",
       "    </tr>\n",
       "  </tbody>\n",
       "</table>\n",
       "</div>"
      ],
      "text/plain": [
       "       months  average_maximum_temperature\n",
       "0     January                          4.7\n",
       "1    February                          7.4\n",
       "2       March                         12.2\n",
       "3       April                         17.5\n",
       "4         May                         22.8\n",
       "5        June                         27.3\n",
       "6        July                         31.0\n",
       "7      August                         31.0\n",
       "8   September                         26.5\n",
       "9     October                         20.3\n",
       "10   November                         13.0\n",
       "11   December                          6.7"
      ]
     },
     "execution_count": 52,
     "metadata": {},
     "output_type": "execute_result"
    }
   ],
   "source": [
    "df_.dropna(axis=1) # Eksik değer olmayan 1 tane kolonumuz varmış."
   ]
  },
  {
   "cell_type": "markdown",
   "id": "5d12752a",
   "metadata": {},
   "source": [
    "## groupby()"
   ]
  },
  {
   "cell_type": "markdown",
   "id": "af5c8ca4",
   "metadata": {},
   "source": [
    "Şimdi groupby yapısını incelemek için yeni bir veriseti okuyalım."
   ]
  },
  {
   "cell_type": "code",
   "execution_count": 53,
   "id": "16eb9e5f",
   "metadata": {},
   "outputs": [
    {
     "data": {
      "text/html": [
       "<div>\n",
       "<style scoped>\n",
       "    .dataframe tbody tr th:only-of-type {\n",
       "        vertical-align: middle;\n",
       "    }\n",
       "\n",
       "    .dataframe tbody tr th {\n",
       "        vertical-align: top;\n",
       "    }\n",
       "\n",
       "    .dataframe thead th {\n",
       "        text-align: right;\n",
       "    }\n",
       "</style>\n",
       "<table border=\"1\" class=\"dataframe\">\n",
       "  <thead>\n",
       "    <tr style=\"text-align: right;\">\n",
       "      <th></th>\n",
       "      <th>first_name</th>\n",
       "      <th>last_name</th>\n",
       "      <th>age</th>\n",
       "      <th>gender</th>\n",
       "    </tr>\n",
       "  </thead>\n",
       "  <tbody>\n",
       "    <tr>\n",
       "      <th>0</th>\n",
       "      <td>İlkay</td>\n",
       "      <td>Yücel</td>\n",
       "      <td>18</td>\n",
       "      <td>Female</td>\n",
       "    </tr>\n",
       "    <tr>\n",
       "      <th>1</th>\n",
       "      <td>Bahadır</td>\n",
       "      <td>Demir</td>\n",
       "      <td>23</td>\n",
       "      <td>Male</td>\n",
       "    </tr>\n",
       "    <tr>\n",
       "      <th>2</th>\n",
       "      <td>Umut</td>\n",
       "      <td>Tuncer</td>\n",
       "      <td>24</td>\n",
       "      <td>Female</td>\n",
       "    </tr>\n",
       "    <tr>\n",
       "      <th>3</th>\n",
       "      <td>Toprak</td>\n",
       "      <td>Danış</td>\n",
       "      <td>18</td>\n",
       "      <td>Male</td>\n",
       "    </tr>\n",
       "    <tr>\n",
       "      <th>4</th>\n",
       "      <td>Demir</td>\n",
       "      <td>Gür</td>\n",
       "      <td>25</td>\n",
       "      <td>Male</td>\n",
       "    </tr>\n",
       "    <tr>\n",
       "      <th>5</th>\n",
       "      <td>Buğra</td>\n",
       "      <td>Sevim</td>\n",
       "      <td>21</td>\n",
       "      <td>Male</td>\n",
       "    </tr>\n",
       "    <tr>\n",
       "      <th>6</th>\n",
       "      <td>Güneş</td>\n",
       "      <td>Tan</td>\n",
       "      <td>19</td>\n",
       "      <td>Female</td>\n",
       "    </tr>\n",
       "    <tr>\n",
       "      <th>7</th>\n",
       "      <td>Umay</td>\n",
       "      <td>Küçük</td>\n",
       "      <td>23</td>\n",
       "      <td>Female</td>\n",
       "    </tr>\n",
       "    <tr>\n",
       "      <th>8</th>\n",
       "      <td>Ümit</td>\n",
       "      <td>Bilgi</td>\n",
       "      <td>19</td>\n",
       "      <td>Male</td>\n",
       "    </tr>\n",
       "    <tr>\n",
       "      <th>9</th>\n",
       "      <td>Almila</td>\n",
       "      <td>Bilge</td>\n",
       "      <td>28</td>\n",
       "      <td>Female</td>\n",
       "    </tr>\n",
       "  </tbody>\n",
       "</table>\n",
       "</div>"
      ],
      "text/plain": [
       "  first_name last_name  age  gender\n",
       "0      İlkay     Yücel   18  Female\n",
       "1    Bahadır     Demir   23    Male\n",
       "2       Umut    Tuncer   24  Female\n",
       "3     Toprak     Danış   18    Male\n",
       "4      Demir       Gür   25    Male\n",
       "5      Buğra     Sevim   21    Male\n",
       "6      Güneş       Tan   19  Female\n",
       "7       Umay     Küçük   23  Female\n",
       "8       Ümit     Bilgi   19    Male\n",
       "9     Almila     Bilge   28  Female"
      ]
     },
     "execution_count": 53,
     "metadata": {},
     "output_type": "execute_result"
    }
   ],
   "source": [
    "df_people = pd.read_excel('people.xlsx')\n",
    "df_people"
   ]
  },
  {
   "cell_type": "markdown",
   "id": "9e333cb2",
   "metadata": {},
   "source": [
    "* **\"groupby\"** ile verileri kategorilerine göre gruplandırabilir ve bu kategorilere bir fonksiyon uygulayabiliriz."
   ]
  },
  {
   "cell_type": "code",
   "execution_count": 54,
   "id": "f79775bc",
   "metadata": {},
   "outputs": [
    {
     "data": {
      "text/plain": [
       "<pandas.core.groupby.generic.DataFrameGroupBy object at 0x0000028ED8168410>"
      ]
     },
     "execution_count": 54,
     "metadata": {},
     "output_type": "execute_result"
    }
   ],
   "source": [
    "df_gender = df_people.groupby('gender')\n",
    "df_gender"
   ]
  },
  {
   "cell_type": "code",
   "execution_count": 55,
   "id": "604386aa",
   "metadata": {},
   "outputs": [
    {
     "name": "stdout",
     "output_type": "stream",
     "text": [
      "GENDER:  Female \n",
      "   first_name last_name  age  gender\n",
      "0      İlkay     Yücel   18  Female\n",
      "2       Umut    Tuncer   24  Female\n",
      "6      Güneş       Tan   19  Female\n",
      "7       Umay     Küçük   23  Female\n",
      "9     Almila     Bilge   28  Female \n",
      "\n",
      "\n",
      "GENDER:  Male \n",
      "   first_name last_name  age gender\n",
      "1    Bahadır     Demir   23   Male\n",
      "3     Toprak     Danış   18   Male\n",
      "4      Demir       Gür   25   Male\n",
      "5      Buğra     Sevim   21   Male\n",
      "8       Ümit     Bilgi   19   Male \n",
      "\n",
      "\n"
     ]
    }
   ],
   "source": [
    "for gender, g_df in df_gender:\n",
    "    print('GENDER: ', gender, '\\n', g_df, '\\n\\n')"
   ]
  },
  {
   "cell_type": "markdown",
   "id": "f0c5f1fe",
   "metadata": {},
   "source": [
    "Verisetini burada cinsiyete göre gruplandırıyoruz."
   ]
  },
  {
   "cell_type": "code",
   "execution_count": 56,
   "id": "0cdd7cb0",
   "metadata": {},
   "outputs": [
    {
     "data": {
      "text/plain": [
       "dict_keys(['Female', 'Male'])"
      ]
     },
     "execution_count": 56,
     "metadata": {},
     "output_type": "execute_result"
    }
   ],
   "source": [
    "df_gender.groups.keys()  # Hangi gruplardan oluştuğu bilgisini verir."
   ]
  },
  {
   "cell_type": "code",
   "execution_count": 57,
   "id": "c47b390c",
   "metadata": {},
   "outputs": [
    {
     "data": {
      "text/plain": [
       "2"
      ]
     },
     "execution_count": 57,
     "metadata": {},
     "output_type": "execute_result"
    }
   ],
   "source": [
    "df_gender.ngroups  # Kaç grup olduğunu bilgisini verir."
   ]
  },
  {
   "cell_type": "markdown",
   "id": "a506d2a2",
   "metadata": {},
   "source": [
    "Şimdi \"Male\" grubunun verilerine erişmeye çalışalım."
   ]
  },
  {
   "cell_type": "code",
   "execution_count": 58,
   "id": "2784bafa",
   "metadata": {},
   "outputs": [
    {
     "name": "stdout",
     "output_type": "stream",
     "text": [
      "  first_name last_name  age gender\n",
      "1    Bahadır     Demir   23   Male\n",
      "3     Toprak     Danış   18   Male\n",
      "4      Demir       Gür   25   Male\n",
      "5      Buğra     Sevim   21   Male\n",
      "8       Ümit     Bilgi   19   Male\n"
     ]
    }
   ],
   "source": [
    "for gender, g_df in df_gender:\n",
    "    if gender == \"Male\":\n",
    "        print(g_df)"
   ]
  },
  {
   "cell_type": "markdown",
   "id": "7d4af709",
   "metadata": {},
   "source": [
    "\"Male\" grubuna erişmenin bir diğer yolu da **get_group()** fonksiyonudur.\n",
    "* **\"get_group()\"** fonksiyonu ile belirli bir gruba erişim sağlanır."
   ]
  },
  {
   "cell_type": "code",
   "execution_count": 59,
   "id": "54654078",
   "metadata": {},
   "outputs": [
    {
     "data": {
      "text/html": [
       "<div>\n",
       "<style scoped>\n",
       "    .dataframe tbody tr th:only-of-type {\n",
       "        vertical-align: middle;\n",
       "    }\n",
       "\n",
       "    .dataframe tbody tr th {\n",
       "        vertical-align: top;\n",
       "    }\n",
       "\n",
       "    .dataframe thead th {\n",
       "        text-align: right;\n",
       "    }\n",
       "</style>\n",
       "<table border=\"1\" class=\"dataframe\">\n",
       "  <thead>\n",
       "    <tr style=\"text-align: right;\">\n",
       "      <th></th>\n",
       "      <th>first_name</th>\n",
       "      <th>last_name</th>\n",
       "      <th>age</th>\n",
       "      <th>gender</th>\n",
       "    </tr>\n",
       "  </thead>\n",
       "  <tbody>\n",
       "    <tr>\n",
       "      <th>1</th>\n",
       "      <td>Bahadır</td>\n",
       "      <td>Demir</td>\n",
       "      <td>23</td>\n",
       "      <td>Male</td>\n",
       "    </tr>\n",
       "    <tr>\n",
       "      <th>3</th>\n",
       "      <td>Toprak</td>\n",
       "      <td>Danış</td>\n",
       "      <td>18</td>\n",
       "      <td>Male</td>\n",
       "    </tr>\n",
       "    <tr>\n",
       "      <th>4</th>\n",
       "      <td>Demir</td>\n",
       "      <td>Gür</td>\n",
       "      <td>25</td>\n",
       "      <td>Male</td>\n",
       "    </tr>\n",
       "    <tr>\n",
       "      <th>5</th>\n",
       "      <td>Buğra</td>\n",
       "      <td>Sevim</td>\n",
       "      <td>21</td>\n",
       "      <td>Male</td>\n",
       "    </tr>\n",
       "    <tr>\n",
       "      <th>8</th>\n",
       "      <td>Ümit</td>\n",
       "      <td>Bilgi</td>\n",
       "      <td>19</td>\n",
       "      <td>Male</td>\n",
       "    </tr>\n",
       "  </tbody>\n",
       "</table>\n",
       "</div>"
      ],
      "text/plain": [
       "  first_name last_name  age gender\n",
       "1    Bahadır     Demir   23   Male\n",
       "3     Toprak     Danış   18   Male\n",
       "4      Demir       Gür   25   Male\n",
       "5      Buğra     Sevim   21   Male\n",
       "8       Ümit     Bilgi   19   Male"
      ]
     },
     "execution_count": 59,
     "metadata": {},
     "output_type": "execute_result"
    }
   ],
   "source": [
    "df_gender.get_group('Male')"
   ]
  },
  {
   "cell_type": "code",
   "execution_count": 60,
   "id": "8e81588c",
   "metadata": {},
   "outputs": [
    {
     "data": {
      "text/html": [
       "<div>\n",
       "<style scoped>\n",
       "    .dataframe tbody tr th:only-of-type {\n",
       "        vertical-align: middle;\n",
       "    }\n",
       "\n",
       "    .dataframe tbody tr th {\n",
       "        vertical-align: top;\n",
       "    }\n",
       "\n",
       "    .dataframe thead th {\n",
       "        text-align: right;\n",
       "    }\n",
       "</style>\n",
       "<table border=\"1\" class=\"dataframe\">\n",
       "  <thead>\n",
       "    <tr style=\"text-align: right;\">\n",
       "      <th></th>\n",
       "      <th>first_name</th>\n",
       "      <th>last_name</th>\n",
       "      <th>age</th>\n",
       "    </tr>\n",
       "    <tr>\n",
       "      <th>gender</th>\n",
       "      <th></th>\n",
       "      <th></th>\n",
       "      <th></th>\n",
       "    </tr>\n",
       "  </thead>\n",
       "  <tbody>\n",
       "    <tr>\n",
       "      <th>Female</th>\n",
       "      <td>İlkay</td>\n",
       "      <td>Yücel</td>\n",
       "      <td>28</td>\n",
       "    </tr>\n",
       "    <tr>\n",
       "      <th>Male</th>\n",
       "      <td>Ümit</td>\n",
       "      <td>Sevim</td>\n",
       "      <td>25</td>\n",
       "    </tr>\n",
       "  </tbody>\n",
       "</table>\n",
       "</div>"
      ],
      "text/plain": [
       "       first_name last_name  age\n",
       "gender                          \n",
       "Female      İlkay     Yücel   28\n",
       "Male         Ümit     Sevim   25"
      ]
     },
     "execution_count": 60,
     "metadata": {},
     "output_type": "execute_result"
    }
   ],
   "source": [
    "df_gender.max()  # Her bir grubun maximum değerini getirir."
   ]
  },
  {
   "cell_type": "code",
   "execution_count": 61,
   "id": "12d1a98d",
   "metadata": {},
   "outputs": [
    {
     "data": {
      "text/plain": [
       "gender\n",
       "Female    22.4\n",
       "Male      21.2\n",
       "Name: age, dtype: float64"
      ]
     },
     "execution_count": 61,
     "metadata": {},
     "output_type": "execute_result"
    }
   ],
   "source": [
    "df_gender.age.mean()  # Grupların yaş ortalamasını elde ederiz."
   ]
  },
  {
   "cell_type": "code",
   "execution_count": 62,
   "id": "377f301d",
   "metadata": {},
   "outputs": [
    {
     "data": {
      "text/html": [
       "<div>\n",
       "<style scoped>\n",
       "    .dataframe tbody tr th:only-of-type {\n",
       "        vertical-align: middle;\n",
       "    }\n",
       "\n",
       "    .dataframe tbody tr th {\n",
       "        vertical-align: top;\n",
       "    }\n",
       "\n",
       "    .dataframe thead tr th {\n",
       "        text-align: left;\n",
       "    }\n",
       "\n",
       "    .dataframe thead tr:last-of-type th {\n",
       "        text-align: right;\n",
       "    }\n",
       "</style>\n",
       "<table border=\"1\" class=\"dataframe\">\n",
       "  <thead>\n",
       "    <tr>\n",
       "      <th></th>\n",
       "      <th colspan=\"8\" halign=\"left\">age</th>\n",
       "    </tr>\n",
       "    <tr>\n",
       "      <th></th>\n",
       "      <th>count</th>\n",
       "      <th>mean</th>\n",
       "      <th>std</th>\n",
       "      <th>min</th>\n",
       "      <th>25%</th>\n",
       "      <th>50%</th>\n",
       "      <th>75%</th>\n",
       "      <th>max</th>\n",
       "    </tr>\n",
       "    <tr>\n",
       "      <th>gender</th>\n",
       "      <th></th>\n",
       "      <th></th>\n",
       "      <th></th>\n",
       "      <th></th>\n",
       "      <th></th>\n",
       "      <th></th>\n",
       "      <th></th>\n",
       "      <th></th>\n",
       "    </tr>\n",
       "  </thead>\n",
       "  <tbody>\n",
       "    <tr>\n",
       "      <th>Female</th>\n",
       "      <td>5.0</td>\n",
       "      <td>22.4</td>\n",
       "      <td>4.037326</td>\n",
       "      <td>18.0</td>\n",
       "      <td>19.0</td>\n",
       "      <td>23.0</td>\n",
       "      <td>24.0</td>\n",
       "      <td>28.0</td>\n",
       "    </tr>\n",
       "    <tr>\n",
       "      <th>Male</th>\n",
       "      <td>5.0</td>\n",
       "      <td>21.2</td>\n",
       "      <td>2.863564</td>\n",
       "      <td>18.0</td>\n",
       "      <td>19.0</td>\n",
       "      <td>21.0</td>\n",
       "      <td>23.0</td>\n",
       "      <td>25.0</td>\n",
       "    </tr>\n",
       "  </tbody>\n",
       "</table>\n",
       "</div>"
      ],
      "text/plain": [
       "         age                                              \n",
       "       count  mean       std   min   25%   50%   75%   max\n",
       "gender                                                    \n",
       "Female   5.0  22.4  4.037326  18.0  19.0  23.0  24.0  28.0\n",
       "Male     5.0  21.2  2.863564  18.0  19.0  21.0  23.0  25.0"
      ]
     },
     "execution_count": 62,
     "metadata": {},
     "output_type": "execute_result"
    }
   ],
   "source": [
    "df_gender.describe()"
   ]
  },
  {
   "cell_type": "markdown",
   "id": "0552b257",
   "metadata": {},
   "source": [
    "Bu fonsiyon ile her bir grup için kaç adet veri olduğu, ortalama değerleri, standart sapmaları, min, max ve toplam kayıtların %25, %50 ve %75 lik kısımlarının ortalama değerleri hakkında bilgi ediniyoruz."
   ]
  },
  {
   "cell_type": "markdown",
   "id": "a152cb06",
   "metadata": {},
   "source": [
    "## concat()"
   ]
  },
  {
   "cell_type": "markdown",
   "id": "67d93f16",
   "metadata": {},
   "source": [
    "* **\"concat()\"** fonsiyonu ile aynı bilgilere sahip verisetlerini birleştirebiliriz."
   ]
  },
  {
   "cell_type": "code",
   "execution_count": 63,
   "id": "09e40f80",
   "metadata": {},
   "outputs": [
    {
     "data": {
      "text/html": [
       "<div>\n",
       "<style scoped>\n",
       "    .dataframe tbody tr th:only-of-type {\n",
       "        vertical-align: middle;\n",
       "    }\n",
       "\n",
       "    .dataframe tbody tr th {\n",
       "        vertical-align: top;\n",
       "    }\n",
       "\n",
       "    .dataframe thead th {\n",
       "        text-align: right;\n",
       "    }\n",
       "</style>\n",
       "<table border=\"1\" class=\"dataframe\">\n",
       "  <thead>\n",
       "    <tr style=\"text-align: right;\">\n",
       "      <th></th>\n",
       "      <th>country</th>\n",
       "      <th>age</th>\n",
       "      <th>gender</th>\n",
       "    </tr>\n",
       "  </thead>\n",
       "  <tbody>\n",
       "    <tr>\n",
       "      <th>0</th>\n",
       "      <td>tr</td>\n",
       "      <td>21</td>\n",
       "      <td>male</td>\n",
       "    </tr>\n",
       "    <tr>\n",
       "      <th>1</th>\n",
       "      <td>tr</td>\n",
       "      <td>33</td>\n",
       "      <td>male</td>\n",
       "    </tr>\n",
       "    <tr>\n",
       "      <th>2</th>\n",
       "      <td>fr</td>\n",
       "      <td>38</td>\n",
       "      <td>female</td>\n",
       "    </tr>\n",
       "    <tr>\n",
       "      <th>3</th>\n",
       "      <td>fr</td>\n",
       "      <td>19</td>\n",
       "      <td>male</td>\n",
       "    </tr>\n",
       "    <tr>\n",
       "      <th>4</th>\n",
       "      <td>us</td>\n",
       "      <td>24</td>\n",
       "      <td>female</td>\n",
       "    </tr>\n",
       "    <tr>\n",
       "      <th>5</th>\n",
       "      <td>us</td>\n",
       "      <td>29</td>\n",
       "      <td>female</td>\n",
       "    </tr>\n",
       "  </tbody>\n",
       "</table>\n",
       "</div>"
      ],
      "text/plain": [
       "  country  age  gender\n",
       "0      tr   21    male\n",
       "1      tr   33    male\n",
       "2      fr   38  female\n",
       "3      fr   19    male\n",
       "4      us   24  female\n",
       "5      us   29  female"
      ]
     },
     "execution_count": 63,
     "metadata": {},
     "output_type": "execute_result"
    }
   ],
   "source": [
    "df1 = pd.read_excel('df1.xlsx')\n",
    "df1"
   ]
  },
  {
   "cell_type": "code",
   "execution_count": 64,
   "id": "9be1a724",
   "metadata": {},
   "outputs": [
    {
     "data": {
      "text/html": [
       "<div>\n",
       "<style scoped>\n",
       "    .dataframe tbody tr th:only-of-type {\n",
       "        vertical-align: middle;\n",
       "    }\n",
       "\n",
       "    .dataframe tbody tr th {\n",
       "        vertical-align: top;\n",
       "    }\n",
       "\n",
       "    .dataframe thead th {\n",
       "        text-align: right;\n",
       "    }\n",
       "</style>\n",
       "<table border=\"1\" class=\"dataframe\">\n",
       "  <thead>\n",
       "    <tr style=\"text-align: right;\">\n",
       "      <th></th>\n",
       "      <th>country</th>\n",
       "      <th>age</th>\n",
       "      <th>gender</th>\n",
       "    </tr>\n",
       "  </thead>\n",
       "  <tbody>\n",
       "    <tr>\n",
       "      <th>0</th>\n",
       "      <td>fr</td>\n",
       "      <td>33</td>\n",
       "      <td>male</td>\n",
       "    </tr>\n",
       "    <tr>\n",
       "      <th>1</th>\n",
       "      <td>fr</td>\n",
       "      <td>18</td>\n",
       "      <td>male</td>\n",
       "    </tr>\n",
       "    <tr>\n",
       "      <th>2</th>\n",
       "      <td>tr</td>\n",
       "      <td>19</td>\n",
       "      <td>female</td>\n",
       "    </tr>\n",
       "    <tr>\n",
       "      <th>3</th>\n",
       "      <td>us</td>\n",
       "      <td>25</td>\n",
       "      <td>male</td>\n",
       "    </tr>\n",
       "    <tr>\n",
       "      <th>4</th>\n",
       "      <td>tr</td>\n",
       "      <td>23</td>\n",
       "      <td>female</td>\n",
       "    </tr>\n",
       "    <tr>\n",
       "      <th>5</th>\n",
       "      <td>us</td>\n",
       "      <td>29</td>\n",
       "      <td>female</td>\n",
       "    </tr>\n",
       "  </tbody>\n",
       "</table>\n",
       "</div>"
      ],
      "text/plain": [
       "  country  age  gender\n",
       "0      fr   33    male\n",
       "1      fr   18    male\n",
       "2      tr   19  female\n",
       "3      us   25    male\n",
       "4      tr   23  female\n",
       "5      us   29  female"
      ]
     },
     "execution_count": 64,
     "metadata": {},
     "output_type": "execute_result"
    }
   ],
   "source": [
    "df2 = pd.read_excel('df2.xlsx')\n",
    "df2"
   ]
  },
  {
   "cell_type": "code",
   "execution_count": 65,
   "id": "7daa7959",
   "metadata": {},
   "outputs": [
    {
     "data": {
      "text/html": [
       "<div>\n",
       "<style scoped>\n",
       "    .dataframe tbody tr th:only-of-type {\n",
       "        vertical-align: middle;\n",
       "    }\n",
       "\n",
       "    .dataframe tbody tr th {\n",
       "        vertical-align: top;\n",
       "    }\n",
       "\n",
       "    .dataframe thead th {\n",
       "        text-align: right;\n",
       "    }\n",
       "</style>\n",
       "<table border=\"1\" class=\"dataframe\">\n",
       "  <thead>\n",
       "    <tr style=\"text-align: right;\">\n",
       "      <th></th>\n",
       "      <th>country</th>\n",
       "      <th>age</th>\n",
       "      <th>gender</th>\n",
       "    </tr>\n",
       "  </thead>\n",
       "  <tbody>\n",
       "    <tr>\n",
       "      <th>0</th>\n",
       "      <td>tr</td>\n",
       "      <td>21</td>\n",
       "      <td>male</td>\n",
       "    </tr>\n",
       "    <tr>\n",
       "      <th>1</th>\n",
       "      <td>tr</td>\n",
       "      <td>33</td>\n",
       "      <td>male</td>\n",
       "    </tr>\n",
       "    <tr>\n",
       "      <th>2</th>\n",
       "      <td>fr</td>\n",
       "      <td>38</td>\n",
       "      <td>female</td>\n",
       "    </tr>\n",
       "    <tr>\n",
       "      <th>3</th>\n",
       "      <td>fr</td>\n",
       "      <td>19</td>\n",
       "      <td>male</td>\n",
       "    </tr>\n",
       "    <tr>\n",
       "      <th>4</th>\n",
       "      <td>us</td>\n",
       "      <td>24</td>\n",
       "      <td>female</td>\n",
       "    </tr>\n",
       "    <tr>\n",
       "      <th>5</th>\n",
       "      <td>us</td>\n",
       "      <td>29</td>\n",
       "      <td>female</td>\n",
       "    </tr>\n",
       "    <tr>\n",
       "      <th>0</th>\n",
       "      <td>fr</td>\n",
       "      <td>33</td>\n",
       "      <td>male</td>\n",
       "    </tr>\n",
       "    <tr>\n",
       "      <th>1</th>\n",
       "      <td>fr</td>\n",
       "      <td>18</td>\n",
       "      <td>male</td>\n",
       "    </tr>\n",
       "    <tr>\n",
       "      <th>2</th>\n",
       "      <td>tr</td>\n",
       "      <td>19</td>\n",
       "      <td>female</td>\n",
       "    </tr>\n",
       "    <tr>\n",
       "      <th>3</th>\n",
       "      <td>us</td>\n",
       "      <td>25</td>\n",
       "      <td>male</td>\n",
       "    </tr>\n",
       "    <tr>\n",
       "      <th>4</th>\n",
       "      <td>tr</td>\n",
       "      <td>23</td>\n",
       "      <td>female</td>\n",
       "    </tr>\n",
       "    <tr>\n",
       "      <th>5</th>\n",
       "      <td>us</td>\n",
       "      <td>29</td>\n",
       "      <td>female</td>\n",
       "    </tr>\n",
       "  </tbody>\n",
       "</table>\n",
       "</div>"
      ],
      "text/plain": [
       "  country  age  gender\n",
       "0      tr   21    male\n",
       "1      tr   33    male\n",
       "2      fr   38  female\n",
       "3      fr   19    male\n",
       "4      us   24  female\n",
       "5      us   29  female\n",
       "0      fr   33    male\n",
       "1      fr   18    male\n",
       "2      tr   19  female\n",
       "3      us   25    male\n",
       "4      tr   23  female\n",
       "5      us   29  female"
      ]
     },
     "execution_count": 65,
     "metadata": {},
     "output_type": "execute_result"
    }
   ],
   "source": [
    "pd.concat([df1,df2])"
   ]
  },
  {
   "cell_type": "markdown",
   "id": "13b257d1",
   "metadata": {},
   "source": [
    "Görüldüğü üzere iki veriseti birleştirilirken index numaralarında herhangi bir güncelleme olmadı. Bu durumun önüne geçebilmek için **\"ignore_index=True\"** ifadesini kullanmamız gerekiyor."
   ]
  },
  {
   "cell_type": "code",
   "execution_count": 66,
   "id": "abd079d1",
   "metadata": {},
   "outputs": [
    {
     "data": {
      "text/html": [
       "<div>\n",
       "<style scoped>\n",
       "    .dataframe tbody tr th:only-of-type {\n",
       "        vertical-align: middle;\n",
       "    }\n",
       "\n",
       "    .dataframe tbody tr th {\n",
       "        vertical-align: top;\n",
       "    }\n",
       "\n",
       "    .dataframe thead th {\n",
       "        text-align: right;\n",
       "    }\n",
       "</style>\n",
       "<table border=\"1\" class=\"dataframe\">\n",
       "  <thead>\n",
       "    <tr style=\"text-align: right;\">\n",
       "      <th></th>\n",
       "      <th>country</th>\n",
       "      <th>age</th>\n",
       "      <th>gender</th>\n",
       "    </tr>\n",
       "  </thead>\n",
       "  <tbody>\n",
       "    <tr>\n",
       "      <th>0</th>\n",
       "      <td>tr</td>\n",
       "      <td>21</td>\n",
       "      <td>male</td>\n",
       "    </tr>\n",
       "    <tr>\n",
       "      <th>1</th>\n",
       "      <td>tr</td>\n",
       "      <td>33</td>\n",
       "      <td>male</td>\n",
       "    </tr>\n",
       "    <tr>\n",
       "      <th>2</th>\n",
       "      <td>fr</td>\n",
       "      <td>38</td>\n",
       "      <td>female</td>\n",
       "    </tr>\n",
       "    <tr>\n",
       "      <th>3</th>\n",
       "      <td>fr</td>\n",
       "      <td>19</td>\n",
       "      <td>male</td>\n",
       "    </tr>\n",
       "    <tr>\n",
       "      <th>4</th>\n",
       "      <td>us</td>\n",
       "      <td>24</td>\n",
       "      <td>female</td>\n",
       "    </tr>\n",
       "    <tr>\n",
       "      <th>5</th>\n",
       "      <td>us</td>\n",
       "      <td>29</td>\n",
       "      <td>female</td>\n",
       "    </tr>\n",
       "    <tr>\n",
       "      <th>6</th>\n",
       "      <td>fr</td>\n",
       "      <td>33</td>\n",
       "      <td>male</td>\n",
       "    </tr>\n",
       "    <tr>\n",
       "      <th>7</th>\n",
       "      <td>fr</td>\n",
       "      <td>18</td>\n",
       "      <td>male</td>\n",
       "    </tr>\n",
       "    <tr>\n",
       "      <th>8</th>\n",
       "      <td>tr</td>\n",
       "      <td>19</td>\n",
       "      <td>female</td>\n",
       "    </tr>\n",
       "    <tr>\n",
       "      <th>9</th>\n",
       "      <td>us</td>\n",
       "      <td>25</td>\n",
       "      <td>male</td>\n",
       "    </tr>\n",
       "    <tr>\n",
       "      <th>10</th>\n",
       "      <td>tr</td>\n",
       "      <td>23</td>\n",
       "      <td>female</td>\n",
       "    </tr>\n",
       "    <tr>\n",
       "      <th>11</th>\n",
       "      <td>us</td>\n",
       "      <td>29</td>\n",
       "      <td>female</td>\n",
       "    </tr>\n",
       "  </tbody>\n",
       "</table>\n",
       "</div>"
      ],
      "text/plain": [
       "   country  age  gender\n",
       "0       tr   21    male\n",
       "1       tr   33    male\n",
       "2       fr   38  female\n",
       "3       fr   19    male\n",
       "4       us   24  female\n",
       "5       us   29  female\n",
       "6       fr   33    male\n",
       "7       fr   18    male\n",
       "8       tr   19  female\n",
       "9       us   25    male\n",
       "10      tr   23  female\n",
       "11      us   29  female"
      ]
     },
     "execution_count": 66,
     "metadata": {},
     "output_type": "execute_result"
    }
   ],
   "source": [
    "pd.concat([df1,df2], ignore_index=True)"
   ]
  },
  {
   "cell_type": "code",
   "execution_count": 67,
   "id": "5ece414b",
   "metadata": {},
   "outputs": [
    {
     "data": {
      "text/html": [
       "<div>\n",
       "<style scoped>\n",
       "    .dataframe tbody tr th:only-of-type {\n",
       "        vertical-align: middle;\n",
       "    }\n",
       "\n",
       "    .dataframe tbody tr th {\n",
       "        vertical-align: top;\n",
       "    }\n",
       "\n",
       "    .dataframe thead th {\n",
       "        text-align: right;\n",
       "    }\n",
       "</style>\n",
       "<table border=\"1\" class=\"dataframe\">\n",
       "  <thead>\n",
       "    <tr style=\"text-align: right;\">\n",
       "      <th></th>\n",
       "      <th></th>\n",
       "      <th>country</th>\n",
       "      <th>age</th>\n",
       "      <th>gender</th>\n",
       "    </tr>\n",
       "  </thead>\n",
       "  <tbody>\n",
       "    <tr>\n",
       "      <th rowspan=\"6\" valign=\"top\">df1</th>\n",
       "      <th>0</th>\n",
       "      <td>tr</td>\n",
       "      <td>21</td>\n",
       "      <td>male</td>\n",
       "    </tr>\n",
       "    <tr>\n",
       "      <th>1</th>\n",
       "      <td>tr</td>\n",
       "      <td>33</td>\n",
       "      <td>male</td>\n",
       "    </tr>\n",
       "    <tr>\n",
       "      <th>2</th>\n",
       "      <td>fr</td>\n",
       "      <td>38</td>\n",
       "      <td>female</td>\n",
       "    </tr>\n",
       "    <tr>\n",
       "      <th>3</th>\n",
       "      <td>fr</td>\n",
       "      <td>19</td>\n",
       "      <td>male</td>\n",
       "    </tr>\n",
       "    <tr>\n",
       "      <th>4</th>\n",
       "      <td>us</td>\n",
       "      <td>24</td>\n",
       "      <td>female</td>\n",
       "    </tr>\n",
       "    <tr>\n",
       "      <th>5</th>\n",
       "      <td>us</td>\n",
       "      <td>29</td>\n",
       "      <td>female</td>\n",
       "    </tr>\n",
       "    <tr>\n",
       "      <th rowspan=\"6\" valign=\"top\">df2</th>\n",
       "      <th>0</th>\n",
       "      <td>fr</td>\n",
       "      <td>33</td>\n",
       "      <td>male</td>\n",
       "    </tr>\n",
       "    <tr>\n",
       "      <th>1</th>\n",
       "      <td>fr</td>\n",
       "      <td>18</td>\n",
       "      <td>male</td>\n",
       "    </tr>\n",
       "    <tr>\n",
       "      <th>2</th>\n",
       "      <td>tr</td>\n",
       "      <td>19</td>\n",
       "      <td>female</td>\n",
       "    </tr>\n",
       "    <tr>\n",
       "      <th>3</th>\n",
       "      <td>us</td>\n",
       "      <td>25</td>\n",
       "      <td>male</td>\n",
       "    </tr>\n",
       "    <tr>\n",
       "      <th>4</th>\n",
       "      <td>tr</td>\n",
       "      <td>23</td>\n",
       "      <td>female</td>\n",
       "    </tr>\n",
       "    <tr>\n",
       "      <th>5</th>\n",
       "      <td>us</td>\n",
       "      <td>29</td>\n",
       "      <td>female</td>\n",
       "    </tr>\n",
       "  </tbody>\n",
       "</table>\n",
       "</div>"
      ],
      "text/plain": [
       "      country  age  gender\n",
       "df1 0      tr   21    male\n",
       "    1      tr   33    male\n",
       "    2      fr   38  female\n",
       "    3      fr   19    male\n",
       "    4      us   24  female\n",
       "    5      us   29  female\n",
       "df2 0      fr   33    male\n",
       "    1      fr   18    male\n",
       "    2      tr   19  female\n",
       "    3      us   25    male\n",
       "    4      tr   23  female\n",
       "    5      us   29  female"
      ]
     },
     "execution_count": 67,
     "metadata": {},
     "output_type": "execute_result"
    }
   ],
   "source": [
    "data = pd.concat([df1,df2], keys=[\"df1\",\"df2\"])\n",
    "data"
   ]
  },
  {
   "cell_type": "code",
   "execution_count": 68,
   "id": "5b78138e",
   "metadata": {},
   "outputs": [
    {
     "data": {
      "text/html": [
       "<div>\n",
       "<style scoped>\n",
       "    .dataframe tbody tr th:only-of-type {\n",
       "        vertical-align: middle;\n",
       "    }\n",
       "\n",
       "    .dataframe tbody tr th {\n",
       "        vertical-align: top;\n",
       "    }\n",
       "\n",
       "    .dataframe thead th {\n",
       "        text-align: right;\n",
       "    }\n",
       "</style>\n",
       "<table border=\"1\" class=\"dataframe\">\n",
       "  <thead>\n",
       "    <tr style=\"text-align: right;\">\n",
       "      <th></th>\n",
       "      <th>country</th>\n",
       "      <th>age</th>\n",
       "      <th>gender</th>\n",
       "    </tr>\n",
       "  </thead>\n",
       "  <tbody>\n",
       "    <tr>\n",
       "      <th>0</th>\n",
       "      <td>tr</td>\n",
       "      <td>21</td>\n",
       "      <td>male</td>\n",
       "    </tr>\n",
       "    <tr>\n",
       "      <th>1</th>\n",
       "      <td>tr</td>\n",
       "      <td>33</td>\n",
       "      <td>male</td>\n",
       "    </tr>\n",
       "    <tr>\n",
       "      <th>2</th>\n",
       "      <td>fr</td>\n",
       "      <td>38</td>\n",
       "      <td>female</td>\n",
       "    </tr>\n",
       "    <tr>\n",
       "      <th>3</th>\n",
       "      <td>fr</td>\n",
       "      <td>19</td>\n",
       "      <td>male</td>\n",
       "    </tr>\n",
       "    <tr>\n",
       "      <th>4</th>\n",
       "      <td>us</td>\n",
       "      <td>24</td>\n",
       "      <td>female</td>\n",
       "    </tr>\n",
       "    <tr>\n",
       "      <th>5</th>\n",
       "      <td>us</td>\n",
       "      <td>29</td>\n",
       "      <td>female</td>\n",
       "    </tr>\n",
       "  </tbody>\n",
       "</table>\n",
       "</div>"
      ],
      "text/plain": [
       "  country  age  gender\n",
       "0      tr   21    male\n",
       "1      tr   33    male\n",
       "2      fr   38  female\n",
       "3      fr   19    male\n",
       "4      us   24  female\n",
       "5      us   29  female"
      ]
     },
     "execution_count": 68,
     "metadata": {},
     "output_type": "execute_result"
    }
   ],
   "source": [
    "data.loc[\"df1\"]"
   ]
  },
  {
   "cell_type": "markdown",
   "id": "46b301d3",
   "metadata": {},
   "source": [
    "Şimdi farklı kolonları olan iki veri seti oluşturalım ve bu verisetleri üzerinde çalışalım."
   ]
  },
  {
   "cell_type": "code",
   "execution_count": 69,
   "id": "f5cdd485",
   "metadata": {},
   "outputs": [
    {
     "data": {
      "text/html": [
       "<div>\n",
       "<style scoped>\n",
       "    .dataframe tbody tr th:only-of-type {\n",
       "        vertical-align: middle;\n",
       "    }\n",
       "\n",
       "    .dataframe tbody tr th {\n",
       "        vertical-align: top;\n",
       "    }\n",
       "\n",
       "    .dataframe thead th {\n",
       "        text-align: right;\n",
       "    }\n",
       "</style>\n",
       "<table border=\"1\" class=\"dataframe\">\n",
       "  <thead>\n",
       "    <tr style=\"text-align: right;\">\n",
       "      <th></th>\n",
       "      <th>months</th>\n",
       "      <th>average_maximum_temperature</th>\n",
       "    </tr>\n",
       "  </thead>\n",
       "  <tbody>\n",
       "    <tr>\n",
       "      <th>0</th>\n",
       "      <td>January</td>\n",
       "      <td>4.7</td>\n",
       "    </tr>\n",
       "    <tr>\n",
       "      <th>1</th>\n",
       "      <td>February</td>\n",
       "      <td>7.4</td>\n",
       "    </tr>\n",
       "    <tr>\n",
       "      <th>2</th>\n",
       "      <td>March</td>\n",
       "      <td>12.2</td>\n",
       "    </tr>\n",
       "  </tbody>\n",
       "</table>\n",
       "</div>"
      ],
      "text/plain": [
       "     months  average_maximum_temperature\n",
       "0   January                          4.7\n",
       "1  February                          7.4\n",
       "2     March                         12.2"
      ]
     },
     "execution_count": 69,
     "metadata": {},
     "output_type": "execute_result"
    }
   ],
   "source": [
    "maxtemp_df = pd.DataFrame({\n",
    "    \"months\":[\"January\",\"February\",\"March\"],\n",
    "    \"average_maximum_temperature\":[4.7,7.4,12.2]\n",
    "})\n",
    "maxtemp_df"
   ]
  },
  {
   "cell_type": "code",
   "execution_count": 70,
   "id": "90c7c234",
   "metadata": {},
   "outputs": [
    {
     "data": {
      "text/html": [
       "<div>\n",
       "<style scoped>\n",
       "    .dataframe tbody tr th:only-of-type {\n",
       "        vertical-align: middle;\n",
       "    }\n",
       "\n",
       "    .dataframe tbody tr th {\n",
       "        vertical-align: top;\n",
       "    }\n",
       "\n",
       "    .dataframe thead th {\n",
       "        text-align: right;\n",
       "    }\n",
       "</style>\n",
       "<table border=\"1\" class=\"dataframe\">\n",
       "  <thead>\n",
       "    <tr style=\"text-align: right;\">\n",
       "      <th></th>\n",
       "      <th>months</th>\n",
       "      <th>average_lowest_temperature</th>\n",
       "    </tr>\n",
       "  </thead>\n",
       "  <tbody>\n",
       "    <tr>\n",
       "      <th>0</th>\n",
       "      <td>January</td>\n",
       "      <td>-2.2</td>\n",
       "    </tr>\n",
       "    <tr>\n",
       "      <th>1</th>\n",
       "      <td>February</td>\n",
       "      <td>-1.2</td>\n",
       "    </tr>\n",
       "    <tr>\n",
       "      <th>2</th>\n",
       "      <td>March</td>\n",
       "      <td>1.9</td>\n",
       "    </tr>\n",
       "  </tbody>\n",
       "</table>\n",
       "</div>"
      ],
      "text/plain": [
       "     months  average_lowest_temperature\n",
       "0   January                        -2.2\n",
       "1  February                        -1.2\n",
       "2     March                         1.9"
      ]
     },
     "execution_count": 70,
     "metadata": {},
     "output_type": "execute_result"
    }
   ],
   "source": [
    "lowtemp_df = pd.DataFrame({\n",
    "    \"months\":[\"January\",\"February\",\"March\"],\n",
    "    \"average_lowest_temperature\":[-2.2,-1.2,1.9]\n",
    "})\n",
    "lowtemp_df"
   ]
  },
  {
   "cell_type": "code",
   "execution_count": 71,
   "id": "4b07f38f",
   "metadata": {},
   "outputs": [
    {
     "data": {
      "text/html": [
       "<div>\n",
       "<style scoped>\n",
       "    .dataframe tbody tr th:only-of-type {\n",
       "        vertical-align: middle;\n",
       "    }\n",
       "\n",
       "    .dataframe tbody tr th {\n",
       "        vertical-align: top;\n",
       "    }\n",
       "\n",
       "    .dataframe thead th {\n",
       "        text-align: right;\n",
       "    }\n",
       "</style>\n",
       "<table border=\"1\" class=\"dataframe\">\n",
       "  <thead>\n",
       "    <tr style=\"text-align: right;\">\n",
       "      <th></th>\n",
       "      <th>months</th>\n",
       "      <th>average_maximum_temperature</th>\n",
       "      <th>average_lowest_temperature</th>\n",
       "    </tr>\n",
       "  </thead>\n",
       "  <tbody>\n",
       "    <tr>\n",
       "      <th>0</th>\n",
       "      <td>January</td>\n",
       "      <td>4.7</td>\n",
       "      <td>NaN</td>\n",
       "    </tr>\n",
       "    <tr>\n",
       "      <th>1</th>\n",
       "      <td>February</td>\n",
       "      <td>7.4</td>\n",
       "      <td>NaN</td>\n",
       "    </tr>\n",
       "    <tr>\n",
       "      <th>2</th>\n",
       "      <td>March</td>\n",
       "      <td>12.2</td>\n",
       "      <td>NaN</td>\n",
       "    </tr>\n",
       "    <tr>\n",
       "      <th>0</th>\n",
       "      <td>January</td>\n",
       "      <td>NaN</td>\n",
       "      <td>-2.2</td>\n",
       "    </tr>\n",
       "    <tr>\n",
       "      <th>1</th>\n",
       "      <td>February</td>\n",
       "      <td>NaN</td>\n",
       "      <td>-1.2</td>\n",
       "    </tr>\n",
       "    <tr>\n",
       "      <th>2</th>\n",
       "      <td>March</td>\n",
       "      <td>NaN</td>\n",
       "      <td>1.9</td>\n",
       "    </tr>\n",
       "  </tbody>\n",
       "</table>\n",
       "</div>"
      ],
      "text/plain": [
       "     months  average_maximum_temperature  average_lowest_temperature\n",
       "0   January                          4.7                         NaN\n",
       "1  February                          7.4                         NaN\n",
       "2     March                         12.2                         NaN\n",
       "0   January                          NaN                        -2.2\n",
       "1  February                          NaN                        -1.2\n",
       "2     March                          NaN                         1.9"
      ]
     },
     "execution_count": 71,
     "metadata": {},
     "output_type": "execute_result"
    }
   ],
   "source": [
    "pd.concat([maxtemp_df, lowtemp_df]) "
   ]
  },
  {
   "cell_type": "markdown",
   "id": "4b581f34",
   "metadata": {},
   "source": [
    "* Tablolarda karşılığı olmayan verilere NaN değerinin geldiğini görüyoruz. Burada veriler varsayılan olarak satıra ekleniyor. Sütun olarak eklenmesini istersek **axis=1** ifadesini kullanmamız gerekir."
   ]
  },
  {
   "cell_type": "code",
   "execution_count": 72,
   "id": "ef024bb6",
   "metadata": {},
   "outputs": [
    {
     "data": {
      "text/html": [
       "<div>\n",
       "<style scoped>\n",
       "    .dataframe tbody tr th:only-of-type {\n",
       "        vertical-align: middle;\n",
       "    }\n",
       "\n",
       "    .dataframe tbody tr th {\n",
       "        vertical-align: top;\n",
       "    }\n",
       "\n",
       "    .dataframe thead th {\n",
       "        text-align: right;\n",
       "    }\n",
       "</style>\n",
       "<table border=\"1\" class=\"dataframe\">\n",
       "  <thead>\n",
       "    <tr style=\"text-align: right;\">\n",
       "      <th></th>\n",
       "      <th>months</th>\n",
       "      <th>average_maximum_temperature</th>\n",
       "      <th>months</th>\n",
       "      <th>average_lowest_temperature</th>\n",
       "    </tr>\n",
       "  </thead>\n",
       "  <tbody>\n",
       "    <tr>\n",
       "      <th>0</th>\n",
       "      <td>January</td>\n",
       "      <td>4.7</td>\n",
       "      <td>January</td>\n",
       "      <td>-2.2</td>\n",
       "    </tr>\n",
       "    <tr>\n",
       "      <th>1</th>\n",
       "      <td>February</td>\n",
       "      <td>7.4</td>\n",
       "      <td>February</td>\n",
       "      <td>-1.2</td>\n",
       "    </tr>\n",
       "    <tr>\n",
       "      <th>2</th>\n",
       "      <td>March</td>\n",
       "      <td>12.2</td>\n",
       "      <td>March</td>\n",
       "      <td>1.9</td>\n",
       "    </tr>\n",
       "  </tbody>\n",
       "</table>\n",
       "</div>"
      ],
      "text/plain": [
       "     months  average_maximum_temperature    months  average_lowest_temperature\n",
       "0   January                          4.7   January                        -2.2\n",
       "1  February                          7.4  February                        -1.2\n",
       "2     March                         12.2     March                         1.9"
      ]
     },
     "execution_count": 72,
     "metadata": {},
     "output_type": "execute_result"
    }
   ],
   "source": [
    "pd.concat([maxtemp_df, lowtemp_df], axis=1)"
   ]
  },
  {
   "cell_type": "markdown",
   "id": "b22c1c64",
   "metadata": {},
   "source": [
    "maxtemp_df veriseti aynı kalırken lowtemp_df verisetinden bir satır veriyi kaldıralım ve ayların yerini değiştirerek veriler üzerinde biraz değişiklikler yapalım."
   ]
  },
  {
   "cell_type": "code",
   "execution_count": 73,
   "id": "d442f231",
   "metadata": {},
   "outputs": [
    {
     "data": {
      "text/html": [
       "<div>\n",
       "<style scoped>\n",
       "    .dataframe tbody tr th:only-of-type {\n",
       "        vertical-align: middle;\n",
       "    }\n",
       "\n",
       "    .dataframe tbody tr th {\n",
       "        vertical-align: top;\n",
       "    }\n",
       "\n",
       "    .dataframe thead th {\n",
       "        text-align: right;\n",
       "    }\n",
       "</style>\n",
       "<table border=\"1\" class=\"dataframe\">\n",
       "  <thead>\n",
       "    <tr style=\"text-align: right;\">\n",
       "      <th></th>\n",
       "      <th>months</th>\n",
       "      <th>average_lowest_temperature</th>\n",
       "    </tr>\n",
       "  </thead>\n",
       "  <tbody>\n",
       "    <tr>\n",
       "      <th>0</th>\n",
       "      <td>March</td>\n",
       "      <td>1.9</td>\n",
       "    </tr>\n",
       "    <tr>\n",
       "      <th>1</th>\n",
       "      <td>January</td>\n",
       "      <td>-2.2</td>\n",
       "    </tr>\n",
       "  </tbody>\n",
       "</table>\n",
       "</div>"
      ],
      "text/plain": [
       "    months  average_lowest_temperature\n",
       "0    March                         1.9\n",
       "1  January                        -2.2"
      ]
     },
     "execution_count": 73,
     "metadata": {},
     "output_type": "execute_result"
    }
   ],
   "source": [
    "lowtemp_df = pd.DataFrame({\n",
    "    \"months\":[\"March\",\"January\"],\n",
    "    \"average_lowest_temperature\":[1.9,-2.2]\n",
    "})\n",
    "lowtemp_df"
   ]
  },
  {
   "cell_type": "code",
   "execution_count": 74,
   "id": "9c2838be",
   "metadata": {},
   "outputs": [
    {
     "data": {
      "text/html": [
       "<div>\n",
       "<style scoped>\n",
       "    .dataframe tbody tr th:only-of-type {\n",
       "        vertical-align: middle;\n",
       "    }\n",
       "\n",
       "    .dataframe tbody tr th {\n",
       "        vertical-align: top;\n",
       "    }\n",
       "\n",
       "    .dataframe thead th {\n",
       "        text-align: right;\n",
       "    }\n",
       "</style>\n",
       "<table border=\"1\" class=\"dataframe\">\n",
       "  <thead>\n",
       "    <tr style=\"text-align: right;\">\n",
       "      <th></th>\n",
       "      <th>months</th>\n",
       "      <th>average_maximum_temperature</th>\n",
       "      <th>months</th>\n",
       "      <th>average_lowest_temperature</th>\n",
       "    </tr>\n",
       "  </thead>\n",
       "  <tbody>\n",
       "    <tr>\n",
       "      <th>0</th>\n",
       "      <td>January</td>\n",
       "      <td>4.7</td>\n",
       "      <td>March</td>\n",
       "      <td>1.9</td>\n",
       "    </tr>\n",
       "    <tr>\n",
       "      <th>1</th>\n",
       "      <td>February</td>\n",
       "      <td>7.4</td>\n",
       "      <td>January</td>\n",
       "      <td>-2.2</td>\n",
       "    </tr>\n",
       "    <tr>\n",
       "      <th>2</th>\n",
       "      <td>March</td>\n",
       "      <td>12.2</td>\n",
       "      <td>NaN</td>\n",
       "      <td>NaN</td>\n",
       "    </tr>\n",
       "  </tbody>\n",
       "</table>\n",
       "</div>"
      ],
      "text/plain": [
       "     months  average_maximum_temperature   months  average_lowest_temperature\n",
       "0   January                          4.7    March                         1.9\n",
       "1  February                          7.4  January                        -2.2\n",
       "2     March                         12.2      NaN                         NaN"
      ]
     },
     "execution_count": 74,
     "metadata": {},
     "output_type": "execute_result"
    }
   ],
   "source": [
    "pd.concat([maxtemp_df, lowtemp_df], axis=1)"
   ]
  },
  {
   "cell_type": "markdown",
   "id": "0ac7b9b1",
   "metadata": {},
   "source": [
    "Birleştirme işlemi yaptığımızda olduğu gibi birleştirdiğini görüyoruz. \n",
    "* January verisinin hizasında yine January verisi gelmesini ya da March hizasına March verisinin gelmesini isteyelim. Bu işlemi gerçekleştirebilmek için **\"index\"** özelliğini kullanırız."
   ]
  },
  {
   "cell_type": "code",
   "execution_count": 75,
   "id": "c0f71840",
   "metadata": {},
   "outputs": [
    {
     "data": {
      "text/html": [
       "<div>\n",
       "<style scoped>\n",
       "    .dataframe tbody tr th:only-of-type {\n",
       "        vertical-align: middle;\n",
       "    }\n",
       "\n",
       "    .dataframe tbody tr th {\n",
       "        vertical-align: top;\n",
       "    }\n",
       "\n",
       "    .dataframe thead th {\n",
       "        text-align: right;\n",
       "    }\n",
       "</style>\n",
       "<table border=\"1\" class=\"dataframe\">\n",
       "  <thead>\n",
       "    <tr style=\"text-align: right;\">\n",
       "      <th></th>\n",
       "      <th>months</th>\n",
       "      <th>average_maximum_temperature</th>\n",
       "    </tr>\n",
       "  </thead>\n",
       "  <tbody>\n",
       "    <tr>\n",
       "      <th>0</th>\n",
       "      <td>January</td>\n",
       "      <td>4.7</td>\n",
       "    </tr>\n",
       "    <tr>\n",
       "      <th>1</th>\n",
       "      <td>February</td>\n",
       "      <td>7.4</td>\n",
       "    </tr>\n",
       "    <tr>\n",
       "      <th>2</th>\n",
       "      <td>March</td>\n",
       "      <td>12.2</td>\n",
       "    </tr>\n",
       "  </tbody>\n",
       "</table>\n",
       "</div>"
      ],
      "text/plain": [
       "     months  average_maximum_temperature\n",
       "0   January                          4.7\n",
       "1  February                          7.4\n",
       "2     March                         12.2"
      ]
     },
     "execution_count": 75,
     "metadata": {},
     "output_type": "execute_result"
    }
   ],
   "source": [
    "maxtemp_df = pd.DataFrame({\n",
    "    \"months\":[\"January\",\"February\",\"March\"],\n",
    "    \"average_maximum_temperature\":[4.7,7.4,12.2]\n",
    "}, index=[0,1,2])\n",
    "maxtemp_df"
   ]
  },
  {
   "cell_type": "code",
   "execution_count": 76,
   "id": "fc985a2c",
   "metadata": {},
   "outputs": [
    {
     "data": {
      "text/html": [
       "<div>\n",
       "<style scoped>\n",
       "    .dataframe tbody tr th:only-of-type {\n",
       "        vertical-align: middle;\n",
       "    }\n",
       "\n",
       "    .dataframe tbody tr th {\n",
       "        vertical-align: top;\n",
       "    }\n",
       "\n",
       "    .dataframe thead th {\n",
       "        text-align: right;\n",
       "    }\n",
       "</style>\n",
       "<table border=\"1\" class=\"dataframe\">\n",
       "  <thead>\n",
       "    <tr style=\"text-align: right;\">\n",
       "      <th></th>\n",
       "      <th>months</th>\n",
       "      <th>average_lowest_temperature</th>\n",
       "    </tr>\n",
       "  </thead>\n",
       "  <tbody>\n",
       "    <tr>\n",
       "      <th>2</th>\n",
       "      <td>March</td>\n",
       "      <td>1.9</td>\n",
       "    </tr>\n",
       "    <tr>\n",
       "      <th>0</th>\n",
       "      <td>January</td>\n",
       "      <td>-2.2</td>\n",
       "    </tr>\n",
       "  </tbody>\n",
       "</table>\n",
       "</div>"
      ],
      "text/plain": [
       "    months  average_lowest_temperature\n",
       "2    March                         1.9\n",
       "0  January                        -2.2"
      ]
     },
     "execution_count": 76,
     "metadata": {},
     "output_type": "execute_result"
    }
   ],
   "source": [
    "lowtemp_df = pd.DataFrame({\n",
    "    \"months\":[\"March\",\"January\"],\n",
    "    \"average_lowest_temperature\":[1.9,-2.2]\n",
    "}, index=[2,0])\n",
    "lowtemp_df"
   ]
  },
  {
   "cell_type": "markdown",
   "id": "d23bdbda",
   "metadata": {},
   "source": [
    "Burada verilerin kaçıncı index değerlerine gelmesini istediğimizi belirtiyoruz."
   ]
  },
  {
   "cell_type": "code",
   "execution_count": 77,
   "id": "381f78b8",
   "metadata": {},
   "outputs": [
    {
     "data": {
      "text/html": [
       "<div>\n",
       "<style scoped>\n",
       "    .dataframe tbody tr th:only-of-type {\n",
       "        vertical-align: middle;\n",
       "    }\n",
       "\n",
       "    .dataframe tbody tr th {\n",
       "        vertical-align: top;\n",
       "    }\n",
       "\n",
       "    .dataframe thead th {\n",
       "        text-align: right;\n",
       "    }\n",
       "</style>\n",
       "<table border=\"1\" class=\"dataframe\">\n",
       "  <thead>\n",
       "    <tr style=\"text-align: right;\">\n",
       "      <th></th>\n",
       "      <th>months</th>\n",
       "      <th>average_maximum_temperature</th>\n",
       "      <th>months</th>\n",
       "      <th>average_lowest_temperature</th>\n",
       "    </tr>\n",
       "  </thead>\n",
       "  <tbody>\n",
       "    <tr>\n",
       "      <th>0</th>\n",
       "      <td>January</td>\n",
       "      <td>4.7</td>\n",
       "      <td>January</td>\n",
       "      <td>-2.2</td>\n",
       "    </tr>\n",
       "    <tr>\n",
       "      <th>1</th>\n",
       "      <td>February</td>\n",
       "      <td>7.4</td>\n",
       "      <td>NaN</td>\n",
       "      <td>NaN</td>\n",
       "    </tr>\n",
       "    <tr>\n",
       "      <th>2</th>\n",
       "      <td>March</td>\n",
       "      <td>12.2</td>\n",
       "      <td>March</td>\n",
       "      <td>1.9</td>\n",
       "    </tr>\n",
       "  </tbody>\n",
       "</table>\n",
       "</div>"
      ],
      "text/plain": [
       "     months  average_maximum_temperature   months  average_lowest_temperature\n",
       "0   January                          4.7  January                        -2.2\n",
       "1  February                          7.4      NaN                         NaN\n",
       "2     March                         12.2    March                         1.9"
      ]
     },
     "execution_count": 77,
     "metadata": {},
     "output_type": "execute_result"
    }
   ],
   "source": [
    "pd.concat([maxtemp_df, lowtemp_df], axis=1)  # Çıktıya baktığımızda istediğimiz sonucu aldığımızı görüyoruz."
   ]
  },
  {
   "cell_type": "markdown",
   "id": "89c3209b",
   "metadata": {},
   "source": [
    "> Tabloya yeni bir kolon eklemek isteyelim."
   ]
  },
  {
   "cell_type": "code",
   "execution_count": 78,
   "id": "529c3e34",
   "metadata": {},
   "outputs": [
    {
     "data": {
      "text/plain": [
       "0    0.9\n",
       "1    2.7\n",
       "2    6.7\n",
       "Name: average_temperature, dtype: float64"
      ]
     },
     "execution_count": 78,
     "metadata": {},
     "output_type": "execute_result"
    }
   ],
   "source": [
    "s = pd.Series([0.9,2.7,6.7], name=\"average_temperature\") \n",
    "s"
   ]
  },
  {
   "cell_type": "code",
   "execution_count": 79,
   "id": "09268f79",
   "metadata": {},
   "outputs": [
    {
     "data": {
      "text/html": [
       "<div>\n",
       "<style scoped>\n",
       "    .dataframe tbody tr th:only-of-type {\n",
       "        vertical-align: middle;\n",
       "    }\n",
       "\n",
       "    .dataframe tbody tr th {\n",
       "        vertical-align: top;\n",
       "    }\n",
       "\n",
       "    .dataframe thead th {\n",
       "        text-align: right;\n",
       "    }\n",
       "</style>\n",
       "<table border=\"1\" class=\"dataframe\">\n",
       "  <thead>\n",
       "    <tr style=\"text-align: right;\">\n",
       "      <th></th>\n",
       "      <th>months</th>\n",
       "      <th>average_maximum_temperature</th>\n",
       "      <th>average_temperature</th>\n",
       "    </tr>\n",
       "  </thead>\n",
       "  <tbody>\n",
       "    <tr>\n",
       "      <th>0</th>\n",
       "      <td>January</td>\n",
       "      <td>4.7</td>\n",
       "      <td>0.9</td>\n",
       "    </tr>\n",
       "    <tr>\n",
       "      <th>1</th>\n",
       "      <td>February</td>\n",
       "      <td>7.4</td>\n",
       "      <td>2.7</td>\n",
       "    </tr>\n",
       "    <tr>\n",
       "      <th>2</th>\n",
       "      <td>March</td>\n",
       "      <td>12.2</td>\n",
       "      <td>6.7</td>\n",
       "    </tr>\n",
       "  </tbody>\n",
       "</table>\n",
       "</div>"
      ],
      "text/plain": [
       "     months  average_maximum_temperature  average_temperature\n",
       "0   January                          4.7                  0.9\n",
       "1  February                          7.4                  2.7\n",
       "2     March                         12.2                  6.7"
      ]
     },
     "execution_count": 79,
     "metadata": {},
     "output_type": "execute_result"
    }
   ],
   "source": [
    "pd.concat([maxtemp_df, s], axis=1)"
   ]
  },
  {
   "cell_type": "markdown",
   "id": "7fa60c94",
   "metadata": {},
   "source": [
    "## merge()"
   ]
  },
  {
   "cell_type": "code",
   "execution_count": 80,
   "id": "d884a6e4",
   "metadata": {},
   "outputs": [
    {
     "data": {
      "text/html": [
       "<div>\n",
       "<style scoped>\n",
       "    .dataframe tbody tr th:only-of-type {\n",
       "        vertical-align: middle;\n",
       "    }\n",
       "\n",
       "    .dataframe tbody tr th {\n",
       "        vertical-align: top;\n",
       "    }\n",
       "\n",
       "    .dataframe thead th {\n",
       "        text-align: right;\n",
       "    }\n",
       "</style>\n",
       "<table border=\"1\" class=\"dataframe\">\n",
       "  <thead>\n",
       "    <tr style=\"text-align: right;\">\n",
       "      <th></th>\n",
       "      <th>months</th>\n",
       "      <th>average_maximum_temperature</th>\n",
       "      <th>average_lowest_temperature</th>\n",
       "    </tr>\n",
       "  </thead>\n",
       "  <tbody>\n",
       "    <tr>\n",
       "      <th>0</th>\n",
       "      <td>January</td>\n",
       "      <td>4.7</td>\n",
       "      <td>-2.2</td>\n",
       "    </tr>\n",
       "    <tr>\n",
       "      <th>1</th>\n",
       "      <td>March</td>\n",
       "      <td>12.2</td>\n",
       "      <td>1.9</td>\n",
       "    </tr>\n",
       "  </tbody>\n",
       "</table>\n",
       "</div>"
      ],
      "text/plain": [
       "    months  average_maximum_temperature  average_lowest_temperature\n",
       "0  January                          4.7                        -2.2\n",
       "1    March                         12.2                         1.9"
      ]
     },
     "execution_count": 80,
     "metadata": {},
     "output_type": "execute_result"
    }
   ],
   "source": [
    "pd.merge(maxtemp_df, lowtemp_df, on=\"months\")"
   ]
  },
  {
   "cell_type": "markdown",
   "id": "d115e5f6",
   "metadata": {},
   "source": [
    "Her iki tabloda da ortak olan verileri alır. Varsayılan olarak SQL'deki inner join gibi davranır."
   ]
  },
  {
   "cell_type": "code",
   "execution_count": 81,
   "id": "7f06f890",
   "metadata": {},
   "outputs": [
    {
     "data": {
      "text/html": [
       "<div>\n",
       "<style scoped>\n",
       "    .dataframe tbody tr th:only-of-type {\n",
       "        vertical-align: middle;\n",
       "    }\n",
       "\n",
       "    .dataframe tbody tr th {\n",
       "        vertical-align: top;\n",
       "    }\n",
       "\n",
       "    .dataframe thead th {\n",
       "        text-align: right;\n",
       "    }\n",
       "</style>\n",
       "<table border=\"1\" class=\"dataframe\">\n",
       "  <thead>\n",
       "    <tr style=\"text-align: right;\">\n",
       "      <th></th>\n",
       "      <th>months</th>\n",
       "      <th>average_maximum_temperature</th>\n",
       "      <th>average_lowest_temperature</th>\n",
       "    </tr>\n",
       "  </thead>\n",
       "  <tbody>\n",
       "    <tr>\n",
       "      <th>0</th>\n",
       "      <td>January</td>\n",
       "      <td>4.7</td>\n",
       "      <td>-2.2</td>\n",
       "    </tr>\n",
       "    <tr>\n",
       "      <th>1</th>\n",
       "      <td>February</td>\n",
       "      <td>7.4</td>\n",
       "      <td>NaN</td>\n",
       "    </tr>\n",
       "    <tr>\n",
       "      <th>2</th>\n",
       "      <td>March</td>\n",
       "      <td>12.2</td>\n",
       "      <td>1.9</td>\n",
       "    </tr>\n",
       "  </tbody>\n",
       "</table>\n",
       "</div>"
      ],
      "text/plain": [
       "     months  average_maximum_temperature  average_lowest_temperature\n",
       "0   January                          4.7                        -2.2\n",
       "1  February                          7.4                         NaN\n",
       "2     March                         12.2                         1.9"
      ]
     },
     "execution_count": 81,
     "metadata": {},
     "output_type": "execute_result"
    }
   ],
   "source": [
    "pd.merge(maxtemp_df, lowtemp_df, on=\"months\", how=\"outer\")"
   ]
  },
  {
   "cell_type": "code",
   "execution_count": 82,
   "id": "85a35e52",
   "metadata": {},
   "outputs": [
    {
     "data": {
      "text/html": [
       "<div>\n",
       "<style scoped>\n",
       "    .dataframe tbody tr th:only-of-type {\n",
       "        vertical-align: middle;\n",
       "    }\n",
       "\n",
       "    .dataframe tbody tr th {\n",
       "        vertical-align: top;\n",
       "    }\n",
       "\n",
       "    .dataframe thead th {\n",
       "        text-align: right;\n",
       "    }\n",
       "</style>\n",
       "<table border=\"1\" class=\"dataframe\">\n",
       "  <thead>\n",
       "    <tr style=\"text-align: right;\">\n",
       "      <th></th>\n",
       "      <th>months</th>\n",
       "      <th>average_maximum_temperature</th>\n",
       "      <th>average_lowest_temperature</th>\n",
       "    </tr>\n",
       "  </thead>\n",
       "  <tbody>\n",
       "    <tr>\n",
       "      <th>0</th>\n",
       "      <td>January</td>\n",
       "      <td>4.7</td>\n",
       "      <td>-2.2</td>\n",
       "    </tr>\n",
       "    <tr>\n",
       "      <th>1</th>\n",
       "      <td>February</td>\n",
       "      <td>7.4</td>\n",
       "      <td>NaN</td>\n",
       "    </tr>\n",
       "    <tr>\n",
       "      <th>2</th>\n",
       "      <td>March</td>\n",
       "      <td>12.2</td>\n",
       "      <td>1.9</td>\n",
       "    </tr>\n",
       "  </tbody>\n",
       "</table>\n",
       "</div>"
      ],
      "text/plain": [
       "     months  average_maximum_temperature  average_lowest_temperature\n",
       "0   January                          4.7                        -2.2\n",
       "1  February                          7.4                         NaN\n",
       "2     March                         12.2                         1.9"
      ]
     },
     "execution_count": 82,
     "metadata": {},
     "output_type": "execute_result"
    }
   ],
   "source": [
    "pd.merge(maxtemp_df, lowtemp_df, on=\"months\", how=\"left\")"
   ]
  },
  {
   "cell_type": "code",
   "execution_count": 83,
   "id": "8366e2a7",
   "metadata": {},
   "outputs": [
    {
     "data": {
      "text/html": [
       "<div>\n",
       "<style scoped>\n",
       "    .dataframe tbody tr th:only-of-type {\n",
       "        vertical-align: middle;\n",
       "    }\n",
       "\n",
       "    .dataframe tbody tr th {\n",
       "        vertical-align: top;\n",
       "    }\n",
       "\n",
       "    .dataframe thead th {\n",
       "        text-align: right;\n",
       "    }\n",
       "</style>\n",
       "<table border=\"1\" class=\"dataframe\">\n",
       "  <thead>\n",
       "    <tr style=\"text-align: right;\">\n",
       "      <th></th>\n",
       "      <th>months</th>\n",
       "      <th>average_maximum_temperature</th>\n",
       "      <th>average_lowest_temperature</th>\n",
       "    </tr>\n",
       "  </thead>\n",
       "  <tbody>\n",
       "    <tr>\n",
       "      <th>0</th>\n",
       "      <td>March</td>\n",
       "      <td>12.2</td>\n",
       "      <td>1.9</td>\n",
       "    </tr>\n",
       "    <tr>\n",
       "      <th>1</th>\n",
       "      <td>January</td>\n",
       "      <td>4.7</td>\n",
       "      <td>-2.2</td>\n",
       "    </tr>\n",
       "  </tbody>\n",
       "</table>\n",
       "</div>"
      ],
      "text/plain": [
       "    months  average_maximum_temperature  average_lowest_temperature\n",
       "0    March                         12.2                         1.9\n",
       "1  January                          4.7                        -2.2"
      ]
     },
     "execution_count": 83,
     "metadata": {},
     "output_type": "execute_result"
    }
   ],
   "source": [
    "pd.merge(maxtemp_df, lowtemp_df, on=\"months\", how=\"right\")"
   ]
  },
  {
   "cell_type": "code",
   "execution_count": 84,
   "id": "e1fcbe88",
   "metadata": {},
   "outputs": [
    {
     "data": {
      "text/html": [
       "<div>\n",
       "<style scoped>\n",
       "    .dataframe tbody tr th:only-of-type {\n",
       "        vertical-align: middle;\n",
       "    }\n",
       "\n",
       "    .dataframe tbody tr th {\n",
       "        vertical-align: top;\n",
       "    }\n",
       "\n",
       "    .dataframe thead th {\n",
       "        text-align: right;\n",
       "    }\n",
       "</style>\n",
       "<table border=\"1\" class=\"dataframe\">\n",
       "  <thead>\n",
       "    <tr style=\"text-align: right;\">\n",
       "      <th></th>\n",
       "      <th>months</th>\n",
       "      <th>average_maximum_temperature</th>\n",
       "      <th>average_lowest_temperature</th>\n",
       "      <th>_merge</th>\n",
       "    </tr>\n",
       "  </thead>\n",
       "  <tbody>\n",
       "    <tr>\n",
       "      <th>0</th>\n",
       "      <td>January</td>\n",
       "      <td>4.7</td>\n",
       "      <td>-2.2</td>\n",
       "      <td>both</td>\n",
       "    </tr>\n",
       "    <tr>\n",
       "      <th>1</th>\n",
       "      <td>February</td>\n",
       "      <td>7.4</td>\n",
       "      <td>NaN</td>\n",
       "      <td>left_only</td>\n",
       "    </tr>\n",
       "    <tr>\n",
       "      <th>2</th>\n",
       "      <td>March</td>\n",
       "      <td>12.2</td>\n",
       "      <td>1.9</td>\n",
       "      <td>both</td>\n",
       "    </tr>\n",
       "  </tbody>\n",
       "</table>\n",
       "</div>"
      ],
      "text/plain": [
       "     months  average_maximum_temperature  average_lowest_temperature  \\\n",
       "0   January                          4.7                        -2.2   \n",
       "1  February                          7.4                         NaN   \n",
       "2     March                         12.2                         1.9   \n",
       "\n",
       "      _merge  \n",
       "0       both  \n",
       "1  left_only  \n",
       "2       both  "
      ]
     },
     "execution_count": 84,
     "metadata": {},
     "output_type": "execute_result"
    }
   ],
   "source": [
    "pd.merge(maxtemp_df, lowtemp_df, on=\"months\", how=\"outer\", indicator=True)"
   ]
  },
  {
   "cell_type": "markdown",
   "id": "35c319b2",
   "metadata": {},
   "source": [
    "**\"indicator=True\"** özelliğini eklediğimizde yukarıda görüldüğü üzere tabloya **\"_merge\"** adında bir kolon eklenir. Bu kolon verilerin hangi datadan geldiğini bize söyler."
   ]
  },
  {
   "cell_type": "markdown",
   "id": "da362ff6",
   "metadata": {},
   "source": [
    "* Kolon adları aynı olan iki verisetini birleştirmek istersek karşımıza şöyle bir sonuç çıkacaktır."
   ]
  },
  {
   "cell_type": "code",
   "execution_count": 85,
   "id": "7fef704a",
   "metadata": {},
   "outputs": [
    {
     "data": {
      "text/html": [
       "<div>\n",
       "<style scoped>\n",
       "    .dataframe tbody tr th:only-of-type {\n",
       "        vertical-align: middle;\n",
       "    }\n",
       "\n",
       "    .dataframe tbody tr th {\n",
       "        vertical-align: top;\n",
       "    }\n",
       "\n",
       "    .dataframe thead th {\n",
       "        text-align: right;\n",
       "    }\n",
       "</style>\n",
       "<table border=\"1\" class=\"dataframe\">\n",
       "  <thead>\n",
       "    <tr style=\"text-align: right;\">\n",
       "      <th></th>\n",
       "      <th>country_x</th>\n",
       "      <th>age</th>\n",
       "      <th>gender_x</th>\n",
       "      <th>country_y</th>\n",
       "      <th>gender_y</th>\n",
       "      <th>_merge</th>\n",
       "    </tr>\n",
       "  </thead>\n",
       "  <tbody>\n",
       "    <tr>\n",
       "      <th>0</th>\n",
       "      <td>tr</td>\n",
       "      <td>33</td>\n",
       "      <td>male</td>\n",
       "      <td>fr</td>\n",
       "      <td>male</td>\n",
       "      <td>both</td>\n",
       "    </tr>\n",
       "    <tr>\n",
       "      <th>1</th>\n",
       "      <td>fr</td>\n",
       "      <td>19</td>\n",
       "      <td>male</td>\n",
       "      <td>tr</td>\n",
       "      <td>female</td>\n",
       "      <td>both</td>\n",
       "    </tr>\n",
       "    <tr>\n",
       "      <th>2</th>\n",
       "      <td>us</td>\n",
       "      <td>29</td>\n",
       "      <td>female</td>\n",
       "      <td>us</td>\n",
       "      <td>female</td>\n",
       "      <td>both</td>\n",
       "    </tr>\n",
       "  </tbody>\n",
       "</table>\n",
       "</div>"
      ],
      "text/plain": [
       "  country_x  age gender_x country_y gender_y _merge\n",
       "0        tr   33     male        fr     male   both\n",
       "1        fr   19     male        tr   female   both\n",
       "2        us   29   female        us   female   both"
      ]
     },
     "execution_count": 85,
     "metadata": {},
     "output_type": "execute_result"
    }
   ],
   "source": [
    "pd.merge(df1, df2, on=\"age\", indicator=True) "
   ]
  },
  {
   "cell_type": "markdown",
   "id": "52c44c00",
   "metadata": {},
   "source": [
    "Kolonlar yukarıdaki gibi _x ve _y şeklinde karışmamaları için otomatik olarak isimlendirilirler. İsimlendirmeyi özelleştirmek istersek **\"suffixes\"** özelliğini kullanmamız yeterli olacaktır."
   ]
  },
  {
   "cell_type": "code",
   "execution_count": 86,
   "id": "4c3b6922",
   "metadata": {},
   "outputs": [
    {
     "data": {
      "text/html": [
       "<div>\n",
       "<style scoped>\n",
       "    .dataframe tbody tr th:only-of-type {\n",
       "        vertical-align: middle;\n",
       "    }\n",
       "\n",
       "    .dataframe tbody tr th {\n",
       "        vertical-align: top;\n",
       "    }\n",
       "\n",
       "    .dataframe thead th {\n",
       "        text-align: right;\n",
       "    }\n",
       "</style>\n",
       "<table border=\"1\" class=\"dataframe\">\n",
       "  <thead>\n",
       "    <tr style=\"text-align: right;\">\n",
       "      <th></th>\n",
       "      <th>country_left</th>\n",
       "      <th>age</th>\n",
       "      <th>gender_left</th>\n",
       "      <th>country_right</th>\n",
       "      <th>gender_right</th>\n",
       "    </tr>\n",
       "  </thead>\n",
       "  <tbody>\n",
       "    <tr>\n",
       "      <th>0</th>\n",
       "      <td>tr</td>\n",
       "      <td>33</td>\n",
       "      <td>male</td>\n",
       "      <td>fr</td>\n",
       "      <td>male</td>\n",
       "    </tr>\n",
       "    <tr>\n",
       "      <th>1</th>\n",
       "      <td>fr</td>\n",
       "      <td>19</td>\n",
       "      <td>male</td>\n",
       "      <td>tr</td>\n",
       "      <td>female</td>\n",
       "    </tr>\n",
       "    <tr>\n",
       "      <th>2</th>\n",
       "      <td>us</td>\n",
       "      <td>29</td>\n",
       "      <td>female</td>\n",
       "      <td>us</td>\n",
       "      <td>female</td>\n",
       "    </tr>\n",
       "  </tbody>\n",
       "</table>\n",
       "</div>"
      ],
      "text/plain": [
       "  country_left  age gender_left country_right gender_right\n",
       "0           tr   33        male            fr         male\n",
       "1           fr   19        male            tr       female\n",
       "2           us   29      female            us       female"
      ]
     },
     "execution_count": 86,
     "metadata": {},
     "output_type": "execute_result"
    }
   ],
   "source": [
    "pd.merge(df1, df2, on=\"age\", suffixes=[\"_left\",\"_right\"]) "
   ]
  },
  {
   "cell_type": "code",
   "execution_count": null,
   "id": "d3571ec9",
   "metadata": {},
   "outputs": [],
   "source": []
  }
 ],
 "metadata": {
  "kernelspec": {
   "display_name": "Python 3 (ipykernel)",
   "language": "python",
   "name": "python3"
  },
  "language_info": {
   "codemirror_mode": {
    "name": "ipython",
    "version": 3
   },
   "file_extension": ".py",
   "mimetype": "text/x-python",
   "name": "python",
   "nbconvert_exporter": "python",
   "pygments_lexer": "ipython3",
   "version": "3.11.5"
  }
 },
 "nbformat": 4,
 "nbformat_minor": 5
}
