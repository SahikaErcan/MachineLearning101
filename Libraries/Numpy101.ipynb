{
 "cells": [
  {
   "cell_type": "markdown",
   "id": "edfdc203",
   "metadata": {},
   "source": [
    "# NUMPY KÜTÜPHANESİ"
   ]
  },
  {
   "cell_type": "markdown",
   "id": "aba21c90",
   "metadata": {},
   "source": [
    "NumPy yani Numerical Python, çok boyutlu dizilerle çalışmamızı sağlayan ve matematiksel işlemler yapabildiğimiz bir Python kütüphanedir. NumPy kısmen Python’da yazılmıştır ancak hızlı hesaplama gerektiren parçaların çoğu C veya C ++ ile yazılmıştır. NumPy kütüphanesi Python listelerinden 50 kat daha hızlıdır.\n",
    "\n",
    "\n",
    "Python listelerinden farklı olarak Numpy da dizi içerisindeki tüm elemanlar aynı veri tipinden oluşmaktadır. Python listeleri dinamik olarak büyüyebilen diziler iken, NumPy dizileri oluşturulurken sabit bir boyuta sahiptir. NumPy’deki dizi nesnesi (array) ndarray olarak adlandırılır. Bir ndarray boyutunu değiştirdiğinizde yeni bir dizi oluşturulur ve orjinali silinir. Numpy ile çok boyutlu dizi işlemleri döngü kullanmadan hızlı bir şekilde yapılabilir. Daha az bellek gerektirir, hızlı ve kullanışlıdır."
   ]
  },
  {
   "cell_type": "code",
   "execution_count": 1,
   "id": "85261dc7",
   "metadata": {},
   "outputs": [],
   "source": [
    "import numpy as np  # kütüphaneyi içe aktarıyoruz."
   ]
  },
  {
   "cell_type": "code",
   "execution_count": 2,
   "id": "6a5e2739",
   "metadata": {},
   "outputs": [
    {
     "data": {
      "text/plain": [
       "'1.24.3'"
      ]
     },
     "execution_count": 2,
     "metadata": {},
     "output_type": "execute_result"
    }
   ],
   "source": [
    "np.__version__   # numpy'ın yüklü olan versiyonunu elde ederiz."
   ]
  },
  {
   "cell_type": "code",
   "execution_count": 3,
   "id": "858f8371",
   "metadata": {},
   "outputs": [
    {
     "data": {
      "text/plain": [
       "array([[-0.01224233,  0.99889644],\n",
       "       [ 0.11437112, -0.57236011],\n",
       "       [ 0.98412207,  0.17986616]])"
      ]
     },
     "execution_count": 3,
     "metadata": {},
     "output_type": "execute_result"
    }
   ],
   "source": [
    "data = np.random.randn(3,2)  # 3 satır 2 kolon dan oluşan random veriler üretiyoruz.\n",
    "data"
   ]
  },
  {
   "cell_type": "code",
   "execution_count": 4,
   "id": "be3e7083",
   "metadata": {},
   "outputs": [
    {
     "data": {
      "text/plain": [
       "array([[-0.12242325,  9.98896441],\n",
       "       [ 1.14371117, -5.72360113],\n",
       "       [ 9.84122072,  1.79866157]])"
      ]
     },
     "execution_count": 4,
     "metadata": {},
     "output_type": "execute_result"
    }
   ],
   "source": [
    "data*10  # Her bir veri 10 ile çarpılır.Görüldüğü üzere döngü kullanmadan işlemi hızlı bir şekilde gerçekleştirebiliyoruz."
   ]
  },
  {
   "cell_type": "code",
   "execution_count": 5,
   "id": "27e655be",
   "metadata": {},
   "outputs": [
    {
     "data": {
      "text/plain": [
       "array([[-0.02448465,  1.99779288],\n",
       "       [ 0.22874223, -1.14472023],\n",
       "       [ 1.96824414,  0.35973231]])"
      ]
     },
     "execution_count": 5,
     "metadata": {},
     "output_type": "execute_result"
    }
   ],
   "source": [
    "data + data"
   ]
  },
  {
   "cell_type": "code",
   "execution_count": 6,
   "id": "82c455cd",
   "metadata": {},
   "outputs": [
    {
     "data": {
      "text/plain": [
       "array([[-81.68382901,   1.00110478],\n",
       "       [  8.7434662 ,  -1.7471518 ],\n",
       "       [  1.0161341 ,   5.55968959]])"
      ]
     },
     "execution_count": 6,
     "metadata": {},
     "output_type": "execute_result"
    }
   ],
   "source": [
    "1 / data"
   ]
  },
  {
   "cell_type": "code",
   "execution_count": 7,
   "id": "2a44543d",
   "metadata": {},
   "outputs": [
    {
     "data": {
      "text/plain": [
       "(3, 2)"
      ]
     },
     "execution_count": 7,
     "metadata": {},
     "output_type": "execute_result"
    }
   ],
   "source": [
    "data.shape"
   ]
  },
  {
   "cell_type": "code",
   "execution_count": 8,
   "id": "76df264b",
   "metadata": {},
   "outputs": [
    {
     "data": {
      "text/plain": [
       "dtype('float64')"
      ]
     },
     "execution_count": 8,
     "metadata": {},
     "output_type": "execute_result"
    }
   ],
   "source": [
    "data.dtype"
   ]
  },
  {
   "cell_type": "markdown",
   "id": "23970dcd",
   "metadata": {},
   "source": [
    "NumPy, dizilerle çalışmak için kullanılır. NumPy’deki dizi nesnesine ndarray denir. array() işlevini kullanarak bir NumPy ndarray nesnesi oluşturabiliriz."
   ]
  },
  {
   "cell_type": "code",
   "execution_count": 9,
   "id": "d682116d",
   "metadata": {},
   "outputs": [
    {
     "data": {
      "text/plain": [
       "array(23)"
      ]
     },
     "execution_count": 9,
     "metadata": {},
     "output_type": "execute_result"
    }
   ],
   "source": [
    "a = np.array(23)\n",
    "a"
   ]
  },
  {
   "cell_type": "code",
   "execution_count": 10,
   "id": "69efdf62",
   "metadata": {},
   "outputs": [
    {
     "data": {
      "text/plain": [
       "array([3, 6, 5, 0, 1, 9])"
      ]
     },
     "execution_count": 10,
     "metadata": {},
     "output_type": "execute_result"
    }
   ],
   "source": [
    "b = np.array([3,6,5,0,1,9])\n",
    "b"
   ]
  },
  {
   "cell_type": "code",
   "execution_count": 11,
   "id": "e2dfe38e",
   "metadata": {},
   "outputs": [
    {
     "data": {
      "text/plain": [
       "array([[1, 2, 3],\n",
       "       [4, 5, 6]])"
      ]
     },
     "execution_count": 11,
     "metadata": {},
     "output_type": "execute_result"
    }
   ],
   "source": [
    "c = np.array([[1,2,3],[4,5,6]])\n",
    "c"
   ]
  },
  {
   "cell_type": "code",
   "execution_count": 12,
   "id": "606f1bdb",
   "metadata": {},
   "outputs": [
    {
     "data": {
      "text/plain": [
       "array([[1, 2, 3],\n",
       "       [4, 5, 6],\n",
       "       [7, 8, 9]])"
      ]
     },
     "execution_count": 12,
     "metadata": {},
     "output_type": "execute_result"
    }
   ],
   "source": [
    "d = np.array([[1,2,3],[4,5,6],[7,8,9]])\n",
    "d"
   ]
  },
  {
   "cell_type": "code",
   "execution_count": 13,
   "id": "ea61e7c6",
   "metadata": {},
   "outputs": [
    {
     "name": "stdout",
     "output_type": "stream",
     "text": [
      " 0 \n",
      " 1 \n",
      " 2 \n",
      " 2\n"
     ]
    }
   ],
   "source": [
    "print(\"\",a.ndim, \"\\n\", b.ndim, \"\\n\", c.ndim, \"\\n\", d.ndim)\n",
    "\n",
    "# oluşturduğumuz dizi boyutlarını gözlemleyelim."
   ]
  },
  {
   "cell_type": "code",
   "execution_count": 14,
   "id": "9ffbc994",
   "metadata": {},
   "outputs": [
    {
     "data": {
      "text/plain": [
       "array([0., 0., 0., 0., 0.])"
      ]
     },
     "execution_count": 14,
     "metadata": {},
     "output_type": "execute_result"
    }
   ],
   "source": [
    "np.zeros(5)  # sıfırlardan oluşan 5 elemanlı bir dizi oluşturur."
   ]
  },
  {
   "cell_type": "code",
   "execution_count": 15,
   "id": "519b5ef5",
   "metadata": {},
   "outputs": [
    {
     "data": {
      "text/plain": [
       "array([1., 1., 1., 1., 1., 1., 1.])"
      ]
     },
     "execution_count": 15,
     "metadata": {},
     "output_type": "execute_result"
    }
   ],
   "source": [
    "np.ones(7)  "
   ]
  },
  {
   "cell_type": "code",
   "execution_count": 16,
   "id": "d764c3d2",
   "metadata": {},
   "outputs": [
    {
     "data": {
      "text/plain": [
       "array([0, 1, 2, 3, 4, 5, 6, 7, 8, 9])"
      ]
     },
     "execution_count": 16,
     "metadata": {},
     "output_type": "execute_result"
    }
   ],
   "source": [
    "np.arange(10)  # Bir dizi üretir."
   ]
  },
  {
   "cell_type": "markdown",
   "id": "643cabb4",
   "metadata": {},
   "source": [
    "* Numpy sayısal hesaplamalar için kullanıldığı için özel olarak bir tip belirtilmediği sürece varsayılan olarak **float64** tipinde veriler üretir. Veri tipini belirtmek için **dtype** özelliğini kullanıyoruz."
   ]
  },
  {
   "cell_type": "code",
   "execution_count": 17,
   "id": "8cee6b7f",
   "metadata": {},
   "outputs": [
    {
     "data": {
      "text/plain": [
       "array([1, 2, 3])"
      ]
     },
     "execution_count": 17,
     "metadata": {},
     "output_type": "execute_result"
    }
   ],
   "source": [
    "dizi = np.array([1,2,3], dtype=int)\n",
    "dizi"
   ]
  },
  {
   "cell_type": "code",
   "execution_count": 18,
   "id": "d47ec260",
   "metadata": {},
   "outputs": [
    {
     "data": {
      "text/plain": [
       "dtype('int32')"
      ]
     },
     "execution_count": 18,
     "metadata": {},
     "output_type": "execute_result"
    }
   ],
   "source": [
    "dizi.dtype"
   ]
  },
  {
   "cell_type": "markdown",
   "id": "72dcd738",
   "metadata": {},
   "source": [
    "* Dizinin veri tipini değiştirmek için **astype()** fonksiyonu kullanılır."
   ]
  },
  {
   "cell_type": "code",
   "execution_count": 19,
   "id": "afbf396c",
   "metadata": {},
   "outputs": [
    {
     "data": {
      "text/plain": [
       "array([1., 2., 3.])"
      ]
     },
     "execution_count": 19,
     "metadata": {},
     "output_type": "execute_result"
    }
   ],
   "source": [
    "dizi = dizi.astype(np.float64)\n",
    "dizi"
   ]
  },
  {
   "cell_type": "code",
   "execution_count": 20,
   "id": "506f9b46",
   "metadata": {},
   "outputs": [
    {
     "data": {
      "text/plain": [
       "dtype('float64')"
      ]
     },
     "execution_count": 20,
     "metadata": {},
     "output_type": "execute_result"
    }
   ],
   "source": [
    "dizi.dtype"
   ]
  },
  {
   "cell_type": "code",
   "execution_count": 21,
   "id": "d5e4d0c8",
   "metadata": {},
   "outputs": [
    {
     "data": {
      "text/plain": [
       "array([2, 1, 4, 3, 5, 6, 8, 9, 7])"
      ]
     },
     "execution_count": 21,
     "metadata": {},
     "output_type": "execute_result"
    }
   ],
   "source": [
    "arr = np.array([2,1,4,3,5,6,8,9,7])\n",
    "arr"
   ]
  },
  {
   "cell_type": "code",
   "execution_count": 22,
   "id": "b693537d",
   "metadata": {},
   "outputs": [
    {
     "data": {
      "text/plain": [
       "5"
      ]
     },
     "execution_count": 22,
     "metadata": {},
     "output_type": "execute_result"
    }
   ],
   "source": [
    "arr[4]"
   ]
  },
  {
   "cell_type": "code",
   "execution_count": 23,
   "id": "bd3b6388",
   "metadata": {},
   "outputs": [
    {
     "data": {
      "text/plain": [
       "array([4, 3, 5])"
      ]
     },
     "execution_count": 23,
     "metadata": {},
     "output_type": "execute_result"
    }
   ],
   "source": [
    "arr[2:5]"
   ]
  },
  {
   "cell_type": "code",
   "execution_count": 24,
   "id": "a4113a5d",
   "metadata": {},
   "outputs": [
    {
     "data": {
      "text/plain": [
       "array([0, 0, 0, 0, 5, 6, 8, 9, 7])"
      ]
     },
     "execution_count": 24,
     "metadata": {},
     "output_type": "execute_result"
    }
   ],
   "source": [
    "arr[:4] = 0\n",
    "arr"
   ]
  },
  {
   "cell_type": "code",
   "execution_count": 25,
   "id": "5d02297e",
   "metadata": {},
   "outputs": [
    {
     "data": {
      "text/plain": [
       "array([[2, 3, 4],\n",
       "       [1, 2, 3],\n",
       "       [4, 3, 5]])"
      ]
     },
     "execution_count": 25,
     "metadata": {},
     "output_type": "execute_result"
    }
   ],
   "source": [
    "arr2 = np.array([[2,3,4],[1,2,3],[4,3,5]])\n",
    "arr2"
   ]
  },
  {
   "cell_type": "code",
   "execution_count": 26,
   "id": "2bb543a0",
   "metadata": {},
   "outputs": [
    {
     "data": {
      "text/plain": [
       "array([2, 3, 4])"
      ]
     },
     "execution_count": 26,
     "metadata": {},
     "output_type": "execute_result"
    }
   ],
   "source": [
    "arr2[0]  # 0. satır"
   ]
  },
  {
   "cell_type": "code",
   "execution_count": 27,
   "id": "da34b7ba",
   "metadata": {},
   "outputs": [
    {
     "data": {
      "text/plain": [
       "4"
      ]
     },
     "execution_count": 27,
     "metadata": {},
     "output_type": "execute_result"
    }
   ],
   "source": [
    "arr2[0][2]  # 0. satırın 2. kolonundaki değer"
   ]
  },
  {
   "cell_type": "code",
   "execution_count": 28,
   "id": "df86228a",
   "metadata": {},
   "outputs": [
    {
     "data": {
      "text/plain": [
       "array([[2, 3, 4],\n",
       "       [1, 2, 3]])"
      ]
     },
     "execution_count": 28,
     "metadata": {},
     "output_type": "execute_result"
    }
   ],
   "source": [
    "arr2[0:2] "
   ]
  },
  {
   "cell_type": "code",
   "execution_count": 29,
   "id": "a184d76b",
   "metadata": {},
   "outputs": [
    {
     "data": {
      "text/plain": [
       "array([2, 3])"
      ]
     },
     "execution_count": 29,
     "metadata": {},
     "output_type": "execute_result"
    }
   ],
   "source": [
    "arr2[0,:2]  # 1.bileşenin (1. satır) 2. index e kadar ki değerlerini çek"
   ]
  },
  {
   "cell_type": "code",
   "execution_count": 30,
   "id": "b3b7117e",
   "metadata": {},
   "outputs": [
    {
     "data": {
      "text/plain": [
       "array([[2],\n",
       "       [1]])"
      ]
     },
     "execution_count": 30,
     "metadata": {},
     "output_type": "execute_result"
    }
   ],
   "source": [
    "arr2[:2,:1] # yatayda 0. ve 1. satır, dikeyde 0. kolon"
   ]
  },
  {
   "cell_type": "code",
   "execution_count": 31,
   "id": "2ae61682",
   "metadata": {},
   "outputs": [
    {
     "data": {
      "text/plain": [
       "array(['Ali', 'Veli', 'Ayşe', 'Ali'], dtype='<U4')"
      ]
     },
     "execution_count": 31,
     "metadata": {},
     "output_type": "execute_result"
    }
   ],
   "source": [
    "isimler = np.array([\"Ali\",\"Veli\",\"Ayşe\",\"Ali\"])\n",
    "isimler"
   ]
  },
  {
   "cell_type": "code",
   "execution_count": 32,
   "id": "53bba9a0",
   "metadata": {},
   "outputs": [
    {
     "data": {
      "text/plain": [
       "array([[-0.55158036,  2.23054949,  0.81951197],\n",
       "       [ 0.95865405,  1.21689553, -1.7943096 ],\n",
       "       [ 0.72197219, -0.87158091,  0.22764846],\n",
       "       [-0.31371009,  0.50523329, -0.21608415]])"
      ]
     },
     "execution_count": 32,
     "metadata": {},
     "output_type": "execute_result"
    }
   ],
   "source": [
    "veri = np.random.randn(4,3)\n",
    "veri"
   ]
  },
  {
   "cell_type": "code",
   "execution_count": 33,
   "id": "38aa9ba3",
   "metadata": {},
   "outputs": [
    {
     "data": {
      "text/plain": [
       "array([[-0.55158036,  2.23054949,  0.81951197],\n",
       "       [-0.31371009,  0.50523329, -0.21608415]])"
      ]
     },
     "execution_count": 33,
     "metadata": {},
     "output_type": "execute_result"
    }
   ],
   "source": [
    "# isimlerin verideki satırlara karşılık geldiğini farzedelim. Yani isimleri index gibi kullanalım.\n",
    "veri[isimler==\"Ali\"]  # Ali isimler dizisinde 0. ve 3. indexe karşılık geliyor. Verinin 0. ve 3. indexi"
   ]
  },
  {
   "cell_type": "code",
   "execution_count": 34,
   "id": "fb05986a",
   "metadata": {},
   "outputs": [
    {
     "data": {
      "text/plain": [
       "array([[ 2.23054949,  0.81951197],\n",
       "       [ 0.50523329, -0.21608415]])"
      ]
     },
     "execution_count": 34,
     "metadata": {},
     "output_type": "execute_result"
    }
   ],
   "source": [
    "veri[isimler==\"Ali\", 1:]  # kolon bazında 1. indexden sonrakileri alır"
   ]
  },
  {
   "cell_type": "code",
   "execution_count": 35,
   "id": "e53d42d9",
   "metadata": {},
   "outputs": [
    {
     "data": {
      "text/plain": [
       "array([[ 0.95865405,  1.21689553, -1.7943096 ],\n",
       "       [ 0.72197219, -0.87158091,  0.22764846]])"
      ]
     },
     "execution_count": 35,
     "metadata": {},
     "output_type": "execute_result"
    }
   ],
   "source": [
    "veri[~(isimler==\"Ali\")]  # \"~\" işareti ile Ali ismine karşılık gelmeyen elemanları verir.\n",
    "\n",
    "# ~ ters işlemler için kullanılır."
   ]
  },
  {
   "cell_type": "code",
   "execution_count": 36,
   "id": "60af287c",
   "metadata": {},
   "outputs": [
    {
     "data": {
      "text/plain": [
       "array([[-0.55158036,  2.23054949,  0.81951197],\n",
       "       [ 0.95865405,  1.21689553, -1.7943096 ],\n",
       "       [-0.31371009,  0.50523329, -0.21608415]])"
      ]
     },
     "execution_count": 36,
     "metadata": {},
     "output_type": "execute_result"
    }
   ],
   "source": [
    "sec = (isimler == \"Ali\") | (isimler == \"Veli\")\n",
    "veri[sec]"
   ]
  },
  {
   "cell_type": "code",
   "execution_count": 37,
   "id": "fbc83473",
   "metadata": {},
   "outputs": [
    {
     "data": {
      "text/plain": [
       "array([[0.        , 2.23054949, 0.81951197],\n",
       "       [0.95865405, 1.21689553, 0.        ],\n",
       "       [0.72197219, 0.        , 0.22764846],\n",
       "       [0.        , 0.50523329, 0.        ]])"
      ]
     },
     "execution_count": 37,
     "metadata": {},
     "output_type": "execute_result"
    }
   ],
   "source": [
    "veri[veri<0] = 0  # veri içerisinde 0 dan küçük elemanlar yerine 0 değerini atar.\n",
    "veri"
   ]
  },
  {
   "cell_type": "code",
   "execution_count": 38,
   "id": "46881f24",
   "metadata": {},
   "outputs": [
    {
     "data": {
      "text/plain": [
       "array([[ 0,  1,  2,  3],\n",
       "       [ 4,  5,  6,  7],\n",
       "       [ 8,  9, 10, 11]])"
      ]
     },
     "execution_count": 38,
     "metadata": {},
     "output_type": "execute_result"
    }
   ],
   "source": [
    "dizi = np.arange(12).reshape(3,4) \n",
    "dizi\n",
    "\n",
    "# Önce 12 elemanlı bir dizi oluşturuyor sonra da bu diziyi 3 satır 4 sütundan oluşan çok boyutlu bir diziye dönüştürüyoruz."
   ]
  },
  {
   "cell_type": "code",
   "execution_count": 39,
   "id": "5e0e6cb0",
   "metadata": {},
   "outputs": [
    {
     "data": {
      "text/plain": [
       "array([[ 0,  4,  8],\n",
       "       [ 1,  5,  9],\n",
       "       [ 2,  6, 10],\n",
       "       [ 3,  7, 11]])"
      ]
     },
     "execution_count": 39,
     "metadata": {},
     "output_type": "execute_result"
    }
   ],
   "source": [
    "dizi.T  # dizinin transpozunu verir. Transpoz: Satırlar ve sütunların yer değiştirme halidir."
   ]
  },
  {
   "cell_type": "code",
   "execution_count": 40,
   "id": "2db7ca0c",
   "metadata": {},
   "outputs": [
    {
     "data": {
      "text/plain": [
       "array([[ 80,  92, 104, 116],\n",
       "       [ 92, 107, 122, 137],\n",
       "       [104, 122, 140, 158],\n",
       "       [116, 137, 158, 179]])"
      ]
     },
     "execution_count": 40,
     "metadata": {},
     "output_type": "execute_result"
    }
   ],
   "source": [
    "# dizilerin matris çarpımı için dot() metodu kullanılır.\n",
    "\n",
    "np.dot(dizi.T, dizi)  # diziyi dizinin transpozu ile çarpar"
   ]
  },
  {
   "cell_type": "code",
   "execution_count": 41,
   "id": "6e5001b2",
   "metadata": {},
   "outputs": [
    {
     "data": {
      "text/plain": [
       "5.5"
      ]
     },
     "execution_count": 41,
     "metadata": {},
     "output_type": "execute_result"
    }
   ],
   "source": [
    "dizi.mean()"
   ]
  },
  {
   "cell_type": "code",
   "execution_count": 42,
   "id": "7a356bc7",
   "metadata": {},
   "outputs": [
    {
     "data": {
      "text/plain": [
       "66"
      ]
     },
     "execution_count": 42,
     "metadata": {},
     "output_type": "execute_result"
    }
   ],
   "source": [
    "dizi.sum()"
   ]
  },
  {
   "cell_type": "code",
   "execution_count": 43,
   "id": "fb985338",
   "metadata": {},
   "outputs": [
    {
     "data": {
      "text/plain": [
       "array([1.5, 5.5, 9.5])"
      ]
     },
     "execution_count": 43,
     "metadata": {},
     "output_type": "execute_result"
    }
   ],
   "source": [
    "dizi.mean(axis = 1)  # satırların ortalamasını verir."
   ]
  },
  {
   "cell_type": "code",
   "execution_count": 44,
   "id": "d587a645",
   "metadata": {},
   "outputs": [
    {
     "data": {
      "text/plain": [
       "array([4., 5., 6., 7.])"
      ]
     },
     "execution_count": 44,
     "metadata": {},
     "output_type": "execute_result"
    }
   ],
   "source": [
    "dizi.mean(axis = 0) # sütunların ortalamasını verir."
   ]
  },
  {
   "cell_type": "code",
   "execution_count": 45,
   "id": "8068f190",
   "metadata": {},
   "outputs": [
    {
     "data": {
      "text/plain": [
       "array([[ 0,  1,  2,  3],\n",
       "       [ 4,  5,  6,  7],\n",
       "       [ 8,  9, 10, 11]])"
      ]
     },
     "execution_count": 45,
     "metadata": {},
     "output_type": "execute_result"
    }
   ],
   "source": [
    "dizi.sort()  # dizi elemanları sıralanır.\n",
    "dizi"
   ]
  },
  {
   "cell_type": "code",
   "execution_count": 46,
   "id": "8e3bae52",
   "metadata": {},
   "outputs": [
    {
     "data": {
      "text/plain": [
       "array([1, 2, 3])"
      ]
     },
     "execution_count": 46,
     "metadata": {},
     "output_type": "execute_result"
    }
   ],
   "source": [
    "say = np.array([1,1,1,2,3])\n",
    "np.unique(say)  # tekrar eden elemanlardan sadece 1 ini alır."
   ]
  },
  {
   "cell_type": "code",
   "execution_count": 47,
   "id": "04af6e3c",
   "metadata": {},
   "outputs": [
    {
     "data": {
      "text/plain": [
       "array([0, 1, 2, 3, 4, 5, 6, 7, 8, 9])"
      ]
     },
     "execution_count": 47,
     "metadata": {},
     "output_type": "execute_result"
    }
   ],
   "source": [
    "dizi = np.arange(10)\n",
    "np.save(\"bir_dizi\", dizi)  # bir_dizi isminde çalışma dizinine kaydedilir.\n",
    "np.load(\"bir_dizi.npy\") # kaydettiğimiz dizi ekrana yazılır."
   ]
  },
  {
   "cell_type": "code",
   "execution_count": 48,
   "id": "72162cce",
   "metadata": {},
   "outputs": [
    {
     "name": "stdout",
     "output_type": "stream",
     "text": [
      "[42  2  3  4  5]\n",
      "[1 2 3 4 5]\n"
     ]
    }
   ],
   "source": [
    "arr = np.array([1, 2, 3, 4, 5])\n",
    "x = arr.copy()\n",
    "arr[0] = 42\n",
    "\n",
    "print(arr) \n",
    "print(x) \n",
    "\n",
    "# Kopya (Copy), orijinal dizide yapılan değişikliklerden etkilenmemektedir."
   ]
  },
  {
   "cell_type": "code",
   "execution_count": 49,
   "id": "d41a78df",
   "metadata": {},
   "outputs": [
    {
     "name": "stdout",
     "output_type": "stream",
     "text": [
      "[42  2  3  4  5]\n",
      "[42  2  3  4  5]\n"
     ]
    }
   ],
   "source": [
    "arr = np.array([1, 2, 3, 4, 5])\n",
    "x = arr.view()\n",
    "arr[0] = 42\n",
    "\n",
    "print(arr)  \n",
    "print(x) \n",
    "\n",
    "# Görünüm (View), orijinal dizide yapılan değişikliklerden ETKİLENMELİDİR."
   ]
  },
  {
   "cell_type": "markdown",
   "id": "a135a815",
   "metadata": {},
   "source": [
    "* Her NumPy dizisi, dizinin kendi verilerine sahip olması durumunda None döndüren base özelliğine sahiptir. Diğer bir deyişle, base nitelik orijinal nesneye atıfta bulunur."
   ]
  },
  {
   "cell_type": "code",
   "execution_count": 50,
   "id": "9d62cfbc",
   "metadata": {},
   "outputs": [
    {
     "name": "stdout",
     "output_type": "stream",
     "text": [
      "None\n",
      "[1 2 3 4 5]\n"
     ]
    }
   ],
   "source": [
    "arr = np.array([1, 2, 3, 4, 5])\n",
    "\n",
    "x = arr.copy()\n",
    "y = arr.view()\n",
    "\n",
    "print(x.base) \n",
    "print(y.base)\n",
    "\n",
    "# Özetle Kopya None değerini döndürür. Görünüm, orijinal diziyi döndürür."
   ]
  },
  {
   "cell_type": "markdown",
   "id": "c3db9a2d",
   "metadata": {},
   "source": [
    "* 1,2,3,4 değerlerine sahip bir vektörü ndmin kullanarak 5 boyutlu bir dizi şeklinde oluşturan ve son boyutun 4 değerine sahip olduğunu doğrulayan örnek bir kod yazalım:"
   ]
  },
  {
   "cell_type": "code",
   "execution_count": 51,
   "id": "1dedb78a",
   "metadata": {},
   "outputs": [
    {
     "name": "stdout",
     "output_type": "stream",
     "text": [
      "[[[[[1 2 3 4]]]]]\n",
      "shape:  (1, 1, 1, 1, 4)\n"
     ]
    }
   ],
   "source": [
    "arr = np.array([1, 2, 3, 4], ndmin=5)\n",
    "\n",
    "print(arr)\n",
    "print('shape: ', arr.shape)"
   ]
  },
  {
   "cell_type": "code",
   "execution_count": 52,
   "id": "1b7435de",
   "metadata": {},
   "outputs": [
    {
     "name": "stdout",
     "output_type": "stream",
     "text": [
      "[[[ 1  2]\n",
      "  [ 3  4]\n",
      "  [ 5  6]]\n",
      "\n",
      " [[ 7  8]\n",
      "  [ 9 10]\n",
      "  [11 12]]]\n"
     ]
    }
   ],
   "source": [
    "arr = np.array([1, 2, 3, 4, 5, 6, 7, 8, 9, 10, 11, 12])\n",
    "\n",
    "newarr = arr.reshape(2, 3, 2)\n",
    "\n",
    "print(newarr)\n",
    "\n",
    "# 2 tane 3x2 boyutunda dizi oluştur diyoruz."
   ]
  },
  {
   "cell_type": "code",
   "execution_count": 53,
   "id": "982d9cb1",
   "metadata": {},
   "outputs": [
    {
     "name": "stdout",
     "output_type": "stream",
     "text": [
      "[1 2 3 4 5 6 7 8]\n"
     ]
    }
   ],
   "source": [
    "# Şekillendirilen dizinin bir kopya mı yoksa bir görünüm mü olduğunu kontrol edebiliriz:\n",
    "\n",
    "arr = np.array([1, 2, 3, 4, 5, 6, 7, 8])\n",
    "\n",
    "print(arr.reshape(2, 4).base) \n",
    "\n",
    "# orijinal diziyi döndürür, bu nedenle bir (view) görünümdür."
   ]
  },
  {
   "cell_type": "markdown",
   "id": "d49fe7f8",
   "metadata": {},
   "source": [
    "* Düzleştirme dizisi, çok boyutlu bir diziyi 1 boyutlu bir diziye dönüştürmek anlamına gelir. Bunu yapmak için reshape(-1) kullanabiliriz."
   ]
  },
  {
   "cell_type": "code",
   "execution_count": 54,
   "id": "aae8c786",
   "metadata": {},
   "outputs": [
    {
     "name": "stdout",
     "output_type": "stream",
     "text": [
      "[1 2 3 4 5 6]\n"
     ]
    }
   ],
   "source": [
    "arr = np.array([[1, 2, 3], [4, 5, 6]])\n",
    "\n",
    "newarr = arr.reshape(-1)\n",
    "\n",
    "print(newarr)"
   ]
  },
  {
   "cell_type": "markdown",
   "id": "f04ef4f7",
   "metadata": {},
   "source": [
    "Yineleme (Iterating), öğeleri tek tek gözden geçirmek anlamına gelir. Numpy’deki çok boyutlu dizilerle uğraşırken, bunu python döngüsünün temel for döngüsünü kullanarak yapabiliriz. Tek boyutlu bir dizi üzerinde yinelersek, her bir öğeden birer birer geçecektir."
   ]
  },
  {
   "cell_type": "code",
   "execution_count": 55,
   "id": "5b984c47",
   "metadata": {},
   "outputs": [
    {
     "name": "stdout",
     "output_type": "stream",
     "text": [
      "1\n",
      "2\n",
      "3\n"
     ]
    }
   ],
   "source": [
    "arr = np.array([1, 2, 3])\n",
    "\n",
    "for x in arr:\n",
    "    print(x)"
   ]
  },
  {
   "cell_type": "code",
   "execution_count": 56,
   "id": "0fd33d60",
   "metadata": {},
   "outputs": [
    {
     "name": "stdout",
     "output_type": "stream",
     "text": [
      "[1 2 3]\n",
      "[4 5 6]\n"
     ]
    }
   ],
   "source": [
    "arr = np.array([[1, 2, 3], [4, 5, 6]])\n",
    "\n",
    "for x in arr:\n",
    "    print(x)"
   ]
  },
  {
   "cell_type": "code",
   "execution_count": 57,
   "id": "70f98645",
   "metadata": {},
   "outputs": [
    {
     "name": "stdout",
     "output_type": "stream",
     "text": [
      "1\n",
      "2\n",
      "4\n",
      "5\n"
     ]
    }
   ],
   "source": [
    "arr = np.array([[1, 2], [4, 5]])\n",
    "\n",
    "for x in arr:\n",
    "    for y in x:\n",
    "        print(y)"
   ]
  },
  {
   "cell_type": "code",
   "execution_count": 58,
   "id": "91d3fcb5",
   "metadata": {},
   "outputs": [
    {
     "name": "stdout",
     "output_type": "stream",
     "text": [
      "[[1 2 3]\n",
      " [4 5 6]] \n",
      "\n",
      "[[ 7  8  9]\n",
      " [10 11 12]] \n",
      "\n"
     ]
    }
   ],
   "source": [
    "arr = np.array([[[1, 2, 3], [4, 5, 6]], [[7, 8, 9], [10, 11, 12]]])\n",
    "\n",
    "for x in arr:\n",
    "    print(x , \"\\n\")"
   ]
  },
  {
   "cell_type": "code",
   "execution_count": 59,
   "id": "3ddb53b8",
   "metadata": {},
   "outputs": [
    {
     "name": "stdout",
     "output_type": "stream",
     "text": [
      "1\n",
      "2\n",
      "3\n",
      "4\n",
      "5\n",
      "6\n",
      "7\n",
      "8\n"
     ]
    }
   ],
   "source": [
    "arr = np.array([[[1, 2], [3, 4]], [[5, 6], [7, 8]]])\n",
    "\n",
    "for x in arr:\n",
    "    for y in x:\n",
    "        for z in y:\n",
    "            print(z)"
   ]
  },
  {
   "cell_type": "markdown",
   "id": "01c0e075",
   "metadata": {},
   "source": [
    "* **nditer()** işlevi, çok temelden çok ileri düzey yinelemelere kadar kullanılabilen bir yardımcı işlevdir. Yinelemede karşılaştığımız bazı temel sorunları çözer. \n",
    "\n",
    "    for döngülerinde, bir dizinin her skaleri için n adet for döngüsü kullanmamız gerekir ki bu da çok yüksek boyutsallığa sahip diziler için yazmayı zorlaştırır. Fakat nditer() kullanarak bu işlemi basitçe gerçekleştirebiliriz. "
   ]
  },
  {
   "cell_type": "code",
   "execution_count": 60,
   "id": "4b854764",
   "metadata": {},
   "outputs": [
    {
     "name": "stdout",
     "output_type": "stream",
     "text": [
      "1\n",
      "2\n",
      "3\n",
      "4\n",
      "5\n",
      "6\n",
      "7\n",
      "8\n"
     ]
    }
   ],
   "source": [
    "arr = np.array([[[1, 2], [3, 4]], [[5, 6], [7, 8]]])\n",
    "\n",
    "for x in np.nditer(arr):\n",
    "    print(x)"
   ]
  },
  {
   "cell_type": "markdown",
   "id": "9ecdae07",
   "metadata": {},
   "source": [
    "* **op_dtypes** argümanını kullanarak yineleme sırasında öğelerin veri türünü değiştirmek için beklenen veri türünü iletebiliriz.\n",
    "\n",
    "    NumPy, in-place veri türünü (öğenin dizide olduğu yerde) değiştirmez, bu nedenle bu eylemi gerçekleştirmek için başka bir alana ihtiyaç duyar, bu fazladan boşluğa tampon adı verilir ve onu nditer() içinde etkinleştirmek için flags=['buffered'] parametresini kullanabiliriz."
   ]
  },
  {
   "cell_type": "code",
   "execution_count": 61,
   "id": "9478b02d",
   "metadata": {},
   "outputs": [
    {
     "name": "stdout",
     "output_type": "stream",
     "text": [
      "b'1'\n",
      "b'2'\n",
      "b'3'\n"
     ]
    }
   ],
   "source": [
    "arr = np.array([1, 2, 3])\n",
    "\n",
    "for x in np.nditer(arr, flags=['buffered'], op_dtypes=['S']):\n",
    "    print(x)"
   ]
  },
  {
   "cell_type": "code",
   "execution_count": null,
   "id": "f5e7c51b",
   "metadata": {},
   "outputs": [],
   "source": []
  }
 ],
 "metadata": {
  "kernelspec": {
   "display_name": "Python 3 (ipykernel)",
   "language": "python",
   "name": "python3"
  },
  "language_info": {
   "codemirror_mode": {
    "name": "ipython",
    "version": 3
   },
   "file_extension": ".py",
   "mimetype": "text/x-python",
   "name": "python",
   "nbconvert_exporter": "python",
   "pygments_lexer": "ipython3",
   "version": "3.11.5"
  }
 },
 "nbformat": 4,
 "nbformat_minor": 5
}
