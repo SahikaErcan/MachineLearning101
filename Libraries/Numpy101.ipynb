{
 "cells": [
  {
   "cell_type": "markdown",
   "id": "edfdc203",
   "metadata": {},
   "source": [
    "# NUMPY KÜTÜPHANESİ"
   ]
  },
  {
   "cell_type": "markdown",
   "id": "aba21c90",
   "metadata": {},
   "source": [
    "NumPy yani Numerical Python, çok boyutlu dizilerle ve matrislerle çalışmamızı sağlayan ve matematiksel işlemler yapabildiğimiz bir kütüphanedir. Numpy ile Python'un mevcut dizilerine oranla daha verimli ve daha az kodla matematiksel işlemler yapabiliriz.\n",
    "Python’da dizilerin amacına hizmet eden listelerimiz var, ancak işlenmesi yavaştır. NumPy, geleneksel Python listelerinden 50 kata kadar daha hızlı bir dizi nesnesi sağlamayı amaçlamaktadır. \n",
    "NumPy bir Python kütüphanesidir ve kısmen Python’da yazılmıştır, ancak hızlı hesaplama gerektiren parçaların çoğu C veya C ++ ile yazılmıştır.\n",
    "Numpy, Python’daki dizilerden (list, tuple) farklı olarak her bir elemanının aynı türde olduğu sayısal dizileri içermektedir.\n",
    "NumPy’deki dizi nesnesi (array) ndarray olarak adlandırılır ve ndarray, çalışmayı çok kolaylaştıran birçok destekleyici işlev sağlar. NumPy dizileri ile standart Python dizileri arasında bazı farklar vardır. \n",
    "Standart Python listeleri dinamik olarak büyüyebilen diziler iken, NumPy dizileri oluşturulurken sabit bir boyuta sahiptir. Bir ndarray boyutunu değiştirdiğinizde yeni bir dizi oluşturulur ve orjinali silinir.\n",
    "Numpy ile çok boyutlu dizi işlemleri döngü kullanmadan hızlı bir şekilde yapılabilir. Daha az bellek gerektirir, hızlı ve kullanışlıdır.\n",
    "NumPy, çok çeşitli donanım ve bilgi işlem platformlarını destekler ve dağıtılmış, GPU ve seyrek dizi kitaplıklarıyla iyi çalışır."
   ]
  },
  {
   "cell_type": "code",
   "execution_count": 1,
   "id": "85261dc7",
   "metadata": {},
   "outputs": [],
   "source": [
    "import numpy as np"
   ]
  },
  {
   "cell_type": "code",
   "execution_count": 3,
   "id": "6a5e2739",
   "metadata": {},
   "outputs": [
    {
     "data": {
      "text/plain": [
       "'1.21.5'"
      ]
     },
     "execution_count": 3,
     "metadata": {},
     "output_type": "execute_result"
    }
   ],
   "source": [
    "np.__version__   # numpy'ın yüklü olan versiyonunu elde ederiz."
   ]
  },
  {
   "cell_type": "code",
   "execution_count": 37,
   "id": "858f8371",
   "metadata": {},
   "outputs": [
    {
     "data": {
      "text/plain": [
       "array([[ 0.4150363 ,  2.18458807],\n",
       "       [-0.74433735,  0.73148001],\n",
       "       [-0.23858096,  1.22440711]])"
      ]
     },
     "execution_count": 37,
     "metadata": {},
     "output_type": "execute_result"
    }
   ],
   "source": [
    "data = np.random.randn(3,2)  # 3 satır 2 kolon\n",
    "data"
   ]
  },
  {
   "cell_type": "code",
   "execution_count": 38,
   "id": "be3e7083",
   "metadata": {},
   "outputs": [
    {
     "data": {
      "text/plain": [
       "array([[ 4.15036303, 21.84588065],\n",
       "       [-7.44337355,  7.31480007],\n",
       "       [-2.38580956, 12.24407111]])"
      ]
     },
     "execution_count": 38,
     "metadata": {},
     "output_type": "execute_result"
    }
   ],
   "source": [
    "data*10"
   ]
  },
  {
   "cell_type": "code",
   "execution_count": 39,
   "id": "27e655be",
   "metadata": {},
   "outputs": [
    {
     "data": {
      "text/plain": [
       "array([[ 0.83007261,  4.36917613],\n",
       "       [-1.48867471,  1.46296001],\n",
       "       [-0.47716191,  2.44881422]])"
      ]
     },
     "execution_count": 39,
     "metadata": {},
     "output_type": "execute_result"
    }
   ],
   "source": [
    "data + data"
   ]
  },
  {
   "cell_type": "code",
   "execution_count": 40,
   "id": "82c455cd",
   "metadata": {},
   "outputs": [
    {
     "data": {
      "text/plain": [
       "array([[ 2.40942778,  0.4577522 ],\n",
       "       [-1.34347684,  1.36709136],\n",
       "       [-4.19144939,  0.81672182]])"
      ]
     },
     "execution_count": 40,
     "metadata": {},
     "output_type": "execute_result"
    }
   ],
   "source": [
    "1 / data"
   ]
  },
  {
   "cell_type": "code",
   "execution_count": 7,
   "id": "2a44543d",
   "metadata": {},
   "outputs": [
    {
     "data": {
      "text/plain": [
       "(3, 2)"
      ]
     },
     "execution_count": 7,
     "metadata": {},
     "output_type": "execute_result"
    }
   ],
   "source": [
    "data.shape"
   ]
  },
  {
   "cell_type": "code",
   "execution_count": 8,
   "id": "76df264b",
   "metadata": {},
   "outputs": [
    {
     "data": {
      "text/plain": [
       "dtype('float64')"
      ]
     },
     "execution_count": 8,
     "metadata": {},
     "output_type": "execute_result"
    }
   ],
   "source": [
    "data.dtype"
   ]
  },
  {
   "cell_type": "markdown",
   "id": "23970dcd",
   "metadata": {},
   "source": [
    "NumPy, dizilerle çalışmak için kullanılır. NumPy’deki dizi nesnesine ndarray denir. array() işlevini kullanarak bir NumPy ndarray nesnesi oluşturabiliriz."
   ]
  },
  {
   "cell_type": "code",
   "execution_count": 17,
   "id": "d682116d",
   "metadata": {},
   "outputs": [
    {
     "data": {
      "text/plain": [
       "array(23)"
      ]
     },
     "execution_count": 17,
     "metadata": {},
     "output_type": "execute_result"
    }
   ],
   "source": [
    "a = np.array(23)\n",
    "a"
   ]
  },
  {
   "cell_type": "code",
   "execution_count": 18,
   "id": "69efdf62",
   "metadata": {},
   "outputs": [
    {
     "data": {
      "text/plain": [
       "array([3, 6, 5, 0, 1, 9])"
      ]
     },
     "execution_count": 18,
     "metadata": {},
     "output_type": "execute_result"
    }
   ],
   "source": [
    "b = np.array([3,6,5,0,1,9])\n",
    "b"
   ]
  },
  {
   "cell_type": "code",
   "execution_count": 19,
   "id": "e2dfe38e",
   "metadata": {},
   "outputs": [
    {
     "data": {
      "text/plain": [
       "array([[1, 2, 3],\n",
       "       [4, 5, 6]])"
      ]
     },
     "execution_count": 19,
     "metadata": {},
     "output_type": "execute_result"
    }
   ],
   "source": [
    "c = np.array([[1,2,3],[4,5,6]])\n",
    "c"
   ]
  },
  {
   "cell_type": "code",
   "execution_count": 20,
   "id": "606f1bdb",
   "metadata": {},
   "outputs": [
    {
     "data": {
      "text/plain": [
       "array([[1, 2, 3],\n",
       "       [4, 5, 6],\n",
       "       [7, 8, 9]])"
      ]
     },
     "execution_count": 20,
     "metadata": {},
     "output_type": "execute_result"
    }
   ],
   "source": [
    "d = np.array([[1,2,3],[4,5,6],[7,8,9]])\n",
    "d"
   ]
  },
  {
   "cell_type": "code",
   "execution_count": 27,
   "id": "ea61e7c6",
   "metadata": {},
   "outputs": [
    {
     "name": "stdout",
     "output_type": "stream",
     "text": [
      " 0 \n",
      " 1 \n",
      " 2 \n",
      " 2\n"
     ]
    }
   ],
   "source": [
    "print(\"\",a.ndim, \"\\n\", b.ndim, \"\\n\", c.ndim, \"\\n\", d.ndim)\n",
    "\n",
    "# oluşturduğumuz dizi boyutlarını gözlemleyelim."
   ]
  },
  {
   "cell_type": "code",
   "execution_count": 13,
   "id": "9ffbc994",
   "metadata": {},
   "outputs": [
    {
     "data": {
      "text/plain": [
       "array([0., 0., 0., 0., 0.])"
      ]
     },
     "execution_count": 13,
     "metadata": {},
     "output_type": "execute_result"
    }
   ],
   "source": [
    "np.zeros(5)"
   ]
  },
  {
   "cell_type": "code",
   "execution_count": 15,
   "id": "519b5ef5",
   "metadata": {},
   "outputs": [
    {
     "data": {
      "text/plain": [
       "array([1., 1., 1., 1., 1., 1., 1.])"
      ]
     },
     "execution_count": 15,
     "metadata": {},
     "output_type": "execute_result"
    }
   ],
   "source": [
    "np.ones(7)"
   ]
  },
  {
   "cell_type": "code",
   "execution_count": 29,
   "id": "d764c3d2",
   "metadata": {},
   "outputs": [
    {
     "data": {
      "text/plain": [
       "array([0, 1, 2, 3, 4, 5, 6, 7, 8, 9])"
      ]
     },
     "execution_count": 29,
     "metadata": {},
     "output_type": "execute_result"
    }
   ],
   "source": [
    "np.arange(10)  # Bir dizi üretir."
   ]
  },
  {
   "cell_type": "markdown",
   "id": "643cabb4",
   "metadata": {},
   "source": [
    "* Numpy sayısal hesaplamalar için kullanıldığı için özel olarak bir tip belirtilmediği sürece varsayılan olarak **float64** tipinde veriler üretir. Veri tipini belirtmek için **dtype** özelliğini kullanıyoruz."
   ]
  },
  {
   "cell_type": "code",
   "execution_count": 31,
   "id": "8cee6b7f",
   "metadata": {},
   "outputs": [
    {
     "data": {
      "text/plain": [
       "array([1, 2, 3])"
      ]
     },
     "execution_count": 31,
     "metadata": {},
     "output_type": "execute_result"
    }
   ],
   "source": [
    "dizi = np.array([1,2,3], dtype=int)\n",
    "dizi"
   ]
  },
  {
   "cell_type": "code",
   "execution_count": 32,
   "id": "d47ec260",
   "metadata": {},
   "outputs": [
    {
     "data": {
      "text/plain": [
       "dtype('int32')"
      ]
     },
     "execution_count": 32,
     "metadata": {},
     "output_type": "execute_result"
    }
   ],
   "source": [
    "dizi.dtype"
   ]
  },
  {
   "cell_type": "markdown",
   "id": "72dcd738",
   "metadata": {},
   "source": [
    "* Dizinin veri tipini değiştirmek için **astype()** fonksiyonu kullanılır."
   ]
  },
  {
   "cell_type": "code",
   "execution_count": 34,
   "id": "afbf396c",
   "metadata": {},
   "outputs": [
    {
     "data": {
      "text/plain": [
       "array([1., 2., 3.])"
      ]
     },
     "execution_count": 34,
     "metadata": {},
     "output_type": "execute_result"
    }
   ],
   "source": [
    "dizi = dizi.astype(np.float64)\n",
    "dizi"
   ]
  },
  {
   "cell_type": "code",
   "execution_count": 35,
   "id": "506f9b46",
   "metadata": {},
   "outputs": [
    {
     "data": {
      "text/plain": [
       "dtype('float64')"
      ]
     },
     "execution_count": 35,
     "metadata": {},
     "output_type": "execute_result"
    }
   ],
   "source": [
    "dizi.dtype"
   ]
  },
  {
   "cell_type": "code",
   "execution_count": 41,
   "id": "d5e4d0c8",
   "metadata": {},
   "outputs": [
    {
     "data": {
      "text/plain": [
       "array([2, 1, 4, 3, 5, 6, 8, 9, 7])"
      ]
     },
     "execution_count": 41,
     "metadata": {},
     "output_type": "execute_result"
    }
   ],
   "source": [
    "arr = np.array([2,1,4,3,5,6,8,9,7])\n",
    "arr"
   ]
  },
  {
   "cell_type": "code",
   "execution_count": 42,
   "id": "b693537d",
   "metadata": {},
   "outputs": [
    {
     "data": {
      "text/plain": [
       "5"
      ]
     },
     "execution_count": 42,
     "metadata": {},
     "output_type": "execute_result"
    }
   ],
   "source": [
    "arr[4]"
   ]
  },
  {
   "cell_type": "code",
   "execution_count": 43,
   "id": "bd3b6388",
   "metadata": {},
   "outputs": [
    {
     "data": {
      "text/plain": [
       "array([4, 3, 5])"
      ]
     },
     "execution_count": 43,
     "metadata": {},
     "output_type": "execute_result"
    }
   ],
   "source": [
    "arr[2:5]"
   ]
  },
  {
   "cell_type": "code",
   "execution_count": 45,
   "id": "a4113a5d",
   "metadata": {},
   "outputs": [
    {
     "data": {
      "text/plain": [
       "array([0, 0, 0, 0, 5, 6, 8, 9, 7])"
      ]
     },
     "execution_count": 45,
     "metadata": {},
     "output_type": "execute_result"
    }
   ],
   "source": [
    "arr[:4] = 0\n",
    "arr"
   ]
  },
  {
   "cell_type": "code",
   "execution_count": 47,
   "id": "5d02297e",
   "metadata": {},
   "outputs": [
    {
     "data": {
      "text/plain": [
       "array([[2, 3, 4],\n",
       "       [1, 2, 3],\n",
       "       [4, 3, 5]])"
      ]
     },
     "execution_count": 47,
     "metadata": {},
     "output_type": "execute_result"
    }
   ],
   "source": [
    "arr2 = np.array([[2,3,4],[1,2,3],[4,3,5]])\n",
    "arr2"
   ]
  },
  {
   "cell_type": "code",
   "execution_count": 48,
   "id": "2bb543a0",
   "metadata": {},
   "outputs": [
    {
     "data": {
      "text/plain": [
       "array([2, 3, 4])"
      ]
     },
     "execution_count": 48,
     "metadata": {},
     "output_type": "execute_result"
    }
   ],
   "source": [
    "arr2[0]"
   ]
  },
  {
   "cell_type": "code",
   "execution_count": 50,
   "id": "da34b7ba",
   "metadata": {},
   "outputs": [
    {
     "data": {
      "text/plain": [
       "4"
      ]
     },
     "execution_count": 50,
     "metadata": {},
     "output_type": "execute_result"
    }
   ],
   "source": [
    "arr2[0][2]"
   ]
  },
  {
   "cell_type": "code",
   "execution_count": 51,
   "id": "df86228a",
   "metadata": {},
   "outputs": [
    {
     "data": {
      "text/plain": [
       "array([[2, 3, 4],\n",
       "       [1, 2, 3]])"
      ]
     },
     "execution_count": 51,
     "metadata": {},
     "output_type": "execute_result"
    }
   ],
   "source": [
    "arr2[0:2]"
   ]
  },
  {
   "cell_type": "code",
   "execution_count": 56,
   "id": "a184d76b",
   "metadata": {},
   "outputs": [
    {
     "data": {
      "text/plain": [
       "array([2, 3])"
      ]
     },
     "execution_count": 56,
     "metadata": {},
     "output_type": "execute_result"
    }
   ],
   "source": [
    "arr2[0,:2]  # 1.bileşenin (1. satır) 2. index e kadar ki değerlerini çek"
   ]
  },
  {
   "cell_type": "code",
   "execution_count": 57,
   "id": "b3b7117e",
   "metadata": {},
   "outputs": [
    {
     "data": {
      "text/plain": [
       "array([[2],\n",
       "       [1]])"
      ]
     },
     "execution_count": 57,
     "metadata": {},
     "output_type": "execute_result"
    }
   ],
   "source": [
    "arr2[:2,:1] # yatayda 0. ve 1. satır, dikeyde 0. kolon"
   ]
  },
  {
   "cell_type": "code",
   "execution_count": 58,
   "id": "2ae61682",
   "metadata": {},
   "outputs": [
    {
     "data": {
      "text/plain": [
       "array(['Ali', 'Veli', 'Ayşe', 'Ali'], dtype='<U4')"
      ]
     },
     "execution_count": 58,
     "metadata": {},
     "output_type": "execute_result"
    }
   ],
   "source": [
    "isimler = np.array([\"Ali\",\"Veli\",\"Ayşe\",\"Ali\"])\n",
    "isimler"
   ]
  },
  {
   "cell_type": "code",
   "execution_count": 59,
   "id": "53bba9a0",
   "metadata": {},
   "outputs": [
    {
     "data": {
      "text/plain": [
       "array([[ 0.06445832, -2.9707153 , -0.82911706],\n",
       "       [-0.16107443, -0.50543677, -0.72229288],\n",
       "       [-1.09322602,  1.05285038, -1.56668385],\n",
       "       [-0.55025872, -1.39465633,  0.10293488]])"
      ]
     },
     "execution_count": 59,
     "metadata": {},
     "output_type": "execute_result"
    }
   ],
   "source": [
    "veri = np.random.randn(4,3)\n",
    "veri"
   ]
  },
  {
   "cell_type": "code",
   "execution_count": 60,
   "id": "38aa9ba3",
   "metadata": {},
   "outputs": [
    {
     "data": {
      "text/plain": [
       "array([[ 0.06445832, -2.9707153 , -0.82911706],\n",
       "       [-0.55025872, -1.39465633,  0.10293488]])"
      ]
     },
     "execution_count": 60,
     "metadata": {},
     "output_type": "execute_result"
    }
   ],
   "source": [
    "# isimlerin verideki satırlara karşılık geldiğini farzedelim. Yani isimleri index gibi kullanalım.\n",
    "veri[isimler==\"Ali\"]  #Ali isimler dizisinde 0. ve 3. indexe karşılık geliyor. Verinin 0. ve 3. indexi"
   ]
  },
  {
   "cell_type": "code",
   "execution_count": 61,
   "id": "fb05986a",
   "metadata": {},
   "outputs": [
    {
     "data": {
      "text/plain": [
       "array([[-2.9707153 , -0.82911706],\n",
       "       [-1.39465633,  0.10293488]])"
      ]
     },
     "execution_count": 61,
     "metadata": {},
     "output_type": "execute_result"
    }
   ],
   "source": [
    "veri[isimler==\"Ali\", 1:]  # kolon bazında 1. indexden sonrakileri alır"
   ]
  },
  {
   "cell_type": "code",
   "execution_count": 62,
   "id": "e53d42d9",
   "metadata": {},
   "outputs": [
    {
     "data": {
      "text/plain": [
       "array([[-0.16107443, -0.50543677, -0.72229288],\n",
       "       [-1.09322602,  1.05285038, -1.56668385]])"
      ]
     },
     "execution_count": 62,
     "metadata": {},
     "output_type": "execute_result"
    }
   ],
   "source": [
    "veri[~(isimler==\"Ali\")]  # \"~\" işareti ile Ali ismine karşılık gelmeyen elemanları verir.\n",
    "\n",
    "# ~ ters işlemler için kullanılır."
   ]
  },
  {
   "cell_type": "code",
   "execution_count": 63,
   "id": "60af287c",
   "metadata": {},
   "outputs": [
    {
     "data": {
      "text/plain": [
       "array([[ 0.06445832, -2.9707153 , -0.82911706],\n",
       "       [-0.16107443, -0.50543677, -0.72229288],\n",
       "       [-0.55025872, -1.39465633,  0.10293488]])"
      ]
     },
     "execution_count": 63,
     "metadata": {},
     "output_type": "execute_result"
    }
   ],
   "source": [
    "sec = (isimler == \"Ali\") | (isimler == \"Veli\")\n",
    "veri[sec]"
   ]
  },
  {
   "cell_type": "code",
   "execution_count": 65,
   "id": "fbc83473",
   "metadata": {},
   "outputs": [
    {
     "data": {
      "text/plain": [
       "array([[0.06445832, 0.        , 0.        ],\n",
       "       [0.        , 0.        , 0.        ],\n",
       "       [0.        , 1.05285038, 0.        ],\n",
       "       [0.        , 0.        , 0.10293488]])"
      ]
     },
     "execution_count": 65,
     "metadata": {},
     "output_type": "execute_result"
    }
   ],
   "source": [
    "veri[veri<0] = 0  # veri içerisinde 0 dan küçük elemanlar yerine 0 değerini atar.\n",
    "veri"
   ]
  },
  {
   "cell_type": "code",
   "execution_count": 66,
   "id": "46881f24",
   "metadata": {},
   "outputs": [
    {
     "data": {
      "text/plain": [
       "array([[ 0,  1,  2,  3],\n",
       "       [ 4,  5,  6,  7],\n",
       "       [ 8,  9, 10, 11]])"
      ]
     },
     "execution_count": 66,
     "metadata": {},
     "output_type": "execute_result"
    }
   ],
   "source": [
    "dizi = np.arange(12).reshape(3,4) \n",
    "dizi\n",
    "\n",
    "# Önce 12 elemanlı bir dizi oluşturuyor sonra da bu diziyi 3 satır 4 sütundan oluşan\n",
    "# çok boyutlu bir diziye dönüştüüryoruz."
   ]
  },
  {
   "cell_type": "code",
   "execution_count": 67,
   "id": "5e0e6cb0",
   "metadata": {},
   "outputs": [
    {
     "data": {
      "text/plain": [
       "array([[ 0,  4,  8],\n",
       "       [ 1,  5,  9],\n",
       "       [ 2,  6, 10],\n",
       "       [ 3,  7, 11]])"
      ]
     },
     "execution_count": 67,
     "metadata": {},
     "output_type": "execute_result"
    }
   ],
   "source": [
    "dizi.T  # dizinin transpozunu verir. Transpoz: Satırlar ve sütunların yer değiştirme halidir."
   ]
  },
  {
   "cell_type": "code",
   "execution_count": 69,
   "id": "2db7ca0c",
   "metadata": {},
   "outputs": [
    {
     "data": {
      "text/plain": [
       "array([[ 80,  92, 104, 116],\n",
       "       [ 92, 107, 122, 137],\n",
       "       [104, 122, 140, 158],\n",
       "       [116, 137, 158, 179]])"
      ]
     },
     "execution_count": 69,
     "metadata": {},
     "output_type": "execute_result"
    }
   ],
   "source": [
    "# dizilerin matris çarpımı için dot() metodu kullanılır.\n",
    "\n",
    "np.dot(dizi.T, dizi)  # diziyi dizinin transpozu ile çarpar"
   ]
  },
  {
   "cell_type": "code",
   "execution_count": 70,
   "id": "6e5001b2",
   "metadata": {},
   "outputs": [
    {
     "data": {
      "text/plain": [
       "5.5"
      ]
     },
     "execution_count": 70,
     "metadata": {},
     "output_type": "execute_result"
    }
   ],
   "source": [
    "dizi.mean()"
   ]
  },
  {
   "cell_type": "code",
   "execution_count": 71,
   "id": "7a356bc7",
   "metadata": {},
   "outputs": [
    {
     "data": {
      "text/plain": [
       "66"
      ]
     },
     "execution_count": 71,
     "metadata": {},
     "output_type": "execute_result"
    }
   ],
   "source": [
    "dizi.sum()"
   ]
  },
  {
   "cell_type": "code",
   "execution_count": 74,
   "id": "fb985338",
   "metadata": {},
   "outputs": [
    {
     "data": {
      "text/plain": [
       "array([1.5, 5.5, 9.5])"
      ]
     },
     "execution_count": 74,
     "metadata": {},
     "output_type": "execute_result"
    }
   ],
   "source": [
    "dizi.mean(axis = 1)  # satırların ortalamasını verir."
   ]
  },
  {
   "cell_type": "code",
   "execution_count": 75,
   "id": "d587a645",
   "metadata": {},
   "outputs": [
    {
     "data": {
      "text/plain": [
       "array([4., 5., 6., 7.])"
      ]
     },
     "execution_count": 75,
     "metadata": {},
     "output_type": "execute_result"
    }
   ],
   "source": [
    "dizi.mean(axis = 0) # sütunların ortalamasını verir."
   ]
  },
  {
   "cell_type": "code",
   "execution_count": 76,
   "id": "8068f190",
   "metadata": {},
   "outputs": [
    {
     "data": {
      "text/plain": [
       "array([[ 0,  1,  2,  3],\n",
       "       [ 4,  5,  6,  7],\n",
       "       [ 8,  9, 10, 11]])"
      ]
     },
     "execution_count": 76,
     "metadata": {},
     "output_type": "execute_result"
    }
   ],
   "source": [
    "dizi.sort()  # dizi elemanları sıralanır.\n",
    "dizi"
   ]
  },
  {
   "cell_type": "code",
   "execution_count": 77,
   "id": "8e3bae52",
   "metadata": {},
   "outputs": [
    {
     "data": {
      "text/plain": [
       "array([1, 2, 3])"
      ]
     },
     "execution_count": 77,
     "metadata": {},
     "output_type": "execute_result"
    }
   ],
   "source": [
    "say = np.array([1,1,1,2,3])\n",
    "np.unique(say)  # tekrar eden elemanlardan sadece 1 ini alır."
   ]
  },
  {
   "cell_type": "code",
   "execution_count": 79,
   "id": "04af6e3c",
   "metadata": {},
   "outputs": [
    {
     "data": {
      "text/plain": [
       "array([0, 1, 2, 3, 4, 5, 6, 7, 8, 9])"
      ]
     },
     "execution_count": 79,
     "metadata": {},
     "output_type": "execute_result"
    }
   ],
   "source": [
    "dizi = np.arange(10)\n",
    "np.save(\"bir_dizi\", dizi)  # bir_dizi isminde çalışma dizinine kaydedilir.\n",
    "np.load(\"bir_dizi.npy\") # kaydettiğimiz dizi ekrana yazılır."
   ]
  },
  {
   "cell_type": "code",
   "execution_count": 80,
   "id": "72162cce",
   "metadata": {},
   "outputs": [
    {
     "name": "stdout",
     "output_type": "stream",
     "text": [
      "[42  2  3  4  5]\n",
      "[1 2 3 4 5]\n"
     ]
    }
   ],
   "source": [
    "arr = np.array([1, 2, 3, 4, 5])\n",
    "x = arr.copy()\n",
    "arr[0] = 42\n",
    "\n",
    "print(arr) \n",
    "print(x) \n",
    "\n",
    "# Kopya (Copy), orijinal dizide yapılan değişikliklerden etkilenmemektedir."
   ]
  },
  {
   "cell_type": "code",
   "execution_count": 81,
   "id": "d41a78df",
   "metadata": {},
   "outputs": [
    {
     "name": "stdout",
     "output_type": "stream",
     "text": [
      "[42  2  3  4  5]\n",
      "[42  2  3  4  5]\n"
     ]
    }
   ],
   "source": [
    "rr = np.array([1, 2, 3, 4, 5])\n",
    "x = arr.view()\n",
    "arr[0] = 42\n",
    "\n",
    "print(arr)  \n",
    "print(x) \n",
    "\n",
    "# Görünüm (View), orijinal dizide yapılan değişikliklerden ETKİLENMELİDİR."
   ]
  },
  {
   "cell_type": "markdown",
   "id": "a135a815",
   "metadata": {},
   "source": [
    "* Her NumPy dizisi, dizinin kendi verilerine sahip olması durumunda None döndüren base özelliğine sahiptir. Diğer bir deyişle, base nitelik orijinal nesneye atıfta bulunur."
   ]
  },
  {
   "cell_type": "code",
   "execution_count": 82,
   "id": "9d62cfbc",
   "metadata": {},
   "outputs": [
    {
     "name": "stdout",
     "output_type": "stream",
     "text": [
      "None\n",
      "[1 2 3 4 5]\n"
     ]
    }
   ],
   "source": [
    "arr = np.array([1, 2, 3, 4, 5])\n",
    "\n",
    "x = arr.copy()\n",
    "y = arr.view()\n",
    "\n",
    "print(x.base) \n",
    "print(y.base)\n",
    "\n",
    "# Özetle Kopya None değerini döndürür. Görünüm, orijinal diziyi döndürür."
   ]
  },
  {
   "cell_type": "markdown",
   "id": "c3db9a2d",
   "metadata": {},
   "source": [
    "* 1,2,3,4 değerlerine sahip bir vektörü ndmin kullanarak 5 boyutlu bir dizi şeklinde oluşturan ve son boyutun 4 değerine sahip olduğunu doğrulayan örnek bir kod yazalım:"
   ]
  },
  {
   "cell_type": "code",
   "execution_count": 83,
   "id": "1dedb78a",
   "metadata": {},
   "outputs": [
    {
     "name": "stdout",
     "output_type": "stream",
     "text": [
      "[[[[[1 2 3 4]]]]]\n",
      "shape:  (1, 1, 1, 1, 4)\n"
     ]
    }
   ],
   "source": [
    "arr = np.array([1, 2, 3, 4], ndmin=5)\n",
    "\n",
    "print(arr)\n",
    "print('shape: ', arr.shape)"
   ]
  },
  {
   "cell_type": "code",
   "execution_count": 85,
   "id": "1b7435de",
   "metadata": {},
   "outputs": [
    {
     "name": "stdout",
     "output_type": "stream",
     "text": [
      "[[[ 1  2]\n",
      "  [ 3  4]\n",
      "  [ 5  6]]\n",
      "\n",
      " [[ 7  8]\n",
      "  [ 9 10]\n",
      "  [11 12]]]\n"
     ]
    }
   ],
   "source": [
    "arr = np.array([1, 2, 3, 4, 5, 6, 7, 8, 9, 10, 11, 12])\n",
    "\n",
    "newarr = arr.reshape(2, 3, 2)\n",
    "\n",
    "print(newarr)\n",
    "\n",
    "# 2 tane 3x2 boyutunda dizi oluştur diyoruz."
   ]
  },
  {
   "cell_type": "code",
   "execution_count": 86,
   "id": "982d9cb1",
   "metadata": {},
   "outputs": [
    {
     "name": "stdout",
     "output_type": "stream",
     "text": [
      "[1 2 3 4 5 6 7 8]\n"
     ]
    }
   ],
   "source": [
    "# Şekillendirilen dizinin bir kopya mı yoksa bir görünüm mü olduğunu kontrol edebiliriz:\n",
    "\n",
    "arr = np.array([1, 2, 3, 4, 5, 6, 7, 8])\n",
    "\n",
    "print(arr.reshape(2, 4).base) \n",
    "\n",
    "# orijinal diziyi döndürür, bu nedenle bir (view) görünümdür."
   ]
  },
  {
   "cell_type": "markdown",
   "id": "d49fe7f8",
   "metadata": {},
   "source": [
    "* Düzleştirme dizisi, çok boyutlu bir diziyi 1 boyutlu bir diziye dönüştürmek anlamına gelir. Bunu yapmak için reshape(-1) kullanabiliriz."
   ]
  },
  {
   "cell_type": "code",
   "execution_count": 87,
   "id": "aae8c786",
   "metadata": {},
   "outputs": [
    {
     "name": "stdout",
     "output_type": "stream",
     "text": [
      "[1 2 3 4 5 6]\n"
     ]
    }
   ],
   "source": [
    "arr = np.array([[1, 2, 3], [4, 5, 6]])\n",
    "\n",
    "newarr = arr.reshape(-1)\n",
    "\n",
    "print(newarr)"
   ]
  },
  {
   "cell_type": "markdown",
   "id": "f04ef4f7",
   "metadata": {},
   "source": [
    "Yineleme (Iterating), öğeleri tek tek gözden geçirmek anlamına gelir. Numpy’deki çok boyutlu dizilerle uğraşırken, bunu python döngüsünün temel for döngüsünü kullanarak yapabiliriz. Tek boyutlu bir dizi üzerinde yinelersek, her bir öğeden birer birer geçecektir."
   ]
  },
  {
   "cell_type": "code",
   "execution_count": 88,
   "id": "5b984c47",
   "metadata": {},
   "outputs": [
    {
     "name": "stdout",
     "output_type": "stream",
     "text": [
      "1\n",
      "2\n",
      "3\n"
     ]
    }
   ],
   "source": [
    "arr = np.array([1, 2, 3])\n",
    "\n",
    "for x in arr:\n",
    "  print(x)"
   ]
  },
  {
   "cell_type": "code",
   "execution_count": 89,
   "id": "0fd33d60",
   "metadata": {},
   "outputs": [
    {
     "name": "stdout",
     "output_type": "stream",
     "text": [
      "[1 2 3]\n",
      "[4 5 6]\n"
     ]
    }
   ],
   "source": [
    "arr = np.array([[1, 2, 3], [4, 5, 6]])\n",
    "\n",
    "for x in arr:\n",
    "  print(x)"
   ]
  },
  {
   "cell_type": "code",
   "execution_count": 90,
   "id": "70f98645",
   "metadata": {},
   "outputs": [
    {
     "name": "stdout",
     "output_type": "stream",
     "text": [
      "1\n",
      "2\n",
      "4\n",
      "5\n"
     ]
    }
   ],
   "source": [
    "arr = np.array([[1, 2], [4, 5]])\n",
    "\n",
    "for x in arr:\n",
    "  for y in x:\n",
    "    print(y)"
   ]
  },
  {
   "cell_type": "code",
   "execution_count": 92,
   "id": "91d3fcb5",
   "metadata": {},
   "outputs": [
    {
     "name": "stdout",
     "output_type": "stream",
     "text": [
      "[[1 2 3]\n",
      " [4 5 6]] \n",
      "\n",
      "[[ 7  8  9]\n",
      " [10 11 12]] \n",
      "\n"
     ]
    }
   ],
   "source": [
    "arr = np.array([[[1, 2, 3], [4, 5, 6]], [[7, 8, 9], [10, 11, 12]]])\n",
    "\n",
    "for x in arr:\n",
    "  print(x , \"\\n\")"
   ]
  },
  {
   "cell_type": "code",
   "execution_count": 93,
   "id": "3ddb53b8",
   "metadata": {},
   "outputs": [
    {
     "name": "stdout",
     "output_type": "stream",
     "text": [
      "1\n",
      "2\n",
      "3\n",
      "4\n",
      "5\n",
      "6\n",
      "7\n",
      "8\n"
     ]
    }
   ],
   "source": [
    "arr = np.array([[[1, 2], [3, 4]], [[5, 6], [7, 8]]])\n",
    "\n",
    "for x in arr:\n",
    "  for y in x:\n",
    "    for z in y:\n",
    "      print(z)"
   ]
  },
  {
   "cell_type": "markdown",
   "id": "01c0e075",
   "metadata": {},
   "source": [
    "* **nditer()** işlevi, çok temelden çok ileri düzey yinelemelere kadar kullanılabilen bir yardımcı işlevdir. Yinelemede karşılaştığımız bazı temel sorunları çözer. \n",
    "\n",
    "    for döngülerinde, bir dizinin her skaleri için n adet for döngüsü kullanmamız gerekir ki bu da çok yüksek boyutsallığa sahip diziler için yazmayı zorlaştırır. Fakat nditer() kullanarak bu işlemi basitçe gerçekleştirebiliriz. "
   ]
  },
  {
   "cell_type": "code",
   "execution_count": 94,
   "id": "4b854764",
   "metadata": {},
   "outputs": [
    {
     "name": "stdout",
     "output_type": "stream",
     "text": [
      "1\n",
      "2\n",
      "3\n",
      "4\n",
      "5\n",
      "6\n",
      "7\n",
      "8\n"
     ]
    }
   ],
   "source": [
    "arr = np.array([[[1, 2], [3, 4]], [[5, 6], [7, 8]]])\n",
    "\n",
    "for x in np.nditer(arr):\n",
    "  print(x)"
   ]
  },
  {
   "cell_type": "markdown",
   "id": "9ecdae07",
   "metadata": {},
   "source": [
    "* **op_dtypes** argümanını kullanarak yineleme sırasında öğelerin veri türünü değiştirmek için beklenen veri türünü iletebiliriz.\n",
    "\n",
    "    NumPy, in-place veri türünü (öğenin dizide olduğu yerde) değiştirmez, bu nedenle bu eylemi gerçekleştirmek için başka bir alana ihtiyaç duyar, bu fazladan boşluğa tampon adı verilir ve onu nditer() içinde etkinleştirmek için flags=['buffered'] parametresini kullanabiliriz."
   ]
  },
  {
   "cell_type": "code",
   "execution_count": 95,
   "id": "9478b02d",
   "metadata": {},
   "outputs": [
    {
     "name": "stdout",
     "output_type": "stream",
     "text": [
      "b'1'\n",
      "b'2'\n",
      "b'3'\n"
     ]
    }
   ],
   "source": [
    "arr = np.array([1, 2, 3])\n",
    "\n",
    "for x in np.nditer(arr, flags=['buffered'], op_dtypes=['S']):\n",
    "  print(x)"
   ]
  },
  {
   "cell_type": "markdown",
   "id": "54d3aa41",
   "metadata": {},
   "source": [
    "## 10.4 Farklı Adım Boyutuyla Yineleme"
   ]
  },
  {
   "cell_type": "code",
   "execution_count": null,
   "id": "f5e7c51b",
   "metadata": {},
   "outputs": [],
   "source": []
  }
 ],
 "metadata": {
  "kernelspec": {
   "display_name": "Python 3 (ipykernel)",
   "language": "python",
   "name": "python3"
  },
  "language_info": {
   "codemirror_mode": {
    "name": "ipython",
    "version": 3
   },
   "file_extension": ".py",
   "mimetype": "text/x-python",
   "name": "python",
   "nbconvert_exporter": "python",
   "pygments_lexer": "ipython3",
   "version": "3.9.12"
  }
 },
 "nbformat": 4,
 "nbformat_minor": 5
}
