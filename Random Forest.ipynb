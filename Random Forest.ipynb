{
 "cells": [
  {
   "cell_type": "markdown",
   "id": "451d0f77",
   "metadata": {},
   "source": [
    "Rastgele orman, birden fazla karar ağacını oluşturur ve daha doğru ve istikrarlı bir tahmin elde etmek için onları birleştirir.\n",
    "Rastgele orman, hiper parametre kestirimi yapılmadan da iyi sonuçlar vermesi ve hem regresyon hem de sınıflandırma problemlerine uygulanabilir olmasından dolayı popüler makine öğrenmesi modellerinden biridir. Geleneksel yöntemlerden biri olan karar ağaçlarının en büyük problemlerinden biri aşırı öğrenme-veriyi ezberlemedir (overfitting). Random forest modeli bu problemi çözmek için hem veri setinden hem de öznitelik setinden rassal olarak 10'larca 100'lerce farklı alt-setler seçiyor ve bunları eğitiyor. Bu yöntemle 100'lerce karar ağacı oluşturuluyor ve her bir karar ağacı bireysel olarak tahminde bulunuyor. Günün sonunda problemimiz regresyonsa karar ağaçlarının tahminlerinin ortalamasını problemimiz sınıflandırmaysa tahminler arasında en çok oy alanı seçiyoruz.\n",
    "\n",
    "Rastgele orman algoritması tarafından üretilen 'orman', torbalama veya önyükleme (bagging or bootstrap) toplama yoluyla eğitilir. Torbalama, makine öğrenimi algoritmalarının doğruluğunu artıran bir topluluk meta algoritmasıdır.\n",
    "\n",
    "Rastgele orman modelinde farklı veri setleri üzerinde eğitim gerçekleştiği için varyans, diğer bir deyişle karar ağaçlarının en büyük problemlerinden olan overfitting azalır. Ayrıca bootstrap yöntemiyle oluşturduğumuz alt-veri kümelerinde outlier bulunma şansını da düşürmüş oluruz.\n",
    "<div class=\"alert alert-block alert-danger\"><b>\n",
    "Bootstrap metodu  mevcut veri setinden çok büyük veri setleri üretmek üzere yeniden örnekleme yapmaktır. Böylece küçük sayıdaki veri setleri için de çeşitli istatistikler belirlenebilmektedir. Bootstrap metodu, yoğun matematik formüllerden uzak, sınırlı varsayımlara sahip, anlaşılması ve kullanılması oldukça kolay bir metoddur. Bu yöntem, özellikle bilinen istatistiksel metodların ve varsayımların yetersiz kaldığı durumlarda güvenilir sonuçlar vermektedir. Bootstrap metodu, olasılıkta olduğu\n",
    "gibi güven aralıkları, hipotez testi ve regresyon analizinde kullanılmaktadır. Random Forests ve Stochastic Gradient Boosting gibi makine öğrenmesi algoritmalarında da kullanılır.\n",
    "</b></div>\n",
    "\n",
    "Random forest modelinin diğer bir özelliği bize özniteliklerin ne kadar önemli olduğunu vermesi. (Bir özniteliğin önemli olması demek o özniteliğin bağımlı değişkendeki varyansın açıklanmasına ne kadar katkı yaptığıyla alakalı.) Random forest algoritmasına x sayıda öznitelik verip en faydalı y tanesini seçmesini isteyebiliriz ve istersek bu bilgiyi istediğimiz başka bir modelde kullanabiliriz.\n",
    "\n",
    "**Rastgele Orman Algoritmasının Özellikleri**\n",
    "* Karar ağacı algoritmasından daha doğru.\n",
    "* Kayıp verileri işlemenin etkili bir yolunu sağlar.\n",
    "* Hiper parametre ayarlaması olmadan makul bir tahmin üretebilir.\n",
    "* Karar ağaçlarında aşırı uyum sorununu çözer.\n",
    "* Her rastgele orman ağacında, düğümün ayrılma noktasında rastgele bir özellik alt kümesi seçilir.\n",
    "\n",
    "Rastgele orman, veriler çok seyrek olduğunda iyi sonuçlar vermez. Bu durumda, özelliklerin alt kümesi ve önyüklenmiş örnek, değişmez bir alan üretecektir. Bu, sonucu etkileyecek verimsiz bölünmelere yol açacaktır.\n",
    "\n",
    "### Rastgele Orman algoritması nasıl çalışır?\n",
    "\n",
    "Rastgele Orman algoritmasında iki aşama bulunmaktadır, birisi Rastgele Orman oluşturulmasıdır, diğeri ise ilk aşamada oluşturulan Rastgele Orman sınıflandırıcısı (classifier) üzerinden tahmin yapmaktır.\n",
    "\n",
    "Öncelikle Rastgele Orman oluşturma Sözde Koduna(Pseudo Code) bakalım:\n",
    "\n",
    "1- Toplam “M” özelliklerden rastgele olarak “K” özelliklerini seçin. (K<M olmalı)\n",
    "\n",
    "2- “K” özellikleri arasından en iyi ayırma noktasını kullanarak “d” düğümünü hesaplayın.\n",
    "\n",
    "3- En iyi ayırmayı kullanarak düğümü çocuk düğümlerine ayırın.\n",
    "\n",
    "4- “L” düğüm sayısına ulaşılana kadar 1. ve 3. Admınları tekrarlayın.\n",
    "\n",
    "5- “n” adet sayı ağacı oluşturmak için “n” kere 1. ve 4. Adımları tekrarlayın.\n",
    "\n",
    "\n",
    "Bir sonraki aşamada ise, Rastgele Orman sınıflandırıcısı oluşturulduğunda, tahmin yapacağız.\n",
    "\n",
    "1- Test özelliklerini alınır ve sonuçları tahmin etmek ve tahmin edilen sonucu (hedefi) saklamak için rastgele oluşturulmuş karar ağacının kurallarını kullanılır.\n",
    "\n",
    "2- Tahmin edilen her hedef için oylar hesaplanır.\n",
    "\n",
    "3- Rastgele Orman algoritmasından son tahmin olarak yüksek oy olan tahmin seçilir"
   ]
  },
  {
   "cell_type": "markdown",
   "id": "8a27e6d9",
   "metadata": {},
   "source": [
    "**Kaynakça:**\n",
    "* https://medium.com/data-science-tr/makine-%C3%B6%C4%9Frenmesi-dersleri-5-bagging-ve-random-forest-2f803cf21e07\n",
    "* https://devhunteryz.wordpress.com/2018/09/20/rastgele-ormanrandom-forest-algoritmasi/comment-page-1/\n",
    "* https://www.section.io/engineering-education/introduction-to-random-forest-in-machine-learning/"
   ]
  },
  {
   "cell_type": "code",
   "execution_count": null,
   "id": "22ac60a4",
   "metadata": {},
   "outputs": [],
   "source": []
  }
 ],
 "metadata": {
  "kernelspec": {
   "display_name": "Python 3 (ipykernel)",
   "language": "python",
   "name": "python3"
  },
  "language_info": {
   "codemirror_mode": {
    "name": "ipython",
    "version": 3
   },
   "file_extension": ".py",
   "mimetype": "text/x-python",
   "name": "python",
   "nbconvert_exporter": "python",
   "pygments_lexer": "ipython3",
   "version": "3.9.12"
  }
 },
 "nbformat": 4,
 "nbformat_minor": 5
}
